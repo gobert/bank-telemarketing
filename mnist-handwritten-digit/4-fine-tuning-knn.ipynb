{
 "cells": [
  {
   "cell_type": "code",
   "execution_count": 2,
   "metadata": {},
   "outputs": [],
   "source": [
    "import numpy as np\n",
    "np.random.seed(42)"
   ]
  },
  {
   "cell_type": "markdown",
   "metadata": {},
   "source": [
    "# 1. Import data"
   ]
  },
  {
   "cell_type": "code",
   "execution_count": 3,
   "metadata": {},
   "outputs": [],
   "source": [
    "from sklearn.datasets import fetch_mldata\n",
    "\n",
    "mnist = fetch_mldata('MNIST original')\n",
    "X, y = mnist['data'], mnist['target']"
   ]
  },
  {
   "cell_type": "markdown",
   "metadata": {},
   "source": [
    "# 2. Split test set and train set"
   ]
  },
  {
   "cell_type": "code",
   "execution_count": 4,
   "metadata": {},
   "outputs": [],
   "source": [
    "X_train, X_test, y_train, y_test = X[:60000], X[60000:], y[:60000], y[60000:]\n",
    "\n",
    "shuffle_index = np.random.permutation(60000)\n",
    "X_train, y_train = X_train[shuffle_index], y_train[shuffle_index]"
   ]
  },
  {
   "cell_type": "markdown",
   "metadata": {},
   "source": [
    "## 3.3 K Nearest Neighbors Classification"
   ]
  },
  {
   "cell_type": "code",
   "execution_count": 5,
   "metadata": {},
   "outputs": [
    {
     "data": {
      "text/plain": [
       "KNeighborsClassifier(algorithm='auto', leaf_size=30, metric='minkowski',\n",
       "           metric_params=None, n_jobs=1, n_neighbors=5, p=2,\n",
       "           weights='uniform')"
      ]
     },
     "execution_count": 5,
     "metadata": {},
     "output_type": "execute_result"
    }
   ],
   "source": [
    "from sklearn.neighbors import KNeighborsClassifier\n",
    "from sklearn.model_selection import cross_val_predict, KFold\n",
    "\n",
    "knn_clf = KNeighborsClassifier()\n",
    "knn_clf.fit(X_train, y_train)"
   ]
  },
  {
   "cell_type": "markdown",
   "metadata": {},
   "source": [
    "## 3.4 Fine tuning weights & algorithm"
   ]
  },
  {
   "cell_type": "code",
   "execution_count": 6,
   "metadata": {},
   "outputs": [
    {
     "name": "stdout",
     "output_type": "stream",
     "text": [
      "nan 0.020496219214783288 {'weights': 'uniform', 'algorithm': 'ball_tree'}\n",
      "nan 0.01303648728951759 {'weights': 'distance', 'algorithm': 'ball_tree'}\n",
      "nan 0.020496219214783288 {'weights': 'uniform', 'algorithm': 'kd_tree'}\n",
      "nan 0.01303648728951759 {'weights': 'distance', 'algorithm': 'kd_tree'}\n"
     ]
    },
    {
     "name": "stderr",
     "output_type": "stream",
     "text": [
      "/Users/geoffroygobert/anaconda/lib/python3.5/site-packages/ipykernel/__main__.py:17: RuntimeWarning: invalid value encountered in sqrt\n"
     ]
    }
   ],
   "source": [
    "from sklearn.model_selection import RandomizedSearchCV\n",
    "from scipy.stats import randint as sp_randint\n",
    "\n",
    "params_grid = {\n",
    "                \"weights\": [\"uniform\", \"distance\"],\n",
    "                \"algorithm\": [\"ball_tree\", \"kd_tree\"]\n",
    "              }\n",
    "\n",
    "\n",
    "rand_search = RandomizedSearchCV(knn_clf, params_grid, n_iter=4, cv=2, scoring='accuracy', n_jobs=-1)\n",
    "rand_search.fit(X_train, y_train)\n",
    "\n",
    "# Display the results of the RandomizedSearch\n",
    "cvres = rand_search.cv_results_\n",
    "for mean_score, std_score, params in zip(cvres['mean_test_score'], cvres['std_test_score'], cvres['params']):\n",
    "    print(np.sqrt(mean_score), np.sqrt(std_score), params)"
   ]
  },
  {
   "cell_type": "markdown",
   "metadata": {},
   "source": [
    "Best is {'weights': 'distance', 'algorithm': 'kd_tree'}\n",
    "Distance than  has a few biggger accuracy than uniform on test set: 96.71% > 96.57% and a better accuracy 00.02% vs 00.04%\n",
    "And the algorithm kd_tree is faster than ball_tree  35.46013749 vs 45.2507925\n",
    "\n",
    "## 3.5 Fine tuning n_neighbors & leaf_size"
   ]
  },
  {
   "cell_type": "code",
   "execution_count": null,
   "metadata": {},
   "outputs": [],
   "source": [
    "from sklearn.model_selection import RandomizedSearchCV\n",
    "from scipy.stats import randint as sp_randint\n",
    "\n",
    "params_grid = {\n",
    "                \"n_neighbors\": sp_randint(1, 20),\n",
    "                \"leaf_size\": sp_randint(10, 90),\n",
    "                \"weights\": [\"distance\"],\n",
    "                \"algorithm\": [\"kd_tree\"]\n",
    "              }\n",
    "\n",
    "\n",
    "rand_search = RandomizedSearchCV(knn_clf, params_grid, n_iter=20, cv=3, scoring='accuracy', n_jobs=-1)\n",
    "rand_search.fit(X_train, y_train)\n",
    "\n",
    "# Display the results of the RandomizedSearch\n",
    "cvres = rand_search.cv_results_\n",
    "for mean_score, std_score, params in zip(cvres['mean_test_score'], cvres['std_test_score'], cvres['params']):\n",
    "    print(np.sqrt(mean_score), np.sqrt(std_score), params)"
   ]
  },
  {
   "cell_type": "markdown",
   "metadata": {},
   "source": [
    "The accuracy decreases when **n_neighbors** increase ; Best value would be n_neighbors = 2. **Leaf size** does not seem to impact the accuracy but the time. "
   ]
  }
 ],
 "metadata": {
  "anaconda-cloud": {},
  "kernelspec": {
   "display_name": "Python [default]",
   "language": "python",
   "name": "python3"
  },
  "language_info": {
   "codemirror_mode": {
    "name": "ipython",
    "version": 3
   },
   "file_extension": ".py",
   "mimetype": "text/x-python",
   "name": "python",
   "nbconvert_exporter": "python",
   "pygments_lexer": "ipython3",
   "version": "3.5.4"
  }
 },
 "nbformat": 4,
 "nbformat_minor": 2
}
