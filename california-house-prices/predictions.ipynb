{
 "cells": [
  {
   "cell_type": "code",
   "execution_count": 2,
   "metadata": {
    "collapsed": true
   },
   "outputs": [],
   "source": [
    "from utils import DataFrameSelector, CategoricalEncoder\n",
    "import pandas as pd\n",
    "import numpy as np\n",
    "\n",
    "np.random.seed(42)\n",
    "\n",
    "df = pd.read_csv(\"./housing.csv\")"
   ]
  },
  {
   "cell_type": "markdown",
   "metadata": {},
   "source": [
    "# 1. Features Engineering\n",
    "Divide by 1.5 to limit the number of income categories"
   ]
  },
  {
   "cell_type": "code",
   "execution_count": 3,
   "metadata": {
    "collapsed": true
   },
   "outputs": [],
   "source": [
    "df[\"income_cat\"] = np.ceil(df[\"median_income\"] / 1.5)\n",
    "df[\"income_cat\"].where(df[\"income_cat\"] < 5, 5.0, inplace=True) # Label those above 5 as 5"
   ]
  },
  {
   "cell_type": "markdown",
   "metadata": {},
   "source": [
    "Create new features:\n",
    "- rooms_per_household,\n",
    "- population_per_household,\n",
    "- bedrooms_per_room"
   ]
  },
  {
   "cell_type": "code",
   "execution_count": 4,
   "metadata": {
    "collapsed": true
   },
   "outputs": [],
   "source": [
    "from sklearn.base import BaseEstimator, TransformerMixin\n",
    "\n",
    "rooms_ix, bedrooms_ix, population_ix, household_ix = 3, 4, 5, 6\n",
    "\n",
    "class CombinedAttributesAdder(BaseEstimator, TransformerMixin):\n",
    "    def __init__(self, add_bedrooms_per_room = True): # no *args or **kargs\n",
    "        self.add_bedrooms_per_room = add_bedrooms_per_room\n",
    "    def fit(self, X, y=None):\n",
    "        return self  # nothing else to do\n",
    "    def transform(self, X, y=None):\n",
    "        rooms_per_household = X[:, rooms_ix] / X[:, household_ix]\n",
    "        population_per_household = X[:, population_ix] / X[:, household_ix]\n",
    "        if self.add_bedrooms_per_room:\n",
    "            bedrooms_per_room = X[:, bedrooms_ix] / X[:, rooms_ix]\n",
    "            return np.c_[X, rooms_per_household, population_per_household,\n",
    "                         bedrooms_per_room]\n",
    "        else:\n",
    "            return np.c_[X, rooms_per_household, population_per_household]"
   ]
  },
  {
   "cell_type": "code",
   "execution_count": 5,
   "metadata": {
    "collapsed": true
   },
   "outputs": [],
   "source": [
    "df_cat = df['ocean_proximity']\n",
    "df_num = df.drop('ocean_proximity', axis=1).drop('median_house_value', axis=1)"
   ]
  },
  {
   "cell_type": "markdown",
   "metadata": {},
   "source": [
    "# 2. Cleaning the data"
   ]
  },
  {
   "cell_type": "code",
   "execution_count": 6,
   "metadata": {
    "collapsed": true
   },
   "outputs": [],
   "source": [
    "from sklearn.pipeline import Pipeline\n",
    "from sklearn.preprocessing import StandardScaler\n",
    "from sklearn.preprocessing import Imputer\n",
    "\n",
    "num_attribs = list(df_num)\n",
    "cat_attribs = [\"ocean_proximity\"]\n",
    "y_attribs = [\"median_house_value\"]\n",
    "\n",
    "num_pipeline = Pipeline([\n",
    "        ('selector', DataFrameSelector(num_attribs)),\n",
    "        ('imputer', Imputer(strategy=\"median\")),\n",
    "        ('attribs_adder', CombinedAttributesAdder()),\n",
    "        ('std_scaler', StandardScaler()),\n",
    "    ])\n",
    "\n",
    "cat_pipeline = Pipeline([\n",
    "        ('selector', DataFrameSelector(cat_attribs)),\n",
    "        ('cat_encoder', CategoricalEncoder(encoding=\"onehot-dense\")),\n",
    "    ])\n",
    "\n",
    "y_pipeline =  Pipeline([\n",
    "    ('selector', DataFrameSelector(y_attribs)),\n",
    "    ('imputer', Imputer(strategy=\"median\"))\n",
    "]) # trick to not change the value. it should actually not have empty value \n",
    "\n",
    "\n",
    "from sklearn.pipeline import FeatureUnion\n",
    "full_pipeline = FeatureUnion(transformer_list=[\n",
    "        (\"num_pipeline\", num_pipeline),\n",
    "        (\"cat_pipeline\", cat_pipeline),\n",
    "        (\"y_pipeline\", y_pipeline),\n",
    "    ])"
   ]
  },
  {
   "cell_type": "code",
   "execution_count": 7,
   "metadata": {
    "collapsed": true
   },
   "outputs": [],
   "source": [
    "df_prepared = full_pipeline.fit_transform(df)"
   ]
  },
  {
   "cell_type": "code",
   "execution_count": 8,
   "metadata": {},
   "outputs": [
    {
     "data": {
      "text/html": [
       "<div>\n",
       "<table border=\"1\" class=\"dataframe\">\n",
       "  <thead>\n",
       "    <tr style=\"text-align: right;\">\n",
       "      <th></th>\n",
       "      <th>longitude</th>\n",
       "      <th>latitude</th>\n",
       "      <th>housing_median_age</th>\n",
       "      <th>total_rooms</th>\n",
       "      <th>total_bedrooms</th>\n",
       "      <th>population</th>\n",
       "      <th>households</th>\n",
       "      <th>median_income</th>\n",
       "      <th>income_cat</th>\n",
       "      <th>rooms_per_household</th>\n",
       "      <th>population_per_household</th>\n",
       "      <th>bedrooms_per_room</th>\n",
       "      <th>cat1</th>\n",
       "      <th>cat2</th>\n",
       "      <th>cat3</th>\n",
       "      <th>cat4</th>\n",
       "      <th>cat5</th>\n",
       "      <th>median_house_value</th>\n",
       "    </tr>\n",
       "  </thead>\n",
       "  <tbody>\n",
       "    <tr>\n",
       "      <th>0</th>\n",
       "      <td>-1.327835</td>\n",
       "      <td>1.052548</td>\n",
       "      <td>0.982143</td>\n",
       "      <td>-0.804819</td>\n",
       "      <td>-0.972476</td>\n",
       "      <td>-0.974429</td>\n",
       "      <td>-0.977033</td>\n",
       "      <td>2.344766</td>\n",
       "      <td>1.890128</td>\n",
       "      <td>0.628559</td>\n",
       "      <td>-0.049597</td>\n",
       "      <td>-1.029988</td>\n",
       "      <td>0.0</td>\n",
       "      <td>0.0</td>\n",
       "      <td>0.0</td>\n",
       "      <td>1.0</td>\n",
       "      <td>0.0</td>\n",
       "      <td>452600.0</td>\n",
       "    </tr>\n",
       "    <tr>\n",
       "      <th>1</th>\n",
       "      <td>-1.322844</td>\n",
       "      <td>1.043185</td>\n",
       "      <td>-0.607019</td>\n",
       "      <td>2.045890</td>\n",
       "      <td>1.357143</td>\n",
       "      <td>0.861439</td>\n",
       "      <td>1.669961</td>\n",
       "      <td>2.332238</td>\n",
       "      <td>1.890128</td>\n",
       "      <td>0.327041</td>\n",
       "      <td>-0.092512</td>\n",
       "      <td>-0.888897</td>\n",
       "      <td>0.0</td>\n",
       "      <td>0.0</td>\n",
       "      <td>0.0</td>\n",
       "      <td>1.0</td>\n",
       "      <td>0.0</td>\n",
       "      <td>358500.0</td>\n",
       "    </tr>\n",
       "    <tr>\n",
       "      <th>2</th>\n",
       "      <td>-1.332827</td>\n",
       "      <td>1.038503</td>\n",
       "      <td>1.856182</td>\n",
       "      <td>-0.535746</td>\n",
       "      <td>-0.827024</td>\n",
       "      <td>-0.820777</td>\n",
       "      <td>-0.843637</td>\n",
       "      <td>1.782699</td>\n",
       "      <td>1.890128</td>\n",
       "      <td>1.155620</td>\n",
       "      <td>-0.025843</td>\n",
       "      <td>-1.291686</td>\n",
       "      <td>0.0</td>\n",
       "      <td>0.0</td>\n",
       "      <td>0.0</td>\n",
       "      <td>1.0</td>\n",
       "      <td>0.0</td>\n",
       "      <td>352100.0</td>\n",
       "    </tr>\n",
       "    <tr>\n",
       "      <th>3</th>\n",
       "      <td>-1.337818</td>\n",
       "      <td>1.038503</td>\n",
       "      <td>1.856182</td>\n",
       "      <td>-0.624215</td>\n",
       "      <td>-0.719723</td>\n",
       "      <td>-0.766028</td>\n",
       "      <td>-0.733781</td>\n",
       "      <td>0.932968</td>\n",
       "      <td>0.941894</td>\n",
       "      <td>0.156966</td>\n",
       "      <td>-0.050329</td>\n",
       "      <td>-0.449613</td>\n",
       "      <td>0.0</td>\n",
       "      <td>0.0</td>\n",
       "      <td>0.0</td>\n",
       "      <td>1.0</td>\n",
       "      <td>0.0</td>\n",
       "      <td>341300.0</td>\n",
       "    </tr>\n",
       "    <tr>\n",
       "      <th>4</th>\n",
       "      <td>-1.337818</td>\n",
       "      <td>1.038503</td>\n",
       "      <td>1.856182</td>\n",
       "      <td>-0.462404</td>\n",
       "      <td>-0.612423</td>\n",
       "      <td>-0.759847</td>\n",
       "      <td>-0.629157</td>\n",
       "      <td>-0.012881</td>\n",
       "      <td>-0.006340</td>\n",
       "      <td>0.344711</td>\n",
       "      <td>-0.085616</td>\n",
       "      <td>-0.639087</td>\n",
       "      <td>0.0</td>\n",
       "      <td>0.0</td>\n",
       "      <td>0.0</td>\n",
       "      <td>1.0</td>\n",
       "      <td>0.0</td>\n",
       "      <td>342200.0</td>\n",
       "    </tr>\n",
       "  </tbody>\n",
       "</table>\n",
       "</div>"
      ],
      "text/plain": [
       "   longitude  latitude  housing_median_age  total_rooms  total_bedrooms  \\\n",
       "0  -1.327835  1.052548            0.982143    -0.804819       -0.972476   \n",
       "1  -1.322844  1.043185           -0.607019     2.045890        1.357143   \n",
       "2  -1.332827  1.038503            1.856182    -0.535746       -0.827024   \n",
       "3  -1.337818  1.038503            1.856182    -0.624215       -0.719723   \n",
       "4  -1.337818  1.038503            1.856182    -0.462404       -0.612423   \n",
       "\n",
       "   population  households  median_income  income_cat  rooms_per_household  \\\n",
       "0   -0.974429   -0.977033       2.344766    1.890128             0.628559   \n",
       "1    0.861439    1.669961       2.332238    1.890128             0.327041   \n",
       "2   -0.820777   -0.843637       1.782699    1.890128             1.155620   \n",
       "3   -0.766028   -0.733781       0.932968    0.941894             0.156966   \n",
       "4   -0.759847   -0.629157      -0.012881   -0.006340             0.344711   \n",
       "\n",
       "   population_per_household  bedrooms_per_room  cat1  cat2  cat3  cat4  cat5  \\\n",
       "0                 -0.049597          -1.029988   0.0   0.0   0.0   1.0   0.0   \n",
       "1                 -0.092512          -0.888897   0.0   0.0   0.0   1.0   0.0   \n",
       "2                 -0.025843          -1.291686   0.0   0.0   0.0   1.0   0.0   \n",
       "3                 -0.050329          -0.449613   0.0   0.0   0.0   1.0   0.0   \n",
       "4                 -0.085616          -0.639087   0.0   0.0   0.0   1.0   0.0   \n",
       "\n",
       "   median_house_value  \n",
       "0            452600.0  \n",
       "1            358500.0  \n",
       "2            352100.0  \n",
       "3            341300.0  \n",
       "4            342200.0  "
      ]
     },
     "execution_count": 8,
     "metadata": {},
     "output_type": "execute_result"
    }
   ],
   "source": [
    "# Transform df back to dataframe\n",
    "columns = df.columns\n",
    "new_num_columns = pd.Index(['rooms_per_household', 'population_per_household','bedrooms_per_room'])\n",
    "new_cat_columns = pd.Index(['cat1', 'cat2', 'cat3', 'cat4', 'cat5'])\n",
    "columns = columns.drop('median_house_value').drop('ocean_proximity').append(new_num_columns).append(new_cat_columns).append(pd.Index(['median_house_value']))\n",
    "                         \n",
    "df_prepared = pd.DataFrame(df_prepared, columns=columns)\n",
    "df_prepared.head()"
   ]
  },
  {
   "cell_type": "markdown",
   "metadata": {},
   "source": [
    "# 3. Split data into test & train sets"
   ]
  },
  {
   "cell_type": "code",
   "execution_count": 9,
   "metadata": {
    "collapsed": true
   },
   "outputs": [],
   "source": [
    "from sklearn.model_selection import train_test_split\n",
    "train_set, test_set = train_test_split(df_prepared, test_size=0.2, random_state=42)\n",
    "\n",
    "y_train = train_set['median_house_value'].copy()\n",
    "X_train = train_set.drop('median_house_value', axis=1)\n",
    "\n",
    "y_test = test_set['median_house_value'].copy()\n",
    "X_test = test_set.drop('median_house_value', axis=1)"
   ]
  },
  {
   "cell_type": "markdown",
   "metadata": {},
   "source": [
    "# 4. Creating model"
   ]
  },
  {
   "cell_type": "code",
   "execution_count": 51,
   "metadata": {},
   "outputs": [
    {
     "data": {
      "text/plain": [
       "RandomForestRegressor(bootstrap=True, criterion='mse', max_depth=None,\n",
       "           max_features='auto', max_leaf_nodes=None,\n",
       "           min_impurity_split=1e-07, min_samples_leaf=1,\n",
       "           min_samples_split=2, min_weight_fraction_leaf=0.0,\n",
       "           n_estimators=10, n_jobs=1, oob_score=False, random_state=None,\n",
       "           verbose=0, warm_start=False)"
      ]
     },
     "execution_count": 51,
     "metadata": {},
     "output_type": "execute_result"
    }
   ],
   "source": [
    "from sklearn.ensemble import RandomForestRegressor\n",
    "\n",
    "forest_reg = RandomForestRegressor()\n",
    "forest_reg.fit(X_train, y_train)"
   ]
  },
  {
   "cell_type": "markdown",
   "metadata": {},
   "source": [
    "# 5. Fine tuning model"
   ]
  },
  {
   "cell_type": "code",
   "execution_count": 54,
   "metadata": {},
   "outputs": [
    {
     "name": "stdout",
     "output_type": "stream",
     "text": [
      "(63112.899747570802, 11371.451300675057, {'max_features': 2, 'n_estimators': 3})\n",
      "(55816.275560515853, 9934.7916643230001, {'max_features': 2, 'n_estimators': 10})\n",
      "(52856.474970041723, 8698.2122478551009, {'max_features': 2, 'n_estimators': 30})\n",
      "(61745.880679843074, 9307.7706895185183, {'max_features': 3, 'n_estimators': 3})\n",
      "(54341.383728096909, 9217.7861967494755, {'max_features': 3, 'n_estimators': 10})\n",
      "(52079.555764536228, 7734.0236170931503, {'max_features': 3, 'n_estimators': 30})\n",
      "(60541.965821743579, 11297.887434091164, {'max_features': 6, 'n_estimators': 3})\n",
      "(52966.223340123201, 7927.3963767548075, {'max_features': 6, 'n_estimators': 10})\n",
      "(51056.497175355253, 4087.7113197090707, {'max_features': 6, 'n_estimators': 30})\n",
      "(59857.531347716453, 11649.640309935896, {'max_features': 8, 'n_estimators': 3})\n",
      "(52227.789787665992, 11522.216743466393, {'max_features': 8, 'n_estimators': 10})\n",
      "(50651.127884446243, 6636.9891609611641, {'max_features': 8, 'n_estimators': 30})\n",
      "(61997.681881928293, 10633.199905948901, {'max_features': 2, 'n_estimators': 3, 'bootstrap': False})\n",
      "(53755.03950311392, 9203.6691268386639, {'max_features': 2, 'n_estimators': 10, 'bootstrap': False})\n",
      "(60465.063805263875, 10668.708763046585, {'max_features': 3, 'n_estimators': 3, 'bootstrap': False})\n",
      "(53380.553120955919, 11573.56751342502, {'max_features': 3, 'n_estimators': 10, 'bootstrap': False})\n",
      "(59089.701047444803, 12320.577076959204, {'max_features': 4, 'n_estimators': 3, 'bootstrap': False})\n",
      "(52368.739044915004, 7907.5726927571041, {'max_features': 4, 'n_estimators': 10, 'bootstrap': False})\n"
     ]
    }
   ],
   "source": [
    "from sklearn.model_selection import GridSearchCV\n",
    "params_grid = [\n",
    "    {'n_estimators': [3, 10, 30], 'max_features': [2,3,6,8]},\n",
    "    {'bootstrap': [False], 'n_estimators': [3, 10], 'max_features': [2,3,4]},\n",
    "]\n",
    "\n",
    "grid_search = GridSearchCV(forest_reg, params_grid, cv=5, scoring='neg_mean_squared_error')\n",
    "grid_search.fit(X_train, y_train)\n",
    "\n",
    "# Display the results of the GridSearch\n",
    "cvres = grid_search.cv_results_\n",
    "for mean_score, std_score, params in zip(cvres['mean_test_score'], cvres['std_test_score'], cvres['params']):\n",
    "    print(np.sqrt(-mean_score), np.sqrt(std_score), params)"
   ]
  },
  {
   "cell_type": "code",
   "execution_count": 56,
   "metadata": {},
   "outputs": [],
   "source": [
    "forest_reg = grid_search.best_estimator_"
   ]
  }
 ],
 "metadata": {
  "kernelspec": {
   "display_name": "Python 2",
   "language": "python",
   "name": "python2"
  },
  "language_info": {
   "codemirror_mode": {
    "name": "ipython",
    "version": 2
   },
   "file_extension": ".py",
   "mimetype": "text/x-python",
   "name": "python",
   "nbconvert_exporter": "python",
   "pygments_lexer": "ipython2",
   "version": "2.7.13"
  }
 },
 "nbformat": 4,
 "nbformat_minor": 2
}
