{
 "cells": [
  {
   "cell_type": "code",
   "execution_count": 9,
   "metadata": {},
   "outputs": [],
   "source": [
    "from utils import DataFrameSelector, CategoricalEncoder\n",
    "import pandas as pd\n",
    "import numpy as np\n",
    "\n",
    "np.random.seed(42)\n",
    "\n",
    "df = pd.read_csv(\"./housing.csv\")"
   ]
  },
  {
   "cell_type": "markdown",
   "metadata": {},
   "source": [
    "# 1. Features Engineering\n",
    "Divide by 1.5 to limit the number of income categories"
   ]
  },
  {
   "cell_type": "code",
   "execution_count": 10,
   "metadata": {},
   "outputs": [],
   "source": [
    "df[\"income_cat\"] = np.ceil(df[\"median_income\"] / 1.5)\n",
    "df[\"income_cat\"].where(df[\"income_cat\"] < 5, 5.0, inplace=True) # Label those above 5 as 5"
   ]
  },
  {
   "cell_type": "markdown",
   "metadata": {},
   "source": [
    "Create new features:\n",
    "- rooms_per_household,\n",
    "- population_per_household,\n",
    "- bedrooms_per_room"
   ]
  },
  {
   "cell_type": "code",
   "execution_count": 11,
   "metadata": {},
   "outputs": [],
   "source": [
    "from sklearn.base import BaseEstimator, TransformerMixin\n",
    "\n",
    "rooms_ix, bedrooms_ix, population_ix, household_ix = 3, 4, 5, 6\n",
    "\n",
    "class CombinedAttributesAdder(BaseEstimator, TransformerMixin):\n",
    "    def __init__(self, add_bedrooms_per_room = True): # no *args or **kargs\n",
    "        self.add_bedrooms_per_room = add_bedrooms_per_room\n",
    "    def fit(self, X, y=None):\n",
    "        return self  # nothing else to do\n",
    "    def transform(self, X, y=None):\n",
    "        rooms_per_household = X[:, rooms_ix] / X[:, household_ix]\n",
    "        population_per_household = X[:, population_ix] / X[:, household_ix]\n",
    "        if self.add_bedrooms_per_room:\n",
    "            bedrooms_per_room = X[:, bedrooms_ix] / X[:, rooms_ix]\n",
    "            return np.c_[X, rooms_per_household, population_per_household,\n",
    "                         bedrooms_per_room]\n",
    "        else:\n",
    "            return np.c_[X, rooms_per_household, population_per_household]"
   ]
  },
  {
   "cell_type": "code",
   "execution_count": 12,
   "metadata": {},
   "outputs": [],
   "source": [
    "df_cat = df['ocean_proximity']\n",
    "df_num = df.drop('ocean_proximity', axis=1).drop('median_house_value', axis=1)"
   ]
  },
  {
   "cell_type": "markdown",
   "metadata": {},
   "source": [
    "# 2. Cleaning the data"
   ]
  },
  {
   "cell_type": "code",
   "execution_count": 13,
   "metadata": {},
   "outputs": [],
   "source": [
    "from sklearn.pipeline import Pipeline\n",
    "from sklearn.preprocessing import StandardScaler\n",
    "from sklearn.preprocessing import Imputer\n",
    "\n",
    "num_attribs = list(df_num)\n",
    "cat_attribs = [\"ocean_proximity\"]\n",
    "y_attribs = [\"median_house_value\"]\n",
    "\n",
    "num_pipeline = Pipeline([\n",
    "        ('selector', DataFrameSelector(num_attribs)),\n",
    "        ('imputer', Imputer(strategy=\"median\")),\n",
    "        ('attribs_adder', CombinedAttributesAdder()),\n",
    "        ('std_scaler', StandardScaler()),\n",
    "    ])\n",
    "\n",
    "cat_pipeline = Pipeline([\n",
    "        ('selector', DataFrameSelector(cat_attribs)),\n",
    "        ('cat_encoder', CategoricalEncoder(encoding=\"onehot-dense\")),\n",
    "    ])\n",
    "\n",
    "y_pipeline =  Pipeline([\n",
    "    ('selector', DataFrameSelector(y_attribs)),\n",
    "    ('imputer', Imputer(strategy=\"median\"))\n",
    "]) # trick to not change the value. it should actually not have empty value \n",
    "\n",
    "\n",
    "from sklearn.pipeline import FeatureUnion\n",
    "full_pipeline = FeatureUnion(transformer_list=[\n",
    "        (\"num_pipeline\", num_pipeline),\n",
    "        (\"cat_pipeline\", cat_pipeline),\n",
    "        (\"y_pipeline\", y_pipeline),\n",
    "    ])"
   ]
  },
  {
   "cell_type": "code",
   "execution_count": 14,
   "metadata": {},
   "outputs": [],
   "source": [
    "df_prepared = full_pipeline.fit_transform(df)"
   ]
  },
  {
   "cell_type": "code",
   "execution_count": 15,
   "metadata": {},
   "outputs": [
    {
     "data": {
      "text/html": [
       "<div>\n",
       "<table border=\"1\" class=\"dataframe\">\n",
       "  <thead>\n",
       "    <tr style=\"text-align: right;\">\n",
       "      <th></th>\n",
       "      <th>longitude</th>\n",
       "      <th>latitude</th>\n",
       "      <th>housing_median_age</th>\n",
       "      <th>total_rooms</th>\n",
       "      <th>total_bedrooms</th>\n",
       "      <th>population</th>\n",
       "      <th>households</th>\n",
       "      <th>median_income</th>\n",
       "      <th>income_cat</th>\n",
       "      <th>rooms_per_household</th>\n",
       "      <th>population_per_household</th>\n",
       "      <th>bedrooms_per_room</th>\n",
       "      <th>cat1</th>\n",
       "      <th>cat2</th>\n",
       "      <th>cat3</th>\n",
       "      <th>cat4</th>\n",
       "      <th>cat5</th>\n",
       "      <th>median_house_value</th>\n",
       "    </tr>\n",
       "  </thead>\n",
       "  <tbody>\n",
       "    <tr>\n",
       "      <th>0</th>\n",
       "      <td>-1.327835</td>\n",
       "      <td>1.052548</td>\n",
       "      <td>0.982143</td>\n",
       "      <td>-0.804819</td>\n",
       "      <td>-0.972476</td>\n",
       "      <td>-0.974429</td>\n",
       "      <td>-0.977033</td>\n",
       "      <td>2.344766</td>\n",
       "      <td>1.890128</td>\n",
       "      <td>0.628559</td>\n",
       "      <td>-0.049597</td>\n",
       "      <td>-1.029988</td>\n",
       "      <td>0.0</td>\n",
       "      <td>0.0</td>\n",
       "      <td>0.0</td>\n",
       "      <td>1.0</td>\n",
       "      <td>0.0</td>\n",
       "      <td>452600.0</td>\n",
       "    </tr>\n",
       "    <tr>\n",
       "      <th>1</th>\n",
       "      <td>-1.322844</td>\n",
       "      <td>1.043185</td>\n",
       "      <td>-0.607019</td>\n",
       "      <td>2.045890</td>\n",
       "      <td>1.357143</td>\n",
       "      <td>0.861439</td>\n",
       "      <td>1.669961</td>\n",
       "      <td>2.332238</td>\n",
       "      <td>1.890128</td>\n",
       "      <td>0.327041</td>\n",
       "      <td>-0.092512</td>\n",
       "      <td>-0.888897</td>\n",
       "      <td>0.0</td>\n",
       "      <td>0.0</td>\n",
       "      <td>0.0</td>\n",
       "      <td>1.0</td>\n",
       "      <td>0.0</td>\n",
       "      <td>358500.0</td>\n",
       "    </tr>\n",
       "    <tr>\n",
       "      <th>2</th>\n",
       "      <td>-1.332827</td>\n",
       "      <td>1.038503</td>\n",
       "      <td>1.856182</td>\n",
       "      <td>-0.535746</td>\n",
       "      <td>-0.827024</td>\n",
       "      <td>-0.820777</td>\n",
       "      <td>-0.843637</td>\n",
       "      <td>1.782699</td>\n",
       "      <td>1.890128</td>\n",
       "      <td>1.155620</td>\n",
       "      <td>-0.025843</td>\n",
       "      <td>-1.291686</td>\n",
       "      <td>0.0</td>\n",
       "      <td>0.0</td>\n",
       "      <td>0.0</td>\n",
       "      <td>1.0</td>\n",
       "      <td>0.0</td>\n",
       "      <td>352100.0</td>\n",
       "    </tr>\n",
       "    <tr>\n",
       "      <th>3</th>\n",
       "      <td>-1.337818</td>\n",
       "      <td>1.038503</td>\n",
       "      <td>1.856182</td>\n",
       "      <td>-0.624215</td>\n",
       "      <td>-0.719723</td>\n",
       "      <td>-0.766028</td>\n",
       "      <td>-0.733781</td>\n",
       "      <td>0.932968</td>\n",
       "      <td>0.941894</td>\n",
       "      <td>0.156966</td>\n",
       "      <td>-0.050329</td>\n",
       "      <td>-0.449613</td>\n",
       "      <td>0.0</td>\n",
       "      <td>0.0</td>\n",
       "      <td>0.0</td>\n",
       "      <td>1.0</td>\n",
       "      <td>0.0</td>\n",
       "      <td>341300.0</td>\n",
       "    </tr>\n",
       "    <tr>\n",
       "      <th>4</th>\n",
       "      <td>-1.337818</td>\n",
       "      <td>1.038503</td>\n",
       "      <td>1.856182</td>\n",
       "      <td>-0.462404</td>\n",
       "      <td>-0.612423</td>\n",
       "      <td>-0.759847</td>\n",
       "      <td>-0.629157</td>\n",
       "      <td>-0.012881</td>\n",
       "      <td>-0.006340</td>\n",
       "      <td>0.344711</td>\n",
       "      <td>-0.085616</td>\n",
       "      <td>-0.639087</td>\n",
       "      <td>0.0</td>\n",
       "      <td>0.0</td>\n",
       "      <td>0.0</td>\n",
       "      <td>1.0</td>\n",
       "      <td>0.0</td>\n",
       "      <td>342200.0</td>\n",
       "    </tr>\n",
       "  </tbody>\n",
       "</table>\n",
       "</div>"
      ],
      "text/plain": [
       "   longitude  latitude  housing_median_age  total_rooms  total_bedrooms  \\\n",
       "0  -1.327835  1.052548            0.982143    -0.804819       -0.972476   \n",
       "1  -1.322844  1.043185           -0.607019     2.045890        1.357143   \n",
       "2  -1.332827  1.038503            1.856182    -0.535746       -0.827024   \n",
       "3  -1.337818  1.038503            1.856182    -0.624215       -0.719723   \n",
       "4  -1.337818  1.038503            1.856182    -0.462404       -0.612423   \n",
       "\n",
       "   population  households  median_income  income_cat  rooms_per_household  \\\n",
       "0   -0.974429   -0.977033       2.344766    1.890128             0.628559   \n",
       "1    0.861439    1.669961       2.332238    1.890128             0.327041   \n",
       "2   -0.820777   -0.843637       1.782699    1.890128             1.155620   \n",
       "3   -0.766028   -0.733781       0.932968    0.941894             0.156966   \n",
       "4   -0.759847   -0.629157      -0.012881   -0.006340             0.344711   \n",
       "\n",
       "   population_per_household  bedrooms_per_room  cat1  cat2  cat3  cat4  cat5  \\\n",
       "0                 -0.049597          -1.029988   0.0   0.0   0.0   1.0   0.0   \n",
       "1                 -0.092512          -0.888897   0.0   0.0   0.0   1.0   0.0   \n",
       "2                 -0.025843          -1.291686   0.0   0.0   0.0   1.0   0.0   \n",
       "3                 -0.050329          -0.449613   0.0   0.0   0.0   1.0   0.0   \n",
       "4                 -0.085616          -0.639087   0.0   0.0   0.0   1.0   0.0   \n",
       "\n",
       "   median_house_value  \n",
       "0            452600.0  \n",
       "1            358500.0  \n",
       "2            352100.0  \n",
       "3            341300.0  \n",
       "4            342200.0  "
      ]
     },
     "execution_count": 15,
     "metadata": {},
     "output_type": "execute_result"
    }
   ],
   "source": [
    "# Transform df back to dataframe\n",
    "columns = df.columns\n",
    "new_num_columns = pd.Index(['rooms_per_household', 'population_per_household','bedrooms_per_room'])\n",
    "new_cat_columns = pd.Index(['cat1', 'cat2', 'cat3', 'cat4', 'cat5'])\n",
    "columns = columns.drop('median_house_value').drop('ocean_proximity').append(new_num_columns).append(new_cat_columns).append(pd.Index(['median_house_value']))\n",
    "                         \n",
    "df_prepared = pd.DataFrame(df_prepared, columns=columns)\n",
    "df_prepared.head()"
   ]
  },
  {
   "cell_type": "markdown",
   "metadata": {},
   "source": [
    "# 3. Split data into test & train sets"
   ]
  },
  {
   "cell_type": "code",
   "execution_count": 16,
   "metadata": {},
   "outputs": [],
   "source": [
    "from sklearn.model_selection import train_test_split\n",
    "train_set, test_set = train_test_split(df_prepared, test_size=0.2, random_state=42)\n",
    "\n",
    "y_train = train_set['median_house_value'].copy()\n",
    "X_train = train_set.drop('median_house_value', axis=1)\n",
    "\n",
    "y_test = test_set['median_house_value'].copy()\n",
    "X_test = test_set.drop('median_house_value', axis=1)"
   ]
  },
  {
   "cell_type": "markdown",
   "metadata": {},
   "source": [
    "# 4. Creating model"
   ]
  },
  {
   "cell_type": "code",
   "execution_count": 17,
   "metadata": {},
   "outputs": [
    {
     "data": {
      "text/plain": [
       "RandomForestRegressor(bootstrap=True, criterion='mse', max_depth=None,\n",
       "           max_features='auto', max_leaf_nodes=None,\n",
       "           min_impurity_split=1e-07, min_samples_leaf=1,\n",
       "           min_samples_split=2, min_weight_fraction_leaf=0.0,\n",
       "           n_estimators=10, n_jobs=1, oob_score=False, random_state=None,\n",
       "           verbose=0, warm_start=False)"
      ]
     },
     "execution_count": 17,
     "metadata": {},
     "output_type": "execute_result"
    }
   ],
   "source": [
    "from sklearn.ensemble import RandomForestRegressor\n",
    "\n",
    "forest_reg = RandomForestRegressor()\n",
    "forest_reg.fit(X_train, y_train)"
   ]
  },
  {
   "cell_type": "markdown",
   "metadata": {},
   "source": [
    "# 5. Fine tuning model"
   ]
  },
  {
   "cell_type": "code",
   "execution_count": 54,
   "metadata": {},
   "outputs": [
    {
     "name": "stdout",
     "output_type": "stream",
     "text": [
      "(63112.899747570802, 11371.451300675057, {'max_features': 2, 'n_estimators': 3})\n",
      "(55816.275560515853, 9934.7916643230001, {'max_features': 2, 'n_estimators': 10})\n",
      "(52856.474970041723, 8698.2122478551009, {'max_features': 2, 'n_estimators': 30})\n",
      "(61745.880679843074, 9307.7706895185183, {'max_features': 3, 'n_estimators': 3})\n",
      "(54341.383728096909, 9217.7861967494755, {'max_features': 3, 'n_estimators': 10})\n",
      "(52079.555764536228, 7734.0236170931503, {'max_features': 3, 'n_estimators': 30})\n",
      "(60541.965821743579, 11297.887434091164, {'max_features': 6, 'n_estimators': 3})\n",
      "(52966.223340123201, 7927.3963767548075, {'max_features': 6, 'n_estimators': 10})\n",
      "(51056.497175355253, 4087.7113197090707, {'max_features': 6, 'n_estimators': 30})\n",
      "(59857.531347716453, 11649.640309935896, {'max_features': 8, 'n_estimators': 3})\n",
      "(52227.789787665992, 11522.216743466393, {'max_features': 8, 'n_estimators': 10})\n",
      "(50651.127884446243, 6636.9891609611641, {'max_features': 8, 'n_estimators': 30})\n",
      "(61997.681881928293, 10633.199905948901, {'max_features': 2, 'n_estimators': 3, 'bootstrap': False})\n",
      "(53755.03950311392, 9203.6691268386639, {'max_features': 2, 'n_estimators': 10, 'bootstrap': False})\n",
      "(60465.063805263875, 10668.708763046585, {'max_features': 3, 'n_estimators': 3, 'bootstrap': False})\n",
      "(53380.553120955919, 11573.56751342502, {'max_features': 3, 'n_estimators': 10, 'bootstrap': False})\n",
      "(59089.701047444803, 12320.577076959204, {'max_features': 4, 'n_estimators': 3, 'bootstrap': False})\n",
      "(52368.739044915004, 7907.5726927571041, {'max_features': 4, 'n_estimators': 10, 'bootstrap': False})\n"
     ]
    }
   ],
   "source": [
    "from sklearn.model_selection import GridSearchCV\n",
    "params_grid = [\n",
    "    {'n_estimators': [3, 10, 30], 'max_features': [2,3,6,8]},\n",
    "    {'bootstrap': [False], 'n_estimators': [3, 10], 'max_features': [2,3,4]},\n",
    "]\n",
    "\n",
    "grid_search = GridSearchCV(forest_reg, params_grid, cv=5, scoring='neg_mean_squared_error')\n",
    "grid_search.fit(X_train, y_train)\n",
    "\n",
    "# Display the results of the GridSearch\n",
    "cvres = grid_search.cv_results_\n",
    "for mean_score, std_score, params in zip(cvres['mean_test_score'], cvres['std_test_score'], cvres['params']):\n",
    "    print(np.sqrt(-mean_score), np.sqrt(std_score), params)"
   ]
  },
  {
   "cell_type": "code",
   "execution_count": 56,
   "metadata": {},
   "outputs": [],
   "source": [
    "forest_reg = grid_search.best_estimator_"
   ]
  },
  {
   "cell_type": "markdown",
   "metadata": {},
   "source": [
    "# 5. SVM"
   ]
  },
  {
   "cell_type": "code",
   "execution_count": null,
   "metadata": {},
   "outputs": [],
   "source": [
    "from sklearn.svm import SVR\n",
    "\n",
    "svr_reg = SVR()\n",
    "svr_reg.fit(X_train, y_train)\n",
    "\n",
    "params_grid = [\n",
    "    {'kernel': ['linear', 'poly', 'rbf', 'sigmoid']}\n",
    "]\n",
    "\n",
    "grid_search = GridSearchCV(svr_reg, params_grid, cv=5, scoring='neg_mean_squared_error')\n",
    "grid_search.fit(X_train, y_train)\n",
    "\n",
    "# Display the results of the GridSearch\n",
    "cvres = grid_search.cv_results_\n",
    "for mean_score, std_score, params in zip(cvres['mean_test_score'], cvres['std_test_score'], cvres['params']):\n",
    "    print(np.sqrt(-mean_score), np.sqrt(std_score), params)"
   ]
  },
  {
   "cell_type": "markdown",
   "metadata": {},
   "source": [
    "No kernel show results really better. So I will fine tune a LinearSVR because it's faster."
   ]
  },
  {
   "cell_type": "code",
   "execution_count": 94,
   "metadata": {},
   "outputs": [
    {
     "data": {
      "text/plain": [
       "RandomizedSearchCV(cv=None, error_score='raise',\n",
       "          estimator=LinearSVR(C=1.0, dual=True, epsilon=0.0, fit_intercept=True,\n",
       "     intercept_scaling=1.0, loss='epsilon_insensitive', max_iter=1000,\n",
       "     random_state=None, tol=0.0001, verbose=0),\n",
       "          fit_params={}, iid=True, n_iter=100, n_jobs=1,\n",
       "          param_distributions={'loss': ['epsilon_insensitive', 'squared_epsilon_insensitive'], 'C': <scipy.stats._distn_infrastructure.rv_frozen object at 0x107991d90>},\n",
       "          pre_dispatch='2*n_jobs', random_state=None, refit=True,\n",
       "          return_train_score=True, scoring='neg_mean_squared_error',\n",
       "          verbose=0)"
      ]
     },
     "execution_count": 94,
     "metadata": {},
     "output_type": "execute_result"
    }
   ],
   "source": [
    "from sklearn.svm import LinearSVR\n",
    "from sklearn.model_selection import RandomizedSearchCV\n",
    "from scipy.stats import uniform\n",
    "\n",
    "svr_reg = LinearSVR()\n",
    "\n",
    "params_search = {\n",
    "    'C': uniform(.1, 10),\n",
    "    'loss':  ['epsilon_insensitive', 'squared_epsilon_insensitive']\n",
    "}\n",
    "\n",
    "random_search = RandomizedSearchCV(svr_reg, params_search, n_iter=100, scoring='neg_mean_squared_error')\n",
    "random_search.fit(X_train, y_train)"
   ]
  },
  {
   "cell_type": "code",
   "execution_count": 95,
   "metadata": {},
   "outputs": [
    {
     "name": "stdout",
     "output_type": "stream",
     "text": [
      "(67542.391432609627, 14180.209594871229, {'loss': 'squared_epsilon_insensitive', 'C': 2.5347796840486727})\n",
      "(163745.18627915619, 20881.94336451788, {'loss': 'epsilon_insensitive', 'C': 6.2408131118473609})\n",
      "(134962.03347554221, 18075.057715918749, {'loss': 'epsilon_insensitive', 'C': 9.6622219064894832})\n",
      "(159289.99658171271, 20716.515442205815, {'loss': 'epsilon_insensitive', 'C': 6.6869214620744355})\n",
      "(226300.84530112945, 24398.627011862911, {'loss': 'epsilon_insensitive', 'C': 0.8641685943805143})\n",
      "(67714.231018705934, 13219.703437019829, {'loss': 'squared_epsilon_insensitive', 'C': 2.6305843280078456})\n",
      "(67566.1320645589, 15147.097239713316, {'loss': 'squared_epsilon_insensitive', 'C': 5.0545210346098175})\n",
      "(207646.82283034956, 23745.304478541402, {'loss': 'epsilon_insensitive', 'C': 2.3696469436536414})\n",
      "(140067.10169703022, 18403.415059495415, {'loss': 'epsilon_insensitive', 'C': 8.9245944045609971})\n",
      "(67558.788077394987, 14661.228197357614, {'loss': 'squared_epsilon_insensitive', 'C': 4.5327308744361821})\n",
      "(151126.31378429956, 19796.393220697766, {'loss': 'epsilon_insensitive', 'C': 7.5620725748183855})\n",
      "(222665.12405800223, 24276.27829028785, {'loss': 'epsilon_insensitive', 'C': 1.1536753395280597})\n",
      "(188465.62703409896, 22902.198267001098, {'loss': 'epsilon_insensitive', 'C': 3.9759523148276954})\n",
      "(133967.61326447845, 17663.472471312634, {'loss': 'epsilon_insensitive', 'C': 9.8074995767067019})\n",
      "(67515.404661320703, 14615.070713202507, {'loss': 'squared_epsilon_insensitive', 'C': 3.6484136025689042})\n",
      "(68634.984488721529, 10071.724387420303, {'loss': 'squared_epsilon_insensitive', 'C': 8.4053445640483986})\n",
      "(67632.654126667898, 12922.578069367653, {'loss': 'squared_epsilon_insensitive', 'C': 0.92617663459268684})\n",
      "(68050.732058326001, 15221.162092741059, {'loss': 'squared_epsilon_insensitive', 'C': 7.9248492456393791})\n",
      "(158474.36961691623, 20543.610582371537, {'loss': 'epsilon_insensitive', 'C': 6.7735039804642838})\n",
      "(203562.37563381562, 23614.745124560839, {'loss': 'epsilon_insensitive', 'C': 2.7071329991991653})\n",
      "(178046.27679231105, 22090.528758921442, {'loss': 'epsilon_insensitive', 'C': 4.8825529457592367})\n",
      "(220183.48334822166, 24193.318664457151, {'loss': 'epsilon_insensitive', 'C': 1.3523357043282713})\n",
      "(67691.66680353765, 14767.865188946171, {'loss': 'squared_epsilon_insensitive', 'C': 4.9601550297753985})\n",
      "(67650.208147827492, 15369.372595791167, {'loss': 'squared_epsilon_insensitive', 'C': 6.2649972689508342})\n",
      "(67553.952806505447, 13685.794328378777, {'loss': 'squared_epsilon_insensitive', 'C': 1.2080796217980705})\n",
      "(67490.525285381678, 14705.959653698032, {'loss': 'squared_epsilon_insensitive', 'C': 3.8599288994131142})\n",
      "(67628.742219885389, 13230.244117304968, {'loss': 'squared_epsilon_insensitive', 'C': 1.7368380146530149})\n",
      "(157643.7150934099, 20670.395490217605, {'loss': 'epsilon_insensitive', 'C': 6.8598227558635534})\n",
      "(67998.422594423275, 14834.532337296447, {'loss': 'squared_epsilon_insensitive', 'C': 10.024154004894701})\n",
      "(67898.881777248534, 14703.177437291019, {'loss': 'squared_epsilon_insensitive', 'C': 8.8926865999783811})\n",
      "(67655.248446388185, 15337.702412513732, {'loss': 'squared_epsilon_insensitive', 'C': 6.4607076372982508})\n",
      "(68078.406930990459, 13840.011923845635, {'loss': 'squared_epsilon_insensitive', 'C': 7.5819190597899748})\n",
      "(67576.685878782766, 13057.091431538087, {'loss': 'squared_epsilon_insensitive', 'C': 0.63858206998026124})\n",
      "(67492.75571044907, 14502.540180306178, {'loss': 'squared_epsilon_insensitive', 'C': 2.7933129830202508})\n",
      "(222342.71968231676, 24265.543316535786, {'loss': 'epsilon_insensitive', 'C': 1.1794371464646436})\n",
      "(134354.97200929912, 17844.063706084555, {'loss': 'epsilon_insensitive', 'C': 9.7512974212699657})\n",
      "(67590.273543199452, 14337.817282544986, {'loss': 'squared_epsilon_insensitive', 'C': 3.5238363603354652})\n",
      "(151351.41890743354, 19809.055412138914, {'loss': 'epsilon_insensitive', 'C': 7.5342378607660923})\n",
      "(67565.980180309009, 13645.840941886101, {'loss': 'squared_epsilon_insensitive', 'C': 1.6156937158767359})\n",
      "(140472.59965853606, 18500.565516826049, {'loss': 'epsilon_insensitive', 'C': 8.87138441511404})\n",
      "(67603.893747546594, 14499.638463453444, {'loss': 'squared_epsilon_insensitive', 'C': 5.6804232514896693})\n",
      "(67810.945458850227, 15990.29865592313, {'loss': 'squared_epsilon_insensitive', 'C': 8.9145077967502129})\n",
      "(67971.758132635921, 14594.350930561313, {'loss': 'squared_epsilon_insensitive', 'C': 8.8981648594193867})\n",
      "(67730.948785189234, 14027.449075910587, {'loss': 'squared_epsilon_insensitive', 'C': 7.5234805057250913})\n",
      "(67662.478629135832, 15373.330453577906, {'loss': 'squared_epsilon_insensitive', 'C': 6.9788410987991512})\n",
      "(67590.462464208889, 15144.58851348327, {'loss': 'squared_epsilon_insensitive', 'C': 5.3415917072616219})\n",
      "(67865.810501272746, 13522.341039000348, {'loss': 'squared_epsilon_insensitive', 'C': 8.4268046934704319})\n",
      "(68119.213662981449, 12636.603143945335, {'loss': 'squared_epsilon_insensitive', 'C': 7.6867639011100479})\n",
      "(68307.819826360952, 12032.882044572989, {'loss': 'squared_epsilon_insensitive', 'C': 8.5197037149670862})\n",
      "(220248.24569261161, 24195.493340729638, {'loss': 'epsilon_insensitive', 'C': 1.3471405691139049})\n",
      "(68149.659032148207, 12776.68369441, {'loss': 'squared_epsilon_insensitive', 'C': 7.9039977614727448})\n",
      "(67561.315854963075, 15214.331333331449, {'loss': 'squared_epsilon_insensitive', 'C': 6.7304200450049221})\n",
      "(67568.398118770987, 13102.857949793904, {'loss': 'squared_epsilon_insensitive', 'C': 0.39071380343953732})\n",
      "(188456.71219260592, 22906.958313642026, {'loss': 'epsilon_insensitive', 'C': 3.9767359475039421})\n",
      "(174488.4551007117, 21928.80662435518, {'loss': 'epsilon_insensitive', 'C': 5.2010971249882516})\n",
      "(67479.605623327734, 14418.831794795939, {'loss': 'squared_epsilon_insensitive', 'C': 2.3543875546369386})\n",
      "(67789.659086931206, 14012.289401601491, {'loss': 'squared_epsilon_insensitive', 'C': 4.9659766224375304})\n",
      "(233069.80129909873, 24616.956567815891, {'loss': 'epsilon_insensitive', 'C': 0.32932811268042028})\n",
      "(67657.086678092062, 13179.103078856571, {'loss': 'squared_epsilon_insensitive', 'C': 1.5899973614924345})\n",
      "(133208.71455683585, 17479.9766802741, {'loss': 'epsilon_insensitive', 'C': 9.9196919044614518})\n",
      "(173393.10847258396, 21883.484073159987, {'loss': 'epsilon_insensitive', 'C': 5.3029657691865406})\n",
      "(152023.14886324303, 19990.125584226487, {'loss': 'epsilon_insensitive', 'C': 7.4550560648753752})\n",
      "(67597.200766927985, 13184.996795846489, {'loss': 'squared_epsilon_insensitive', 'C': 0.72542226897368434})\n",
      "(68124.242478962144, 12311.65689937945, {'loss': 'squared_epsilon_insensitive', 'C': 7.4361583004231244})\n",
      "(67684.347930990873, 14253.559004338596, {'loss': 'squared_epsilon_insensitive', 'C': 6.4755326447022972})\n",
      "(156699.9326500567, 20532.235123600261, {'loss': 'epsilon_insensitive', 'C': 6.959112710498637})\n",
      "(67739.855825639854, 14607.551724372493, {'loss': 'squared_epsilon_insensitive', 'C': 7.4998638668561171})\n",
      "(67679.447386279993, 14849.158023348389, {'loss': 'squared_epsilon_insensitive', 'C': 5.7554996492144035})\n",
      "(67970.716680374462, 13248.612045090562, {'loss': 'squared_epsilon_insensitive', 'C': 7.1025195944452095})\n",
      "(155580.22333276816, 20393.868727898902, {'loss': 'epsilon_insensitive', 'C': 7.0767062752007508})\n",
      "(228859.490560398, 24481.716475117883, {'loss': 'epsilon_insensitive', 'C': 0.66136103416210001})\n",
      "(67577.921127769296, 14408.580629640574, {'loss': 'squared_epsilon_insensitive', 'C': 3.8691416473637195})\n",
      "(67518.738904345315, 14880.308430965786, {'loss': 'squared_epsilon_insensitive', 'C': 4.4518039925535673})\n",
      "(67740.527612414793, 14361.951969488831, {'loss': 'squared_epsilon_insensitive', 'C': 6.4117064595670632})\n",
      "(67697.85001415202, 14214.057179795593, {'loss': 'squared_epsilon_insensitive', 'C': 9.1939019200839613})\n",
      "(67537.795781714027, 13417.077332762083, {'loss': 'squared_epsilon_insensitive', 'C': 0.67280251077623354})\n",
      "(67771.253276758755, 13396.218813675423, {'loss': 'squared_epsilon_insensitive', 'C': 4.0883602970372941})\n",
      "(67578.803317475031, 12899.6203486134, {'loss': 'squared_epsilon_insensitive', 'C': 0.2340262643216561})\n",
      "(231373.24188151959, 24562.678668950746, {'loss': 'epsilon_insensitive', 'C': 0.46287622613502155})\n",
      "(68102.578081172222, 12473.315927469173, {'loss': 'squared_epsilon_insensitive', 'C': 7.97126602601604})\n",
      "(183655.02901424587, 22474.830385596943, {'loss': 'epsilon_insensitive', 'C': 4.3888687886103854})\n",
      "(67507.137369390504, 13982.874458301765, {'loss': 'squared_epsilon_insensitive', 'C': 1.6638180440344796})\n",
      "(163177.68706492704, 20765.021346776986, {'loss': 'epsilon_insensitive', 'C': 6.2969944019941568})\n",
      "(197026.51174213222, 23274.286302979945, {'loss': 'epsilon_insensitive', 'C': 3.2518952109735899})\n",
      "(67545.610493648041, 14102.971635229818, {'loss': 'squared_epsilon_insensitive', 'C': 2.4678430931138542})\n",
      "(67604.507948557701, 13379.177307717355, {'loss': 'squared_epsilon_insensitive', 'C': 1.379882085335864})\n",
      "(67846.612426112566, 14874.900343686257, {'loss': 'squared_epsilon_insensitive', 'C': 8.3786837532217273})\n",
      "(176238.88906212401, 22042.734647186364, {'loss': 'epsilon_insensitive', 'C': 5.0448113129509293})\n",
      "(153005.30462001718, 20091.690611123686, {'loss': 'epsilon_insensitive', 'C': 7.3515572755111478})\n",
      "(197803.22085083491, 23274.229380559565, {'loss': 'epsilon_insensitive', 'C': 3.1869874337319524})\n",
      "(213031.19389467151, 23933.962004693472, {'loss': 'epsilon_insensitive', 'C': 1.9301544423472716})\n",
      "(184922.78879731669, 22546.226502047633, {'loss': 'epsilon_insensitive', 'C': 4.2798993387048432})\n",
      "(67709.260567143632, 14028.584761885139, {'loss': 'squared_epsilon_insensitive', 'C': 5.5510552826069963})\n",
      "(186556.72144524159, 22732.645277421459, {'loss': 'epsilon_insensitive', 'C': 4.1397787632654826})\n",
      "(67838.23977140036, 13478.801779983933, {'loss': 'squared_epsilon_insensitive', 'C': 5.5883865672005868})\n",
      "(67804.409261006367, 15397.928604988179, {'loss': 'squared_epsilon_insensitive', 'C': 8.5691872808855987})\n",
      "(158757.37137960395, 20594.177852209854, {'loss': 'epsilon_insensitive', 'C': 6.7418791450541731})\n",
      "(141585.62358574383, 18579.439593540668, {'loss': 'epsilon_insensitive', 'C': 8.7198690840427222})\n",
      "(199977.65361588169, 23431.050995638489, {'loss': 'epsilon_insensitive', 'C': 3.0058755980635508})\n",
      "(192187.10335808492, 23110.108394129962, {'loss': 'epsilon_insensitive', 'C': 3.6597337379485273})\n"
     ]
    }
   ],
   "source": [
    "# Display the results of the GridSearch\n",
    "cvres = random_search.cv_results_\n",
    "for mean_score, std_score, params in zip(cvres['mean_test_score'], cvres['std_test_score'], cvres['params']):\n",
    "    if mean_score < 0:\n",
    "        mean_score = -mean_score\n",
    "    print(np.sqrt(mean_score), np.sqrt(std_score), params)"
   ]
  },
  {
   "cell_type": "markdown",
   "metadata": {},
   "source": [
    "We could tune LinearSVM up to a RMSE  67 490 which start to be good. Random forest stay the model that previously gave better results (52 079)."
   ]
  }
 ],
 "metadata": {
  "anaconda-cloud": {},
  "kernelspec": {
   "display_name": "Python 2",
   "language": "python",
   "name": "python2"
  },
  "language_info": {
   "codemirror_mode": {
    "name": "ipython",
    "version": 2
   },
   "file_extension": ".py",
   "mimetype": "text/x-python",
   "name": "python",
   "nbconvert_exporter": "python",
   "pygments_lexer": "ipython2",
   "version": "2.7.13"
  }
 },
 "nbformat": 4,
 "nbformat_minor": 2
}
