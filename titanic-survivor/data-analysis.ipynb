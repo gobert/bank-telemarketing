{
 "cells": [
  {
   "cell_type": "markdown",
   "metadata": {},
   "source": [
    "# Titanic Survivor - Data Analysis"
   ]
  },
  {
   "cell_type": "code",
   "execution_count": 3,
   "metadata": {
    "collapsed": true
   },
   "outputs": [],
   "source": [
    "import pandas as pd\n",
    "import matplotlib as plt"
   ]
  },
  {
   "cell_type": "code",
   "execution_count": 4,
   "metadata": {
    "collapsed": true
   },
   "outputs": [],
   "source": [
    "data = pd.read_csv(\"./train.csv\")"
   ]
  },
  {
   "cell_type": "markdown",
   "metadata": {},
   "source": [
    "## Basic Analysis\n",
    "### Data balance"
   ]
  },
  {
   "cell_type": "code",
   "execution_count": 5,
   "metadata": {
    "scrolled": true
   },
   "outputs": [
    {
     "name": "stdout",
     "output_type": "stream",
     "text": [
      "342\n",
      "549\n"
     ]
    }
   ],
   "source": [
    "survived_count = len(data[data.Survived == 1])\n",
    "notsurvived_count =  len(data[data.Survived == 0])\n",
    "print survived_count\n",
    "print notsurvived_count"
   ]
  },
  {
   "cell_type": "markdown",
   "metadata": {},
   "source": [
    "Kind of 1/3 vs 2/3, the data is not perfectly balanced but it's a good balance.\n",
    "\n",
    "### Data completeness"
   ]
  },
  {
   "cell_type": "code",
   "execution_count": 6,
   "metadata": {
    "scrolled": true
   },
   "outputs": [
    {
     "data": {
      "text/html": [
       "<div>\n",
       "<table border=\"1\" class=\"dataframe\">\n",
       "  <thead>\n",
       "    <tr style=\"text-align: right;\">\n",
       "      <th></th>\n",
       "      <th>Total</th>\n",
       "      <th>Total (%)</th>\n",
       "    </tr>\n",
       "  </thead>\n",
       "  <tbody>\n",
       "    <tr>\n",
       "      <th>PassengerId</th>\n",
       "      <td>0.0</td>\n",
       "      <td>0</td>\n",
       "    </tr>\n",
       "    <tr>\n",
       "      <th>Survived</th>\n",
       "      <td>0.0</td>\n",
       "      <td>0</td>\n",
       "    </tr>\n",
       "    <tr>\n",
       "      <th>Pclass</th>\n",
       "      <td>0.0</td>\n",
       "      <td>0</td>\n",
       "    </tr>\n",
       "    <tr>\n",
       "      <th>Name</th>\n",
       "      <td>0.0</td>\n",
       "      <td>0</td>\n",
       "    </tr>\n",
       "    <tr>\n",
       "      <th>Sex</th>\n",
       "      <td>0.0</td>\n",
       "      <td>0</td>\n",
       "    </tr>\n",
       "    <tr>\n",
       "      <th>Age</th>\n",
       "      <td>177.0</td>\n",
       "      <td>19</td>\n",
       "    </tr>\n",
       "    <tr>\n",
       "      <th>SibSp</th>\n",
       "      <td>0.0</td>\n",
       "      <td>0</td>\n",
       "    </tr>\n",
       "    <tr>\n",
       "      <th>Parch</th>\n",
       "      <td>0.0</td>\n",
       "      <td>0</td>\n",
       "    </tr>\n",
       "    <tr>\n",
       "      <th>Ticket</th>\n",
       "      <td>0.0</td>\n",
       "      <td>0</td>\n",
       "    </tr>\n",
       "    <tr>\n",
       "      <th>Fare</th>\n",
       "      <td>0.0</td>\n",
       "      <td>0</td>\n",
       "    </tr>\n",
       "    <tr>\n",
       "      <th>Cabin</th>\n",
       "      <td>687.0</td>\n",
       "      <td>77</td>\n",
       "    </tr>\n",
       "    <tr>\n",
       "      <th>Embarked</th>\n",
       "      <td>2.0</td>\n",
       "      <td>0</td>\n",
       "    </tr>\n",
       "  </tbody>\n",
       "</table>\n",
       "</div>"
      ],
      "text/plain": [
       "             Total  Total (%)\n",
       "PassengerId    0.0          0\n",
       "Survived       0.0          0\n",
       "Pclass         0.0          0\n",
       "Name           0.0          0\n",
       "Sex            0.0          0\n",
       "Age          177.0         19\n",
       "SibSp          0.0          0\n",
       "Parch          0.0          0\n",
       "Ticket         0.0          0\n",
       "Fare           0.0          0\n",
       "Cabin        687.0         77\n",
       "Embarked       2.0          0"
      ]
     },
     "execution_count": 6,
     "metadata": {},
     "output_type": "execute_result"
    }
   ],
   "source": [
    "missing_values = pd.DataFrame()\n",
    "total = len(data)\n",
    "\n",
    "for a in data.columns:\n",
    "    missing_for_a = data[pd.isnull(data[a])]\n",
    "    missing_values.loc[a, \"Total\"] = len(missing_for_a)\n",
    "\n",
    "missing_values[\"Total (%)\"] = (missing_values[\"Total\"] * 100 / total).apply(int)\n",
    "\n",
    "missing_values"
   ]
  },
  {
   "cell_type": "markdown",
   "metadata": {},
   "source": [
    "Cabin and Age miss a lot of values. It can be difficult to work with Cabin and Age.\n",
    "\n",
    "Let's check if the missing values are equally balanced between survivors and nosurvivor (death)."
   ]
  },
  {
   "cell_type": "code",
   "execution_count": 7,
   "metadata": {},
   "outputs": [
    {
     "data": {
      "text/html": [
       "<div>\n",
       "<table border=\"1\" class=\"dataframe\">\n",
       "  <thead>\n",
       "    <tr style=\"text-align: right;\">\n",
       "      <th></th>\n",
       "      <th>Total</th>\n",
       "      <th>Total (%)</th>\n",
       "      <th>Survivor</th>\n",
       "      <th>Death</th>\n",
       "      <th>Survivor (%)</th>\n",
       "      <th>Death (%)</th>\n",
       "    </tr>\n",
       "  </thead>\n",
       "  <tbody>\n",
       "    <tr>\n",
       "      <th>Age</th>\n",
       "      <td>177.0</td>\n",
       "      <td>19</td>\n",
       "      <td>52.0</td>\n",
       "      <td>125.0</td>\n",
       "      <td>29.0</td>\n",
       "      <td>70.0</td>\n",
       "    </tr>\n",
       "    <tr>\n",
       "      <th>Cabin</th>\n",
       "      <td>687.0</td>\n",
       "      <td>77</td>\n",
       "      <td>206.0</td>\n",
       "      <td>481.0</td>\n",
       "      <td>29.0</td>\n",
       "      <td>70.0</td>\n",
       "    </tr>\n",
       "  </tbody>\n",
       "</table>\n",
       "</div>"
      ],
      "text/plain": [
       "       Total  Total (%)  Survivor  Death  Survivor (%)  Death (%)\n",
       "Age    177.0         19      52.0  125.0          29.0       70.0\n",
       "Cabin  687.0         77     206.0  481.0          29.0       70.0"
      ]
     },
     "execution_count": 7,
     "metadata": {},
     "output_type": "execute_result"
    }
   ],
   "source": [
    "incomplete_attributes = [\"Age\", \"Cabin\"]\n",
    "for a in incomplete_attributes:\n",
    "    missing_for_a = data[pd.isnull(data[a])]\n",
    "    missing_for_a_survivor = missing_for_a[missing_for_a.Survived == 1]\n",
    "    missing_for_a_notsurvivor = missing_for_a[missing_for_a.Survived == 0]\n",
    "\n",
    "    missing_values.loc[a, \"Survivor\"] = len(missing_for_a_survivor)\n",
    "    missing_values.loc[a, \"Death\"] = len(missing_for_a_notsurvivor)\n",
    "    missing_values.loc[a, \"Survivor (%)\"] = int(missing_values.loc[a, \"Survivor\"] * 100 / len(missing_for_a))\n",
    "    missing_values.loc[a, \"Death (%)\"] = int(missing_values.loc[a, \"Death\"] * 100 / len(missing_for_a))\n",
    "\n",
    "missing_values.loc[incomplete_attributes]"
   ]
  },
  {
   "cell_type": "markdown",
   "metadata": {
    "collapsed": true
   },
   "source": [
    "When we have missing data, they miss in equal proportion than the size of groups \"Survivor\" and \"Death\". So it's not going possible to predict something out of the missing data. They will be problematic. "
   ]
  },
  {
   "cell_type": "markdown",
   "metadata": {
    "collapsed": true
   },
   "source": [
    "### Guessing information group out of the attributes\n",
    "My first guess would be to group the information into 3 groups:\n",
    "\n",
    "Group that modelize the information *Women & childern first* with attributes:\n",
    "- **sex**\n",
    "- **Age**: age, young, children, ... ?\"\n",
    "- Number of siblings (**SibSp**) & number of parents (**Parch**): with complicated relation like \" children first, but with a women to care .... or if no women then a man \" ?\n",
    "\n",
    "Group that represent the **wealth** of the passenger:\n",
    "- **ticketclass**\n",
    "- **passenger_fare**\n",
    "\n",
    "Group that represent the **place in the boat** of the passenger:\n",
    "- Ticket number (**Ticket**)\n",
    "- cabin number (**Cabin**)\n",
    "- port of embarcation (**Embarked**)\n",
    "\n",
    "Also to be noted: the ticket number has a number and sometimes more like letters. It seems that more information could be extracted from its. But I haven't found anything on internet."
   ]
  }
 ],
 "metadata": {
  "kernelspec": {
   "display_name": "Python 2",
   "language": "python",
   "name": "python2"
  },
  "language_info": {
   "codemirror_mode": {
    "name": "ipython",
    "version": 2
   },
   "file_extension": ".py",
   "mimetype": "text/x-python",
   "name": "python",
   "nbconvert_exporter": "python",
   "pygments_lexer": "ipython2",
   "version": "2.7.13"
  }
 },
 "nbformat": 4,
 "nbformat_minor": 2
}
