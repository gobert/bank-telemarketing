{
 "cells": [
  {
   "cell_type": "markdown",
   "metadata": {
    "_uuid": "45d2d5ed96d7d42fd12e313a61ae69db8cb301f9"
   },
   "source": [
    "# Predicting poverty/wealthness of costa rican household"
   ]
  },
  {
   "cell_type": "code",
   "execution_count": 1,
   "metadata": {
    "_uuid": "24bbc796ad8905e7efc46f9d88e439d2a4e36deb"
   },
   "outputs": [],
   "source": [
    "import pandas as pd\n",
    "import numpy as np\n",
    "\n",
    "np.random.seed(112)\n",
    "\n",
    "path = \"data/\"# \"../input/\" for running the kernel on kaggle"
   ]
  },
  {
   "cell_type": "code",
   "execution_count": 2,
   "metadata": {
    "_uuid": "dd902ad8839e062fb1fe8b2cb2bc0861c7b221f4"
   },
   "outputs": [],
   "source": [
    "# This will be an helper method to re-use the code between train and test set\n",
    "\n",
    "class Household():\n",
    "    def __init__(self, individuals): \n",
    "        self.individuals = individuals\n",
    "        \n",
    "        self.individuals.loc[(self.individuals['tipovivi1'] == 1), 'v2a1'] = 0\n",
    "        self.individuals.tipovivi1 = self.individuals.tipovivi1.fillna(0)\n",
    "        \n",
    "        self.grouped_individuals = individuals.groupby('idhogar')\n",
    "        self.household = pd.DataFrame()\n",
    "\n",
    "    def X(self):\n",
    "        self.__add_base_features__()\n",
    "        self.__add_house_features__()\n",
    "        return self.household.loc[:, train.household.columns != 'Target']\n",
    "    \n",
    "    def y(self):\n",
    "        self.household['Target'] = self.grouped_individuals.Target.mean().round().astype(int)\n",
    "        return self.household['Target']\n",
    "\n",
    "    def __add_base_features__(self):\n",
    "        self.household['SQBedjefe'] = self.grouped_individuals.SQBedjefe.mean()\n",
    "        self.household['SQBdependency'] = self.grouped_individuals.SQBdependency.mean()\n",
    "        self.household['overcrowding'] = self.grouped_individuals.overcrowding.mean()\n",
    "        self.household['qmobilephone'] = self.grouped_individuals.qmobilephone.mean()\n",
    "        self.household['rooms'] = self.grouped_individuals.rooms.mean()\n",
    "        self.household['SQBhogar_nin'] = self.grouped_individuals.SQBhogar_nin.mean()\n",
    "        self.household['G_people_count'] = self.grouped_individuals.age.count()\n",
    "        self.household['G_percentage_under_15'] = self.G_percentage_under(15)\n",
    "\n",
    "        self.household['fem_perc'] = self.fem_perc()\n",
    "        self.household['schooling_avg'] = self.schooling_avg()\n",
    "        self.household['edjefa'] = self.edjefa()\n",
    "        self.household['elec'] = self.elec()\n",
    "        \n",
    "    def it_equipement(self):\n",
    "        return (\n",
    "            self.grouped_individuals.refrig.mean() + \n",
    "            self.grouped_individuals.computer.mean() + \n",
    "            (self.grouped_individuals.v18q1.mean() > 0) + \n",
    "            self.grouped_individuals.television.mean()\n",
    "        )\n",
    "        \n",
    "    def no_facilities(self):\n",
    "        return (\n",
    "            (self.grouped_individuals.sanitario1.mean() == 1) +\n",
    "            (self.grouped_individuals.noelec.mean() == 1) +\n",
    "            (self.grouped_individuals.pisonotiene.mean() == 1) +\n",
    "            (self.grouped_individuals.abastaguano.mean() == 1) +\n",
    "            (self.grouped_individuals.cielorazo.mean() == 0)\n",
    "        )\n",
    "        \n",
    "    def G_percentage_under(self, age):\n",
    "        return (self.individuals[self.individuals.age <= age].groupby('idhogar').Id.count()/ self.household['G_people_count']).replace({None: 0., np.NaN: 0.0})\n",
    "    \n",
    "    def edjefa(self):\n",
    "        edjefa = self.grouped_individuals.edjefa.max().replace({'no': 0, 'yes': 1, None: 0., np.NaN: 0.0})\n",
    "        return edjefa.apply(int)\n",
    "    \n",
    "    def edjefe(self):\n",
    "        edjefe = self.grouped_individuals.edjefe.max().replace({'no': 0, 'yes': 1, None: 0., np.NaN: 0.0})\n",
    "        return edjefe.apply(int)\n",
    "        \n",
    "    def schooling_avg(self):\n",
    "        schooling_sum = self.grouped_individuals.escolari.sum()\n",
    "        people = self.grouped_individuals.hogar_total.mean()\n",
    "        schooling_avg = schooling_sum / people\n",
    "        return schooling_avg\n",
    "    \n",
    "    def size_pp(self):\n",
    "        size = self.grouped_individuals.hhsize.mean()\n",
    "        people = self.grouped_individuals.hogar_total.mean()\n",
    "        \n",
    "        return size / people\n",
    "            \n",
    "    def fem_perc(self):\n",
    "        female = self.grouped_individuals.r4m3.mean()\n",
    "        people = self.grouped_individuals.hogar_total.mean()\n",
    "        \n",
    "        return female / people\n",
    "       \n",
    "    def rent(self):\n",
    "        rent = (\n",
    "            # self.grouped_individuals.tipovivi5.mean() * 1 +\n",
    "            # self.grouped_individuals.tipovivi4.mean() * 2 +\n",
    "            self.grouped_individuals.tipovivi3.mean() * 1 +\n",
    "            self.grouped_individuals.tipovivi5.mean() * 2 +\n",
    "            self.grouped_individuals.tipovivi1.mean() * 4\n",
    "            # self.grouped_individuals.tipovivi1.mean() * 5\n",
    "        )\n",
    "        return rent\n",
    "\n",
    "    def rent_pc(self):\n",
    "        return self.grouped_individuals.v2a1.mean() / self.grouped_individuals.tamviv.mean()\n",
    "    \n",
    "    def elec(self):\n",
    "        elec = (\n",
    "            self.grouped_individuals.noelec.mean() * 0 +\n",
    "            self.grouped_individuals.coopele.mean() * 1 +\n",
    "            self.grouped_individuals.public.mean() * 2 +\n",
    "            self.grouped_individuals.planpri.mean() * 4\n",
    "        )\n",
    "        return elec\n",
    "    \n",
    "    def floor(self):\n",
    "        floor = (\n",
    "            self.grouped_individuals.eviv1.mean() * 0 +\n",
    "            self.grouped_individuals.eviv2.mean() * 1 +\n",
    "            self.grouped_individuals.eviv3.mean() * 4\n",
    "        )\n",
    "        return floor ** 1\n",
    "    \n",
    "    def roof(self):\n",
    "        roof = (\n",
    "            self.grouped_individuals.etecho1.mean() * 0 +\n",
    "            self.grouped_individuals.etecho2.mean() * 1 +\n",
    "            self.grouped_individuals.etecho3.mean() * 4\n",
    "        )\n",
    "        return roof ** 1\n",
    "    \n",
    "    def wall(self):\n",
    "        wall = (\n",
    "            self.grouped_individuals.epared1.mean() * 0 +\n",
    "            self.grouped_individuals.epared2.mean() * 1 +\n",
    "            self.grouped_individuals.epared3.mean() * 4\n",
    "        )\n",
    "        return wall ** 1\n",
    "    \n",
    "    def house_state(self):\n",
    "        return self.floor() + self.roof() + self.wall()\n",
    "\n",
    "    def __add_house_features__(self):\n",
    "        return None\n",
    "        # TODO"
   ]
  },
  {
   "cell_type": "markdown",
   "metadata": {
    "_uuid": "fb593598934dd3e5d5955bb7fafa986bcbb6d7c4"
   },
   "source": [
    "# First feature engineering\n",
    "Out of my notebook feature-selection (1), I am selecting the important features, that are already aggregated on a Household level. Improvements are definitivly possible.\n",
    "\n",
    "(1) https://www.kaggle.com/gobert/data-selection-with-randomforest"
   ]
  },
  {
   "cell_type": "code",
   "execution_count": 3,
   "metadata": {
    "_uuid": "f404322f21ab501df95205466427856d3c1f26ae"
   },
   "outputs": [],
   "source": [
    "# Build dataset on Household level.\n",
    "individuals = pd.read_csv(path + 'train.csv')\n",
    "train = Household(individuals)\n",
    "X = train.X()\n",
    "y = train.y()"
   ]
  },
  {
   "cell_type": "markdown",
   "metadata": {
    "_uuid": "99f4ef1c8baaa0a98172de82c2014e02fa9afd2d"
   },
   "source": [
    "# Train model & validate locally \n",
    "On macro F1-score"
   ]
  },
  {
   "cell_type": "code",
   "execution_count": 4,
   "metadata": {
    "_uuid": "f9a7a517633985058376dd55bcb739c54e431efd"
   },
   "outputs": [],
   "source": [
    "y = train.household.Target\n",
    "\n",
    "from sklearn.model_selection import train_test_split\n",
    "\n",
    "X_train, X_valid, y_train, y_valid = train_test_split(X, y, random_state=112, test_size=0.2)"
   ]
  },
  {
   "cell_type": "code",
   "execution_count": 5,
   "metadata": {
    "_uuid": "6c24aa3d6e08fe60d6c7a9fccb51810febf05013"
   },
   "outputs": [
    {
     "data": {
      "text/plain": [
       "KNeighborsClassifier(algorithm='auto', leaf_size=30, metric='minkowski',\n",
       "           metric_params=None, n_jobs=1, n_neighbors=5, p=2,\n",
       "           weights='uniform')"
      ]
     },
     "execution_count": 5,
     "metadata": {},
     "output_type": "execute_result"
    }
   ],
   "source": [
    "from sklearn.ensemble import RandomForestClassifier\n",
    "from sklearn.neighbors import KNeighborsClassifier\n",
    "\n",
    "clf = KNeighborsClassifier()\n",
    "clf.fit(X, y)"
   ]
  },
  {
   "cell_type": "code",
   "execution_count": 6,
   "metadata": {
    "_uuid": "b2192a62eaa0fc51ffc531618994837569174e32"
   },
   "outputs": [
    {
     "data": {
      "text/plain": [
       "GridSearchCV(cv=5, error_score='raise',\n",
       "       estimator=KNeighborsClassifier(algorithm='auto', leaf_size=30, metric='minkowski',\n",
       "           metric_params=None, n_jobs=1, n_neighbors=5, p=2,\n",
       "           weights='uniform'),\n",
       "       fit_params=None, iid=True, n_jobs=1,\n",
       "       param_grid=[{'p': [1, 2, 4, 8], 'leaf_size': [3, 6, 12, 24, 48], 'weights': ['distance'], 'n_neighbors': [1, 4, 5, 10]}],\n",
       "       pre_dispatch='2*n_jobs', refit=True, return_train_score=True,\n",
       "       scoring='f1_macro', verbose=0)"
      ]
     },
     "execution_count": 6,
     "metadata": {},
     "output_type": "execute_result"
    }
   ],
   "source": [
    "from sklearn.model_selection import RandomizedSearchCV\n",
    "from sklearn.model_selection import GridSearchCV\n",
    "\n",
    "random_grid = [{\n",
    "    'n_neighbors': [1, 4, 5, 10],\n",
    "    'weights': ['distance'],\n",
    "    'leaf_size': [3, 6, 12, 24, 48],\n",
    "    'p': [1, 2, 4, 8]\n",
    "              }\n",
    "    ]\n",
    "\n",
    "rf_random = GridSearchCV(estimator = clf, param_grid = random_grid, scoring = 'f1_macro', cv = 5)\n",
    "rf_random.fit(X, y)"
   ]
  },
  {
   "cell_type": "code",
   "execution_count": 7,
   "metadata": {
    "_uuid": "4b1306d3601fbb6a4a160700d07ac47fe34c6280"
   },
   "outputs": [],
   "source": [
    "best_clf = rf_random.best_estimator_"
   ]
  },
  {
   "cell_type": "code",
   "execution_count": 8,
   "metadata": {
    "_uuid": "2073c697374f80ffa5bd1ac9d804e64dafa634aa",
    "scrolled": true
   },
   "outputs": [
    {
     "name": "stdout",
     "output_type": "stream",
     "text": [
      "34.952208895356534 2.80931531712833 {'p': 1, 'n_neighbors': 1, 'weights': 'distance', 'leaf_size': 3}\n",
      "35.38522320585799 2.5406990396474054 {'p': 2, 'n_neighbors': 1, 'weights': 'distance', 'leaf_size': 3}\n",
      "35.06046727975563 2.943768838336873 {'p': 4, 'n_neighbors': 1, 'weights': 'distance', 'leaf_size': 3}\n",
      "35.133866461069964 2.754089449036469 {'p': 8, 'n_neighbors': 1, 'weights': 'distance', 'leaf_size': 3}\n",
      "36.698872347813314 2.794472566215003 {'p': 1, 'n_neighbors': 4, 'weights': 'distance', 'leaf_size': 3}\n",
      "35.39000520938879 1.5027051939710334 {'p': 2, 'n_neighbors': 4, 'weights': 'distance', 'leaf_size': 3}\n",
      "35.02062512417795 1.610591763079998 {'p': 4, 'n_neighbors': 4, 'weights': 'distance', 'leaf_size': 3}\n",
      "35.39549829981924 1.4873276253581669 {'p': 8, 'n_neighbors': 4, 'weights': 'distance', 'leaf_size': 3}\n",
      "36.050864500295155 2.5044356219569495 {'p': 1, 'n_neighbors': 5, 'weights': 'distance', 'leaf_size': 3}\n",
      "34.955909850916086 2.388355677004233 {'p': 2, 'n_neighbors': 5, 'weights': 'distance', 'leaf_size': 3}\n",
      "35.086282881527595 2.0687520052600075 {'p': 4, 'n_neighbors': 5, 'weights': 'distance', 'leaf_size': 3}\n",
      "35.190387842604196 2.0680358029351695 {'p': 8, 'n_neighbors': 5, 'weights': 'distance', 'leaf_size': 3}\n",
      "35.30101475493298 2.1177011033398756 {'p': 1, 'n_neighbors': 10, 'weights': 'distance', 'leaf_size': 3}\n",
      "33.93744502981678 2.0636271271427185 {'p': 2, 'n_neighbors': 10, 'weights': 'distance', 'leaf_size': 3}\n",
      "33.60887015212841 1.9489055569818978 {'p': 4, 'n_neighbors': 10, 'weights': 'distance', 'leaf_size': 3}\n",
      "34.114760703159334 2.197451385991395 {'p': 8, 'n_neighbors': 10, 'weights': 'distance', 'leaf_size': 3}\n",
      "34.98589811126326 2.9316366927005695 {'p': 1, 'n_neighbors': 1, 'weights': 'distance', 'leaf_size': 6}\n",
      "35.403675798535744 2.5239077082401105 {'p': 2, 'n_neighbors': 1, 'weights': 'distance', 'leaf_size': 6}\n",
      "35.073581407543756 2.982041168853293 {'p': 4, 'n_neighbors': 1, 'weights': 'distance', 'leaf_size': 6}\n",
      "35.14929272741538 2.795426444520451 {'p': 8, 'n_neighbors': 1, 'weights': 'distance', 'leaf_size': 6}\n",
      "36.782722270902255 2.979998203516011 {'p': 1, 'n_neighbors': 4, 'weights': 'distance', 'leaf_size': 6}\n",
      "35.59764170539023 1.63621762587344 {'p': 2, 'n_neighbors': 4, 'weights': 'distance', 'leaf_size': 6}\n",
      "35.118327542286565 1.6421400135746298 {'p': 4, 'n_neighbors': 4, 'weights': 'distance', 'leaf_size': 6}\n",
      "35.50043755052763 1.5160500643924166 {'p': 8, 'n_neighbors': 4, 'weights': 'distance', 'leaf_size': 6}\n",
      "35.98645720038498 2.7370708724019943 {'p': 1, 'n_neighbors': 5, 'weights': 'distance', 'leaf_size': 6}\n",
      "34.84077941104318 2.34522706427954 {'p': 2, 'n_neighbors': 5, 'weights': 'distance', 'leaf_size': 6}\n",
      "35.15628419091979 2.06833447064944 {'p': 4, 'n_neighbors': 5, 'weights': 'distance', 'leaf_size': 6}\n",
      "35.25824543937202 2.078299865940881 {'p': 8, 'n_neighbors': 5, 'weights': 'distance', 'leaf_size': 6}\n",
      "35.20838549920598 2.083624786396491 {'p': 1, 'n_neighbors': 10, 'weights': 'distance', 'leaf_size': 6}\n",
      "33.972379270482094 1.990623286571807 {'p': 2, 'n_neighbors': 10, 'weights': 'distance', 'leaf_size': 6}\n",
      "33.58454947678047 1.9079608061971671 {'p': 4, 'n_neighbors': 10, 'weights': 'distance', 'leaf_size': 6}\n",
      "34.04803607827558 2.2491093102488837 {'p': 8, 'n_neighbors': 10, 'weights': 'distance', 'leaf_size': 6}\n",
      "35.0964356983492 2.950766520779529 {'p': 1, 'n_neighbors': 1, 'weights': 'distance', 'leaf_size': 12}\n",
      "35.51859864637416 2.5402776734714845 {'p': 2, 'n_neighbors': 1, 'weights': 'distance', 'leaf_size': 12}\n",
      "35.19051636748321 3.0059518403605456 {'p': 4, 'n_neighbors': 1, 'weights': 'distance', 'leaf_size': 12}\n",
      "35.26712378359619 2.829434180489404 {'p': 8, 'n_neighbors': 1, 'weights': 'distance', 'leaf_size': 12}\n",
      "36.89076795442623 2.8870579421911553 {'p': 1, 'n_neighbors': 4, 'weights': 'distance', 'leaf_size': 12}\n",
      "35.46018997814171 1.6642482581349802 {'p': 2, 'n_neighbors': 4, 'weights': 'distance', 'leaf_size': 12}\n",
      "34.973520850154834 1.7111331396967708 {'p': 4, 'n_neighbors': 4, 'weights': 'distance', 'leaf_size': 12}\n",
      "35.356198037779954 1.5951282264806497 {'p': 8, 'n_neighbors': 4, 'weights': 'distance', 'leaf_size': 12}\n",
      "36.082464538086136 2.7338373877168936 {'p': 1, 'n_neighbors': 5, 'weights': 'distance', 'leaf_size': 12}\n",
      "34.91939716323597 2.3095297558603347 {'p': 2, 'n_neighbors': 5, 'weights': 'distance', 'leaf_size': 12}\n",
      "35.22543877935231 2.0304694975053814 {'p': 4, 'n_neighbors': 5, 'weights': 'distance', 'leaf_size': 12}\n",
      "35.325879513011444 2.043000249270091 {'p': 8, 'n_neighbors': 5, 'weights': 'distance', 'leaf_size': 12}\n",
      "35.27307149757516 1.9462799838623566 {'p': 1, 'n_neighbors': 10, 'weights': 'distance', 'leaf_size': 12}\n",
      "34.100806015879016 1.8838455791832371 {'p': 2, 'n_neighbors': 10, 'weights': 'distance', 'leaf_size': 12}\n",
      "33.589553586548554 1.8643641604059153 {'p': 4, 'n_neighbors': 10, 'weights': 'distance', 'leaf_size': 12}\n",
      "34.049340388554796 2.1844515450945896 {'p': 8, 'n_neighbors': 10, 'weights': 'distance', 'leaf_size': 12}\n",
      "35.07785412309336 2.8504597953792463 {'p': 1, 'n_neighbors': 1, 'weights': 'distance', 'leaf_size': 24}\n",
      "35.52494978106332 2.630603072018322 {'p': 2, 'n_neighbors': 1, 'weights': 'distance', 'leaf_size': 24}\n",
      "35.17931722894583 3.0937711551527474 {'p': 4, 'n_neighbors': 1, 'weights': 'distance', 'leaf_size': 24}\n",
      "35.254703368481444 2.9146149486997874 {'p': 8, 'n_neighbors': 1, 'weights': 'distance', 'leaf_size': 24}\n",
      "36.98897351482336 2.9968798347208274 {'p': 1, 'n_neighbors': 4, 'weights': 'distance', 'leaf_size': 24}\n",
      "35.4445804828384 1.8345123671025914 {'p': 2, 'n_neighbors': 4, 'weights': 'distance', 'leaf_size': 24}\n",
      "35.051733253071966 1.735157570156588 {'p': 4, 'n_neighbors': 4, 'weights': 'distance', 'leaf_size': 24}\n",
      "35.437083420344514 1.6030159041518444 {'p': 8, 'n_neighbors': 4, 'weights': 'distance', 'leaf_size': 24}\n",
      "35.8522548128814 2.6404754522062346 {'p': 1, 'n_neighbors': 5, 'weights': 'distance', 'leaf_size': 24}\n",
      "34.94359643082949 2.2929604365230483 {'p': 2, 'n_neighbors': 5, 'weights': 'distance', 'leaf_size': 24}\n",
      "35.239749574381044 2.059232028213107 {'p': 4, 'n_neighbors': 5, 'weights': 'distance', 'leaf_size': 24}\n",
      "35.34245090352513 2.0737342483983094 {'p': 8, 'n_neighbors': 5, 'weights': 'distance', 'leaf_size': 24}\n",
      "35.264072006124515 1.849866101521706 {'p': 1, 'n_neighbors': 10, 'weights': 'distance', 'leaf_size': 24}\n",
      "33.98684251980965 1.7921908435090066 {'p': 2, 'n_neighbors': 10, 'weights': 'distance', 'leaf_size': 24}\n",
      "33.60508831683898 1.8320646300301064 {'p': 4, 'n_neighbors': 10, 'weights': 'distance', 'leaf_size': 24}\n",
      "33.97467856666637 2.296483474606561 {'p': 8, 'n_neighbors': 10, 'weights': 'distance', 'leaf_size': 24}\n",
      "35.02739827298305 2.913012395518887 {'p': 1, 'n_neighbors': 1, 'weights': 'distance', 'leaf_size': 48}\n",
      "35.42040472064373 2.641554401628401 {'p': 2, 'n_neighbors': 1, 'weights': 'distance', 'leaf_size': 48}\n",
      "35.08446367684291 3.1007429909857707 {'p': 4, 'n_neighbors': 1, 'weights': 'distance', 'leaf_size': 48}\n",
      "35.159747302215635 2.9123673377926016 {'p': 8, 'n_neighbors': 1, 'weights': 'distance', 'leaf_size': 48}\n",
      "36.927584068252614 2.9939712001242276 {'p': 1, 'n_neighbors': 4, 'weights': 'distance', 'leaf_size': 48}\n",
      "35.393718745333736 1.6985321334812675 {'p': 2, 'n_neighbors': 4, 'weights': 'distance', 'leaf_size': 48}\n",
      "35.04053404847993 1.6347105593113271 {'p': 4, 'n_neighbors': 4, 'weights': 'distance', 'leaf_size': 48}\n",
      "35.371926449385505 1.5410145545806884 {'p': 8, 'n_neighbors': 4, 'weights': 'distance', 'leaf_size': 48}\n",
      "35.91760230828579 2.563522704556417 {'p': 1, 'n_neighbors': 5, 'weights': 'distance', 'leaf_size': 48}\n",
      "34.93810291485196 2.326015035760951 {'p': 2, 'n_neighbors': 5, 'weights': 'distance', 'leaf_size': 48}\n",
      "35.21873460663186 2.051817300879891 {'p': 4, 'n_neighbors': 5, 'weights': 'distance', 'leaf_size': 48}\n",
      "35.31901222273578 2.060542701791027 {'p': 8, 'n_neighbors': 5, 'weights': 'distance', 'leaf_size': 48}\n",
      "35.47046338341417 1.9443336175640393 {'p': 1, 'n_neighbors': 10, 'weights': 'distance', 'leaf_size': 48}\n",
      "33.910743846651826 1.839685699330507 {'p': 2, 'n_neighbors': 10, 'weights': 'distance', 'leaf_size': 48}\n",
      "33.46196052020114 1.9476004046717268 {'p': 4, 'n_neighbors': 10, 'weights': 'distance', 'leaf_size': 48}\n",
      "33.917907173708926 2.383207131809581 {'p': 8, 'n_neighbors': 10, 'weights': 'distance', 'leaf_size': 48}\n"
     ]
    }
   ],
   "source": [
    "cvres = rf_random.cv_results_\n",
    "for mean_score, std_score, params in zip(cvres['mean_test_score'], cvres['std_test_score'], cvres['params']):\n",
    "    print(mean_score * 100, std_score * 100, params)"
   ]
  },
  {
   "cell_type": "code",
   "execution_count": 9,
   "metadata": {
    "_uuid": "663aec352907faae79b29e30b315e4cb8950541a"
   },
   "outputs": [
    {
     "name": "stdout",
     "output_type": "stream",
     "text": [
      "36.98897351482336\n"
     ]
    }
   ],
   "source": [
    "print(rf_random.best_score_ * 100)"
   ]
  },
  {
   "cell_type": "code",
   "execution_count": 12,
   "metadata": {
    "_uuid": "2b56d7acd9ddc04450cd912b954717453c990ce5"
   },
   "outputs": [
    {
     "data": {
      "text/plain": [
       "{'algorithm': 'auto',\n",
       " 'leaf_size': 24,\n",
       " 'metric': 'minkowski',\n",
       " 'metric_params': None,\n",
       " 'n_jobs': 1,\n",
       " 'n_neighbors': 4,\n",
       " 'p': 1,\n",
       " 'weights': 'distance'}"
      ]
     },
     "execution_count": 12,
     "metadata": {},
     "output_type": "execute_result"
    }
   ],
   "source": [
    "best_clf.get_params()"
   ]
  },
  {
   "cell_type": "markdown",
   "metadata": {
    "_uuid": "227e684224c3e5f9c99cc32780d0c744ff0a708e"
   },
   "source": [
    "# Predict on test set & export"
   ]
  },
  {
   "cell_type": "code",
   "execution_count": 13,
   "metadata": {
    "_uuid": "9c7e9466c81cd401e595e3290e0f5d80611bff03"
   },
   "outputs": [
    {
     "data": {
      "text/plain": [
       "KNeighborsClassifier(algorithm='auto', leaf_size=24, metric='minkowski',\n",
       "           metric_params=None, n_jobs=1, n_neighbors=4, p=1,\n",
       "           weights='distance')"
      ]
     },
     "execution_count": 13,
     "metadata": {},
     "output_type": "execute_result"
    }
   ],
   "source": [
    "X = train.X()\n",
    "y = train.y()\n",
    "best_clf.fit(X, y)"
   ]
  },
  {
   "cell_type": "code",
   "execution_count": 14,
   "metadata": {
    "_uuid": "4a5802779eb3ff82332bb11d815551d21376f1a0"
   },
   "outputs": [],
   "source": [
    "# Build test dataset on Household level\n",
    "df_test = pd.read_csv(path + 'test.csv')\n",
    "test = Household(df_test)\n",
    "X = test.X()\n",
    "X_test = X"
   ]
  },
  {
   "cell_type": "code",
   "execution_count": 15,
   "metadata": {
    "_uuid": "a875e066dc97383e3a1fee22cd50def9dc28f2e4"
   },
   "outputs": [],
   "source": [
    "X_test['Target'] = clf.predict(X_test)"
   ]
  },
  {
   "cell_type": "markdown",
   "metadata": {
    "_uuid": "07b11305cab09e809501e747056d7040f387d6ff"
   },
   "source": [
    "Now we need to copy the result on a household level to an individual level:"
   ]
  },
  {
   "cell_type": "code",
   "execution_count": 16,
   "metadata": {
    "_uuid": "2575a2912de806a565a3e2c93f72f4a6027f948a"
   },
   "outputs": [],
   "source": [
    "df_test['Target'] = None\n",
    "\n",
    "def target(idhogar):\n",
    "    return X_test.Target[idhogar]\n",
    "\n",
    "df_test['Target'] = df_test.idhogar.map(target)"
   ]
  },
  {
   "cell_type": "code",
   "execution_count": 17,
   "metadata": {
    "_uuid": "65b1c573f9a0b58a5918cd7f0b8234e016c24798"
   },
   "outputs": [],
   "source": [
    "df_test[['Id', 'Target']].to_csv(\"sample_submission.csv\", index=False)"
   ]
  }
 ],
 "metadata": {
  "anaconda-cloud": {},
  "kernelspec": {
   "display_name": "Python [default]",
   "language": "python",
   "name": "python3"
  },
  "language_info": {
   "codemirror_mode": {
    "name": "ipython",
    "version": 3
   },
   "file_extension": ".py",
   "mimetype": "text/x-python",
   "name": "python",
   "nbconvert_exporter": "python",
   "pygments_lexer": "ipython3",
   "version": "3.5.4"
  }
 },
 "nbformat": 4,
 "nbformat_minor": 1
}
