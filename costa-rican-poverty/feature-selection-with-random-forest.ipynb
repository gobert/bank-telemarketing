{
 "cells": [
  {
   "cell_type": "code",
   "execution_count": 2,
   "metadata": {},
   "outputs": [],
   "source": [
    "import pandas as pd"
   ]
  },
  {
   "cell_type": "code",
   "execution_count": 3,
   "metadata": {},
   "outputs": [],
   "source": [
    "df = pd.read_csv(\"data/train.csv\")"
   ]
  },
  {
   "cell_type": "markdown",
   "metadata": {},
   "source": [
    "# 1. Target are per household"
   ]
  },
  {
   "cell_type": "code",
   "execution_count": 5,
   "metadata": {},
   "outputs": [
    {
     "name": "stdout",
     "output_type": "stream",
     "text": [
      "No per household: 0\n",
      "1 target per household: 2903\n",
      "More targets per household: 85 or 2.8%\n"
     ]
    }
   ],
   "source": [
    "target_per_household = df.groupby(['idhogar'])['Target'].nunique()\n",
    "\n",
    "no_target = len(target_per_household.loc[target_per_household == 0])\n",
    "unique_target = len(target_per_household.loc[target_per_household == 1])\n",
    "more_targets = len(target_per_household.loc[target_per_household > 1])\n",
    "more_targets_perc = more_targets / (no_target + unique_target + more_targets)\n",
    "\n",
    "print(\"No per household: {}\".format(no_target))\n",
    "print(\"1 target per household: {}\".format(unique_target))\n",
    "print(\"More targets per household: {} or {:.1f}%\" .format(more_targets, more_targets_perc * 100))"
   ]
  },
  {
   "cell_type": "markdown",
   "metadata": {},
   "source": [
    "As in the competition title, \"Household Poverty Level Prediction\", we will consider the Target per household, and define the other as **outliers** that we will in a first time **delete**.\n",
    "\n",
    "Kaggle discussion, mention to clean the data using the household value in caseof discrepency: https://www.kaggle.com/c/costa-rican-household-poverty-prediction/discussion/61403"
   ]
  },
  {
   "cell_type": "markdown",
   "metadata": {},
   "source": [
    "# 2. Categorical features"
   ]
  },
  {
   "cell_type": "code",
   "execution_count": 28,
   "metadata": {},
   "outputs": [
    {
     "data": {
      "text/plain": [
       "['Id', 'idhogar', 'dependency', 'edjefe', 'edjefa']"
      ]
     },
     "execution_count": 28,
     "metadata": {},
     "output_type": "execute_result"
    }
   ],
   "source": [
    "categorical_features = df.columns.tolist()\n",
    "for feature in df.describe().columns:\n",
    "    categorical_features.remove(feature)\n",
    "\n",
    "# Just for saving them\n",
    "numerical_features = df.columns.tolist()\n",
    "for categorical_feature in categorical_features:\n",
    "    numerical_features.remove(categorical_feature)\n",
    "    \n",
    "categorical_features"
   ]
  },
  {
   "cell_type": "code",
   "execution_count": 12,
   "metadata": {},
   "outputs": [
    {
     "data": {
      "text/html": [
       "<div>\n",
       "<style scoped>\n",
       "    .dataframe tbody tr th:only-of-type {\n",
       "        vertical-align: middle;\n",
       "    }\n",
       "\n",
       "    .dataframe tbody tr th {\n",
       "        vertical-align: top;\n",
       "    }\n",
       "\n",
       "    .dataframe thead th {\n",
       "        text-align: right;\n",
       "    }\n",
       "</style>\n",
       "<table border=\"1\" class=\"dataframe\">\n",
       "  <thead>\n",
       "    <tr style=\"text-align: right;\">\n",
       "      <th></th>\n",
       "      <th>Id</th>\n",
       "      <th>idhogar</th>\n",
       "      <th>dependency</th>\n",
       "      <th>edjefe</th>\n",
       "      <th>edjefa</th>\n",
       "    </tr>\n",
       "  </thead>\n",
       "  <tbody>\n",
       "    <tr>\n",
       "      <th>0</th>\n",
       "      <td>ID_279628684</td>\n",
       "      <td>21eb7fcc1</td>\n",
       "      <td>no</td>\n",
       "      <td>10</td>\n",
       "      <td>no</td>\n",
       "    </tr>\n",
       "    <tr>\n",
       "      <th>1</th>\n",
       "      <td>ID_f29eb3ddd</td>\n",
       "      <td>0e5d7a658</td>\n",
       "      <td>8</td>\n",
       "      <td>12</td>\n",
       "      <td>no</td>\n",
       "    </tr>\n",
       "    <tr>\n",
       "      <th>2</th>\n",
       "      <td>ID_68de51c94</td>\n",
       "      <td>2c7317ea8</td>\n",
       "      <td>8</td>\n",
       "      <td>no</td>\n",
       "      <td>11</td>\n",
       "    </tr>\n",
       "    <tr>\n",
       "      <th>3</th>\n",
       "      <td>ID_d671db89c</td>\n",
       "      <td>2b58d945f</td>\n",
       "      <td>yes</td>\n",
       "      <td>11</td>\n",
       "      <td>no</td>\n",
       "    </tr>\n",
       "    <tr>\n",
       "      <th>4</th>\n",
       "      <td>ID_d56d6f5f5</td>\n",
       "      <td>2b58d945f</td>\n",
       "      <td>yes</td>\n",
       "      <td>11</td>\n",
       "      <td>no</td>\n",
       "    </tr>\n",
       "  </tbody>\n",
       "</table>\n",
       "</div>"
      ],
      "text/plain": [
       "             Id    idhogar dependency edjefe edjefa\n",
       "0  ID_279628684  21eb7fcc1         no     10     no\n",
       "1  ID_f29eb3ddd  0e5d7a658          8     12     no\n",
       "2  ID_68de51c94  2c7317ea8          8     no     11\n",
       "3  ID_d671db89c  2b58d945f        yes     11     no\n",
       "4  ID_d56d6f5f5  2b58d945f        yes     11     no"
      ]
     },
     "execution_count": 12,
     "metadata": {},
     "output_type": "execute_result"
    }
   ],
   "source": [
    "df[categorical_features].head()"
   ]
  },
  {
   "cell_type": "markdown",
   "metadata": {},
   "source": [
    "Features ID, those will obviously not beeing predictive (or will overfit), so we can ignore:\n",
    "- Id\n",
    "- idhogar\n",
    "\n",
    "Other categorical features:\n",
    "- **dependency**': Dependency rate. We can use its squraed feature **SQBdependency**.\n",
    "- **edjefe**, years of education of male head of household. We can use its squared feature **SQBedjefe**\n",
    "- **edjefa**, years of education of female head of household."
   ]
  },
  {
   "cell_type": "code",
   "execution_count": 14,
   "metadata": {},
   "outputs": [
    {
     "data": {
      "text/html": [
       "<div>\n",
       "<style scoped>\n",
       "    .dataframe tbody tr th:only-of-type {\n",
       "        vertical-align: middle;\n",
       "    }\n",
       "\n",
       "    .dataframe tbody tr th {\n",
       "        vertical-align: top;\n",
       "    }\n",
       "\n",
       "    .dataframe thead th {\n",
       "        text-align: right;\n",
       "    }\n",
       "</style>\n",
       "<table border=\"1\" class=\"dataframe\">\n",
       "  <thead>\n",
       "    <tr style=\"text-align: right;\">\n",
       "      <th></th>\n",
       "      <th>edjefe</th>\n",
       "      <th>SQBedjefe</th>\n",
       "    </tr>\n",
       "  </thead>\n",
       "  <tbody>\n",
       "    <tr>\n",
       "      <th>0</th>\n",
       "      <td>10</td>\n",
       "      <td>100</td>\n",
       "    </tr>\n",
       "    <tr>\n",
       "      <th>1</th>\n",
       "      <td>12</td>\n",
       "      <td>144</td>\n",
       "    </tr>\n",
       "    <tr>\n",
       "      <th>2</th>\n",
       "      <td>no</td>\n",
       "      <td>0</td>\n",
       "    </tr>\n",
       "    <tr>\n",
       "      <th>3</th>\n",
       "      <td>11</td>\n",
       "      <td>121</td>\n",
       "    </tr>\n",
       "    <tr>\n",
       "      <th>4</th>\n",
       "      <td>11</td>\n",
       "      <td>121</td>\n",
       "    </tr>\n",
       "  </tbody>\n",
       "</table>\n",
       "</div>"
      ],
      "text/plain": [
       "  edjefe  SQBedjefe\n",
       "0     10        100\n",
       "1     12        144\n",
       "2     no          0\n",
       "3     11        121\n",
       "4     11        121"
      ]
     },
     "execution_count": 14,
     "metadata": {},
     "output_type": "execute_result"
    }
   ],
   "source": [
    "df[['edjefe', 'SQBedjefe']].head()"
   ]
  },
  {
   "cell_type": "code",
   "execution_count": 16,
   "metadata": {},
   "outputs": [
    {
     "data": {
      "text/html": [
       "<div>\n",
       "<style scoped>\n",
       "    .dataframe tbody tr th:only-of-type {\n",
       "        vertical-align: middle;\n",
       "    }\n",
       "\n",
       "    .dataframe tbody tr th {\n",
       "        vertical-align: top;\n",
       "    }\n",
       "\n",
       "    .dataframe thead th {\n",
       "        text-align: right;\n",
       "    }\n",
       "</style>\n",
       "<table border=\"1\" class=\"dataframe\">\n",
       "  <thead>\n",
       "    <tr style=\"text-align: right;\">\n",
       "      <th></th>\n",
       "      <th>edjefe</th>\n",
       "      <th>SQBedjefe</th>\n",
       "    </tr>\n",
       "  </thead>\n",
       "  <tbody>\n",
       "    <tr>\n",
       "      <th>0</th>\n",
       "      <td>10</td>\n",
       "      <td>100</td>\n",
       "    </tr>\n",
       "    <tr>\n",
       "      <th>1</th>\n",
       "      <td>12</td>\n",
       "      <td>144</td>\n",
       "    </tr>\n",
       "    <tr>\n",
       "      <th>2</th>\n",
       "      <td>no</td>\n",
       "      <td>0</td>\n",
       "    </tr>\n",
       "    <tr>\n",
       "      <th>3</th>\n",
       "      <td>11</td>\n",
       "      <td>121</td>\n",
       "    </tr>\n",
       "    <tr>\n",
       "      <th>4</th>\n",
       "      <td>11</td>\n",
       "      <td>121</td>\n",
       "    </tr>\n",
       "  </tbody>\n",
       "</table>\n",
       "</div>"
      ],
      "text/plain": [
       "  edjefe  SQBedjefe\n",
       "0     10        100\n",
       "1     12        144\n",
       "2     no          0\n",
       "3     11        121\n",
       "4     11        121"
      ]
     },
     "execution_count": 16,
     "metadata": {},
     "output_type": "execute_result"
    }
   ],
   "source": [
    "df[['edjefe', 'SQBedjefe']].head()"
   ]
  },
  {
   "cell_type": "markdown",
   "metadata": {},
   "source": [
    "# 3. Empty values in numerical features"
   ]
  },
  {
   "cell_type": "code",
   "execution_count": 17,
   "metadata": {},
   "outputs": [
    {
     "name": "stdout",
     "output_type": "stream",
     "text": [
      "Number of observations 9557\n"
     ]
    }
   ],
   "source": [
    "print(\"Number of observations {}\".format(len(df)))"
   ]
  },
  {
   "cell_type": "code",
   "execution_count": 21,
   "metadata": {},
   "outputs": [
    {
     "data": {
      "text/plain": [
       "rez_esc      7928\n",
       "v18q1        7342\n",
       "v2a1         6860\n",
       "meaneduc        5\n",
       "SQBmeaned       5\n",
       "dtype: int64"
      ]
     },
     "execution_count": 21,
     "metadata": {},
     "output_type": "execute_result"
    }
   ],
   "source": [
    "features_with_null = df.isna().sum().sort_values(ascending=False)\n",
    "features_with_null = features_with_null.loc[features_with_null > 0]\n",
    "feature_names_with_null = features_with_null.index.tolist()\n",
    "\n",
    "features_with_null"
   ]
  },
  {
   "cell_type": "markdown",
   "metadata": {},
   "source": [
    "* rez_esc      7928 null values for Years behind in school. Too much null values: unusable\n",
    "* v2a1         6860 null values for Monthly rent payment. Unusable.\n",
    "\n",
    "* v18q1        7342 null values for number of tablets household owns. Unusable but summing **v18q** by household may help.\n",
    "\n",
    "* meaneduc        5 null values for average years of education for adults. We may fullfill those values.\n",
    "* SQBmeaned       5 null values for square of the mean years of education of adults. We may fullfill those values.\n",
    "\n",
    "# 4. Feature selection with RandomForest"
   ]
  },
  {
   "cell_type": "code",
   "execution_count": 35,
   "metadata": {},
   "outputs": [],
   "source": [
    "selectable_features = numerical_features.copy()\n",
    "selectable_features.remove('Target')\n",
    "for feature in feature_names_with_null:\n",
    "    selectable_features.remove(feature)\n",
    "\n",
    "X = df[selectable_features]\n",
    "y = df.Target"
   ]
  },
  {
   "cell_type": "code",
   "execution_count": 37,
   "metadata": {},
   "outputs": [],
   "source": [
    "from sklearn.model_selection import train_test_split\n",
    "\n",
    "X_train, X_test, y_train, y_test = train_test_split(X, y, random_state=112, test_size=0.2)"
   ]
  },
  {
   "cell_type": "code",
   "execution_count": 38,
   "metadata": {},
   "outputs": [
    {
     "data": {
      "text/plain": [
       "[('SQBedjefe', 3.1738779558617964),\n",
       " ('SQBescolari', 3.1080936779177093),\n",
       " ('SQBdependency', 3.0549420719404408),\n",
       " ('SQBovercrowding', 2.922785569188261),\n",
       " ('qmobilephone', 2.804497025812769),\n",
       " ('escolari', 2.641310138377618),\n",
       " ('SQBage', 2.6192385217816443),\n",
       " ('SQBhogar_nin', 2.5603483789128876),\n",
       " ('agesq', 2.5476068769762614),\n",
       " ('hogar_nin', 2.5289363570864096),\n",
       " ('overcrowding', 2.4631057182236247),\n",
       " ('age', 2.382853394978264),\n",
       " ('rooms', 2.3097185423369404),\n",
       " ('r4t2', 2.018727640018228),\n",
       " ('r4h2', 1.9090608573386556),\n",
       " ('r4m3', 1.8664462248387432),\n",
       " ('r4h3', 1.7717784310300164),\n",
       " ('cielorazo', 1.6814540234984985),\n",
       " ('bedrooms', 1.5963041304152152),\n",
       " ('hogar_adul', 1.520240712732043),\n",
       " ('r4m2', 1.3840545959798576),\n",
       " ('paredblolad', 1.3773482308953038),\n",
       " ('r4m1', 1.3634778502601774),\n",
       " ('r4t1', 1.3164900585489878),\n",
       " ('r4t3', 1.2180905602347234),\n",
       " ('v18q', 1.2177644424785852),\n",
       " ('energcocinar2', 1.2076817902622963),\n",
       " ('tamviv', 1.1821583827230668),\n",
       " ('tamhog', 1.1586422259271574),\n",
       " ('r4h1', 1.1379692502514385),\n",
       " ('hhsize', 1.1281284507908877),\n",
       " ('SQBhogar_total', 1.0853201378398531),\n",
       " ('hogar_total', 1.084178420773334),\n",
       " ('eviv3', 1.0832687139947355),\n",
       " ('television', 1.066904172887976),\n",
       " ('pisomoscer', 1.039619398983756),\n",
       " ('etecho3', 1.026034687494975),\n",
       " ('epared3', 0.9889561956178013),\n",
       " ('hogar_mayor', 0.9499901610037002),\n",
       " ('epared2', 0.9323283762013181),\n",
       " ('etecho2', 0.8888013710110455),\n",
       " ('lugar1', 0.8765870340029945),\n",
       " ('tipovivi1', 0.8692026812995092),\n",
       " ('area2', 0.8559445023087684),\n",
       " ('sanitario3', 0.7890917624039928),\n",
       " ('eviv2', 0.7843434427347646),\n",
       " ('energcocinar3', 0.7824563676437292),\n",
       " ('area1', 0.7677397577458007),\n",
       " ('tipovivi5', 0.7546854313018337),\n",
       " ('etecho1', 0.7434607114644366),\n",
       " ('epared1', 0.7330048432045484),\n",
       " ('lugar5', 0.6983284985270544),\n",
       " ('lugar3', 0.6930281011469713),\n",
       " ('paredpreb', 0.684016087541935),\n",
       " ('paredmad', 0.6601031789861301),\n",
       " ('elimbasu1', 0.6559471638150893),\n",
       " ('pisocemento', 0.6399500263367353),\n",
       " ('tipovivi3', 0.626492514378413),\n",
       " ('lugar4', 0.614181069479452),\n",
       " ('paredzocalo', 0.6107185189654544),\n",
       " ('sanitario2', 0.5910119185728162),\n",
       " ('lugar2', 0.5089040873154725),\n",
       " ('tipovivi2', 0.5031250473290176),\n",
       " ('estadocivil3', 0.4972577065509596),\n",
       " ('computer', 0.48334475437889507),\n",
       " ('refrig', 0.4763158347697945),\n",
       " ('pisomadera', 0.47357595527042295),\n",
       " ('coopele', 0.47353387767996646),\n",
       " ('energcocinar4', 0.4726230708381239),\n",
       " ('female', 0.4722193679886856),\n",
       " ('public', 0.47059988198717934),\n",
       " ('parentesco3', 0.45333524546249443),\n",
       " ('lugar6', 0.4406720829985192),\n",
       " ('elimbasu3', 0.4400967288105807),\n",
       " ('male', 0.4231522592049521),\n",
       " ('eviv1', 0.42183921369217964),\n",
       " ('instlevel2', 0.41718625624614136),\n",
       " ('parentesco1', 0.3959103896376226),\n",
       " ('estadocivil2', 0.3880097540972644),\n",
       " ('estadocivil7', 0.3835821751098442),\n",
       " ('dis', 0.33876121722825764),\n",
       " ('instlevel3', 0.33847142634432814),\n",
       " ('instlevel4', 0.32418644638858085),\n",
       " ('abastaguafuera', 0.3180235779894628),\n",
       " ('abastaguadentro', 0.2891204799390716),\n",
       " ('instlevel1', 0.27869071532355566),\n",
       " ('parentesco2', 0.26798786412635955),\n",
       " ('estadocivil5', 0.2657756873356001),\n",
       " ('elimbasu2', 0.24879983539915343),\n",
       " ('parentesco6', 0.24221740239342926),\n",
       " ('mobilephone', 0.206038835359153),\n",
       " ('estadocivil6', 0.17891747853421405),\n",
       " ('techozinc', 0.1702090616246549),\n",
       " ('hacdor', 0.16738387795973553),\n",
       " ('sanitario5', 0.14985359551518843),\n",
       " ('estadocivil4', 0.13897471934850864),\n",
       " ('instlevel5', 0.13374453643055792),\n",
       " ('estadocivil1', 0.12754259107157956),\n",
       " ('instlevel6', 0.12413328806371313),\n",
       " ('tipovivi4', 0.12208869163612575),\n",
       " ('techoentrepiso', 0.10993135237295457),\n",
       " ('pareddes', 0.09300539544095825),\n",
       " ('pisonotiene', 0.07963940784955083),\n",
       " ('parentesco9', 0.07796866967874867),\n",
       " ('hacapo', 0.07323294581220563),\n",
       " ('parentesco11', 0.0710310913905982),\n",
       " ('parentesco5', 0.07064294091451512),\n",
       " ('instlevel8', 0.06712410785521705),\n",
       " ('paredzinc', 0.061887504404066866),\n",
       " ('parentesco4', 0.060774536998613814),\n",
       " ('parentesco7', 0.05880544321668739),\n",
       " ('instlevel7', 0.05472632021909341),\n",
       " ('v14a', 0.04981902007344986),\n",
       " ('elimbasu4', 0.04172109518460815),\n",
       " ('sanitario1', 0.03863944239284834),\n",
       " ('energcocinar1', 0.03745670269692076),\n",
       " ('abastaguano', 0.03558452088318189),\n",
       " ('sanitario6', 0.033983637235611514),\n",
       " ('parentesco12', 0.028230192132644643),\n",
       " ('parentesco8', 0.01826774096656846),\n",
       " ('techocane', 0.016779567084767286),\n",
       " ('parentesco10', 0.012173988068049259),\n",
       " ('pisonatur', 0.01086365327013266),\n",
       " ('noelec', 0.00731587236315168),\n",
       " ('elimbasu6', 0.003731362530680634),\n",
       " ('paredfibras', 0.003668365229688296),\n",
       " ('techootro', 0.003235615036942271),\n",
       " ('planpri', 0.002350602962712888),\n",
       " ('paredother', 0.0018501986642820657),\n",
       " ('instlevel9', 0.0005263544037709504),\n",
       " ('pisoother', 0.0),\n",
       " ('elimbasu5', 0.0)]"
      ]
     },
     "execution_count": 38,
     "metadata": {},
     "output_type": "execute_result"
    }
   ],
   "source": [
    "# from sklearn.ensemble import RandomForestClassifier\n",
    "from sklearn.ensemble import RandomForestClassifier\n",
    "clf= RandomForestClassifier()\n",
    "clf.fit(X_train, y_train)\n",
    "\n",
    "sorted(zip(X.columns, clf.feature_importances_ * 100), key=lambda x: -x[1])"
   ]
  },
  {
   "cell_type": "markdown",
   "metadata": {},
   "source": [
    "# 5. First evaluation\n",
    "How to resist?"
   ]
  },
  {
   "cell_type": "code",
   "execution_count": 39,
   "metadata": {},
   "outputs": [
    {
     "data": {
      "text/plain": [
       "RandomForestClassifier(bootstrap=True, class_weight=None, criterion='gini',\n",
       "            max_depth=None, max_features='auto', max_leaf_nodes=None,\n",
       "            min_impurity_decrease=0.0, min_impurity_split=None,\n",
       "            min_samples_leaf=1, min_samples_split=2,\n",
       "            min_weight_fraction_leaf=0.0, n_estimators=10, n_jobs=1,\n",
       "            oob_score=False, random_state=None, verbose=0,\n",
       "            warm_start=False)"
      ]
     },
     "execution_count": 39,
     "metadata": {},
     "output_type": "execute_result"
    }
   ],
   "source": [
    "selected_features = ['SQBedjefe', 'SQBdependency', 'overcrowding', 'qmobilephone', 'SQBage', 'rooms', 'SQBhogar_nin']\n",
    "\n",
    "X_train_4predict = X_train[selected_features]\n",
    "predictor = RandomForestClassifier()\n",
    "predictor.fit(X_train_4predict, y_train)"
   ]
  },
  {
   "cell_type": "code",
   "execution_count": 40,
   "metadata": {},
   "outputs": [],
   "source": [
    "X_test_4predict = X_test[selected_features]\n",
    "y_predict = predictor.predict(X_test_4predict)"
   ]
  },
  {
   "cell_type": "code",
   "execution_count": 42,
   "metadata": {},
   "outputs": [
    {
     "name": "stdout",
     "output_type": "stream",
     "text": [
      "precision: [0.62406015 0.71565495 0.60606061 0.85020243]\n",
      "recall: [0.58041958 0.63456091 0.57613169 0.89514066]\n",
      "fscore: [0.60144928 0.67267267 0.5907173  0.87209302]\n",
      "support: [ 143  353  243 1173]\n"
     ]
    }
   ],
   "source": [
    "from sklearn.metrics import precision_recall_fscore_support as score\n",
    "\n",
    "precision, recall, fscore, support = score(y_test, y_predict)\n",
    "\n",
    "print('precision: {}'.format(precision))\n",
    "print('recall: {}'.format(recall))\n",
    "print('fscore: {}'.format(fscore))\n",
    "print('support: {}'.format(support))"
   ]
  },
  {
   "cell_type": "code",
   "execution_count": 58,
   "metadata": {},
   "outputs": [
    {
     "data": {
      "text/plain": [
       "0.6842330677172161"
      ]
     },
     "execution_count": 58,
     "metadata": {},
     "output_type": "execute_result"
    }
   ],
   "source": [
    "from sklearn.metrics import f1_score\n",
    "f1_score(y_test, y_predict, average='macro')"
   ]
  },
  {
   "cell_type": "markdown",
   "metadata": {},
   "source": [
    "# 5. Predicting and sending"
   ]
  },
  {
   "cell_type": "code",
   "execution_count": 45,
   "metadata": {},
   "outputs": [],
   "source": [
    "df_eval = pd.read_csv(\"data/test.csv\")"
   ]
  },
  {
   "cell_type": "code",
   "execution_count": 51,
   "metadata": {},
   "outputs": [],
   "source": [
    "X_eval = df_eval[selected_features]\n",
    "df_eval['Target'] = predictor.predict(X_eval)"
   ]
  },
  {
   "cell_type": "code",
   "execution_count": 57,
   "metadata": {},
   "outputs": [],
   "source": [
    "df_eval[['Id', 'Target']].to_csv(\"data/out.csv\", index=False)"
   ]
  },
  {
   "cell_type": "markdown",
   "metadata": {},
   "source": [
    "Kaggle gave me a result of 0.349  on this first try, which show a huge overfitt, which is also normal with a model like random forest.\n",
    "\n",
    "I also ranked 82 / 106."
   ]
  },
  {
   "cell_type": "code",
   "execution_count": null,
   "metadata": {},
   "outputs": [],
   "source": []
  }
 ],
 "metadata": {
  "kernelspec": {
   "display_name": "Python [default]",
   "language": "python",
   "name": "python3"
  },
  "language_info": {
   "codemirror_mode": {
    "name": "ipython",
    "version": 3
   },
   "file_extension": ".py",
   "mimetype": "text/x-python",
   "name": "python",
   "nbconvert_exporter": "python",
   "pygments_lexer": "ipython3",
   "version": "3.5.4"
  }
 },
 "nbformat": 4,
 "nbformat_minor": 2
}
