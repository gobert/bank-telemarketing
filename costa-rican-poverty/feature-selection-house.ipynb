{
 "cells": [
  {
   "cell_type": "code",
   "execution_count": 69,
   "metadata": {},
   "outputs": [],
   "source": [
    "import pandas as pd\n",
    "import numpy as np"
   ]
  },
  {
   "cell_type": "code",
   "execution_count": 107,
   "metadata": {},
   "outputs": [],
   "source": [
    "# This will be an helper method to reuse the code between train and test set\n",
    "from sklearn.decomposition import PCA\n",
    "\n",
    "class HouseholdDataFrame():\n",
    "    def __init__(self, individuals): \n",
    "        self.individuals = individuals\n",
    "        self.grouped_individuals = individuals.groupby('idhogar')\n",
    "        self.household = pd.DataFrame()\n",
    "        \n",
    "    def X(self):\n",
    "        self.household['wall-wood'] = self.grouped_individuals.paredzocalo.mean().replace({None: 0., np.NaN: 0.0})\n",
    "        self.household['wall-cement'] = self.grouped_individuals.paredpreb.mean().replace({None: 0., np.NaN: 0.0})\n",
    "        self.household['wall-waste'] = self.grouped_individuals.pareddes.mean().replace({None: 0., np.NaN: 0.0})\n",
    "        self.household['wall-wood2'] = self.grouped_individuals.paredmad.mean().replace({None: 0., np.NaN: 0.0})\n",
    "        self.household['wall-zinc'] = self.grouped_individuals.paredzinc.mean().replace({None: 0., np.NaN: 0.0})\n",
    "        self.household['wall-fibers'] = self.grouped_individuals.paredfibras.mean().replace({None: 0., np.NaN: 0.0})\n",
    "        self.household['wall-other'] = self.grouped_individuals.paredother.mean().replace({None: 0., np.NaN: 0.0})\n",
    "\n",
    "        self.household['wall1'] = self.grouped_individuals.epared1.mean().replace({None: 0., np.NaN: 0.0})\n",
    "        self.household['wall2'] = self.grouped_individuals.epared2.mean().replace({None: 0., np.NaN: 0.0})\n",
    "        self.household['wall3'] = self.grouped_individuals.epared3.mean().replace({None: 0., np.NaN: 0.0})\n",
    "\n",
    "        self.household['floor-ceramic'] = self.grouped_individuals.pisomoscer.mean().replace({None: 0., np.NaN: 0.0})\n",
    "        self.household['floor-cement'] = self.grouped_individuals.pisocemento.mean().replace({None: 0., np.NaN: 0.0})\n",
    "        self.household['floor-other'] = self.grouped_individuals.pisoother.mean().replace({None: 0., np.NaN: 0.0})\n",
    "        self.household['floor-natural'] = self.grouped_individuals.pisonatur.mean().replace({None: 0., np.NaN: 0.0})\n",
    "        self.household['floor-no'] = self.grouped_individuals.pisonotiene.mean().replace({None: 0., np.NaN: 0.0})\n",
    "        self.household['floor-wood'] = self.grouped_individuals.pisomadera.mean().replace({None: 0., np.NaN: 0.0})\n",
    "\n",
    "        self.household['floor1'] = self.grouped_individuals.eviv1.mean().replace({None: 0., np.NaN: 0.0})\n",
    "        self.household['floor2'] = self.grouped_individuals.eviv2.mean().replace({None: 0., np.NaN: 0.0})\n",
    "        self.household['floor3'] = self.grouped_individuals.eviv3.mean().replace({None: 0., np.NaN: 0.0})\n",
    "\n",
    "        self.household['roof-zinc'] = self.grouped_individuals.techozinc.mean().replace({None: 0., np.NaN: 0.0})\n",
    "        self.household['roof-cement'] = self.grouped_individuals.techoentrepiso.mean().replace({None: 0., np.NaN: 0.0})\n",
    "        self.household['roof-natural'] = self.grouped_individuals.techocane.mean().replace({None: 0., np.NaN: 0.0})\n",
    "        self.household['roof-other'] = self.grouped_individuals.techootro.mean().replace({None: 0., np.NaN: 0.0})\n",
    "\n",
    "        self.household['roof1'] = self.grouped_individuals.etecho1.mean().replace({None: 0., np.NaN: 0.0})\n",
    "        self.household['roof2'] = self.grouped_individuals.etecho2.mean().replace({None: 0., np.NaN: 0.0})\n",
    "        self.household['roof3'] = self.grouped_individuals.etecho3.mean().replace({None: 0., np.NaN: 0.0})\n",
    "\n",
    "        self.household['ceiling'] = self.grouped_individuals.cielorazo.mean().replace({None: 0., np.NaN: 0.0})\n",
    "        self.household['water-inside'] = self.grouped_individuals.abastaguadentro.mean().replace({None: 0., np.NaN: 0.0})\n",
    "        self.household['water-outside'] = self.grouped_individuals.abastaguafuera.mean().replace({None: 0., np.NaN: 0.0})\n",
    "        self.household['water-no'] = self.grouped_individuals.abastaguano.mean().replace({None: 0., np.NaN: 0.0})\n",
    "\n",
    "        self.household['electricity-normal'] = self.grouped_individuals.public.mean().replace({None: 0., np.NaN: 0.0})\n",
    "        self.household['electricity-private'] = self.grouped_individuals.planpri.mean().replace({None: 0., np.NaN: 0.0})\n",
    "        self.household['electricity-no'] = self.grouped_individuals.noelec.mean().replace({None: 0., np.NaN: 0.0})\n",
    "        self.household['electricity-cooperative'] = self.grouped_individuals.coopele.mean().replace({None: 0., np.NaN: 0.0})\n",
    "\n",
    "        self.household['cooking-no'] = self.grouped_individuals.energcocinar1.mean().replace({None: 0., np.NaN: 0.0})\n",
    "        self.household['cooking-elec'] = self.grouped_individuals.energcocinar2.mean().replace({None: 0., np.NaN: 0.0})\n",
    "        self.household['cooking-gas'] = self.grouped_individuals.energcocinar3.mean().replace({None: 0., np.NaN: 0.0})\n",
    "        self.household['cooking-coal'] = self.grouped_individuals.energcocinar4.mean().replace({None: 0., np.NaN: 0.0})\n",
    "\n",
    "        self.household['rubbish1'] = self.grouped_individuals.elimbasu1.mean().replace({None: 0., np.NaN: 0.0})\n",
    "        self.household['rubbish2'] = self.grouped_individuals.elimbasu2.mean().replace({None: 0., np.NaN: 0.0})\n",
    "        self.household['rubbish3'] = self.grouped_individuals.elimbasu3.mean().replace({None: 0., np.NaN: 0.0})\n",
    "        self.household['rubbish4'] = self.grouped_individuals.elimbasu4.mean().replace({None: 0., np.NaN: 0.0})\n",
    "        self.household['rubbish5'] = self.grouped_individuals.elimbasu5.mean().replace({None: 0., np.NaN: 0.0})\n",
    "        self.household['rubbish6'] = self.grouped_individuals.elimbasu6.mean().replace({None: 0., np.NaN: 0.0})\n",
    "        \n",
    "        return self.household.loc[:, self.household.columns != 'Target']\n",
    "    \n",
    "    def X_reduced(self, n):\n",
    "        pca = PCA(n_components=n)\n",
    "        return pca.fit_transform(self.X())\n",
    "    \n",
    "    def y(self):\n",
    "        self.household['Target'] = self.grouped_individuals.Target.mean().round().astype(int)\n",
    "        return self.household.Target\n",
    "    "
   ]
  },
  {
   "cell_type": "code",
   "execution_count": 138,
   "metadata": {},
   "outputs": [],
   "source": [
    "individuals_df = pd.read_csv(\"data/train.csv\")\n",
    "households_df = HouseholdDataFrame(individuals_df)\n",
    "X = households_df.X_reduced(3)\n",
    "y = households_df.y()"
   ]
  },
  {
   "cell_type": "code",
   "execution_count": 139,
   "metadata": {},
   "outputs": [],
   "source": [
    "from sklearn.model_selection import train_test_split\n",
    "\n",
    "X_train, X_test, y_train, y_test = train_test_split(X, y, random_state=112, test_size=0.2)"
   ]
  },
  {
   "cell_type": "markdown",
   "metadata": {},
   "source": [
    "# Second feature engineering\n",
    "Out of my notebook, feature-selection I will take the important features, that are already aggregated on a Household level."
   ]
  },
  {
   "cell_type": "code",
   "execution_count": 140,
   "metadata": {},
   "outputs": [],
   "source": [
    "from sklearn.ensemble import RandomForestClassifier\n",
    "\n",
    "predictor = RandomForestClassifier()\n",
    "predictor.fit(X_train, y_train)\n",
    "None"
   ]
  },
  {
   "cell_type": "code",
   "execution_count": 141,
   "metadata": {},
   "outputs": [
    {
     "data": {
      "text/plain": [
       "0.3083343580223898"
      ]
     },
     "execution_count": 141,
     "metadata": {},
     "output_type": "execute_result"
    }
   ],
   "source": [
    "y_predict = predictor.predict(X_test)\n",
    "\n",
    "from sklearn.metrics import f1_score\n",
    "f1_score(y_test, y_predict, average='macro')"
   ]
  }
 ],
 "metadata": {
  "anaconda-cloud": {},
  "kernelspec": {
   "display_name": "Python [default]",
   "language": "python",
   "name": "python3"
  },
  "language_info": {
   "codemirror_mode": {
    "name": "ipython",
    "version": 3
   },
   "file_extension": ".py",
   "mimetype": "text/x-python",
   "name": "python",
   "nbconvert_exporter": "python",
   "pygments_lexer": "ipython3",
   "version": "3.5.4"
  }
 },
 "nbformat": 4,
 "nbformat_minor": 2
}
