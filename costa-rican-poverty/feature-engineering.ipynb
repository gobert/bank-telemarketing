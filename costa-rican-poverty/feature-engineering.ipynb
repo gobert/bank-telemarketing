{
 "cells": [
  {
   "cell_type": "code",
   "execution_count": 66,
   "metadata": {},
   "outputs": [],
   "source": [
    "import pandas as pd"
   ]
  },
  {
   "cell_type": "code",
   "execution_count": 67,
   "metadata": {},
   "outputs": [],
   "source": [
    "# This will be an helper method to reuse the code between train and test set\n",
    "\n",
    "class HouseholdDataFrame():\n",
    "    def __init__(self, individuals): \n",
    "        self.individuals = individuals\n",
    "        self.grouped_individuals = individuals.groupby('idhogar')\n",
    "        self.household = pd.DataFrame()\n",
    "        \n",
    "    def X(self):\n",
    "        self.household['SQBedjefe'] = self.grouped_individuals.SQBedjefe.mean()\n",
    "        self.household['SQBdependency'] = self.grouped_individuals.SQBdependency.mean()\n",
    "        self.household['overcrowding'] = self.grouped_individuals.overcrowding.mean()\n",
    "        self.household['qmobilephone'] = self.grouped_individuals.qmobilephone.mean()\n",
    "        self.household['rooms'] = self.grouped_individuals.rooms.mean()\n",
    "        self.household['SQBhogar_nin'] = self.grouped_individuals.SQBhogar_nin.mean()\n",
    "        self.household['G_people_count'] = self.grouped_individuals.age.count()\n",
    "      \n",
    "        return self.household.loc[:, self.household.columns != 'Target']\n",
    "    \n",
    "    def y(self):\n",
    "        self.household['Target'] = self.grouped_individuals.Target.mean().round().astype(int)\n",
    "        return self.household.Target\n",
    "    "
   ]
  },
  {
   "cell_type": "code",
   "execution_count": 68,
   "metadata": {},
   "outputs": [],
   "source": [
    "from sklearn.base import BaseEstimator, TransformerMixin\n",
    "class FeatureSelection(BaseEstimator, TransformerMixin):\n",
    "    def __init__(self, remove_SQBedjefe, remove_SQBdependency, remove_overcrowding,\n",
    "                 remove_qmobilephone, remove_rooms, remove_SQBhogar_nin, remove_G_people_count):\n",
    "        self.remove_SQBedjefe = remove_SQBedjefe \n",
    "        self.remove_SQBdependency = remove_SQBdependency\n",
    "        self.remove_overcrowding = remove_overcrowding\n",
    "        self.remove_qmobilephone = remove_qmobilephone\n",
    "        self.remove_rooms = remove_rooms\n",
    "        self.remove_SQBhogar_nin = remove_SQBhogar_nin\n",
    "        self.remove_G_people_count = remove_G_people_count\n",
    "\n",
    "    def fit(self, X, y=None):\n",
    "        return self\n",
    "    \n",
    "    def transform(self, X, y=None):\n",
    "        return X[self.__selected_features__]\n",
    "    \n",
    "    def __selected_features__(self, X):\n",
    "        all_features = X.columns.tolist()\n",
    "        if self.remove_SQBedjefe:\n",
    "            all_features.remove('SQBedjefe')\n",
    "        if self.remove_SQBdependency:\n",
    "            all_features.remove('SQBdependency')\n",
    "        if self.remove_overcrowding:\n",
    "            all_features.remove('overcrowding')\n",
    "        if self.remove_qmobilephone:\n",
    "            all_features.remove('qmobilephone')\n",
    "        if self.remove_rooms:\n",
    "            all_features.remove('rooms')\n",
    "        if self.remove_SQBhogar_nin:\n",
    "            all_features.remove('SQBhogar_nin')\n",
    "        if self.remove_G_people_count:\n",
    "            all_features.remove('G_people_count')\n",
    "        return all_features"
   ]
  },
  {
   "cell_type": "markdown",
   "metadata": {},
   "source": [
    "# First feature engineering\n",
    "Out of my notebook, feature-selection I will take the important features, that are already aggregated on a Household level."
   ]
  },
  {
   "cell_type": "code",
   "execution_count": 69,
   "metadata": {},
   "outputs": [],
   "source": [
    "individuals_df = pd.read_csv(\"data/train.csv\")\n",
    "households_df = HouseholdDataFrame(individuals_df)\n",
    "X = households_df.X()\n",
    "y = households_df.y()"
   ]
  },
  {
   "cell_type": "markdown",
   "metadata": {},
   "source": [
    "# Pipeline & cross validation"
   ]
  },
  {
   "cell_type": "code",
   "execution_count": 71,
   "metadata": {},
   "outputs": [
    {
     "name": "stderr",
     "output_type": "stream",
     "text": [
      "/Users/geoffroygobert/anaconda/lib/python3.5/site-packages/sklearn/metrics/classification.py:1135: UndefinedMetricWarning: F-score is ill-defined and being set to 0.0 in labels with no predicted samples.\n",
      "  'precision', 'predicted', average, warn_for)\n",
      "/Users/geoffroygobert/anaconda/lib/python3.5/site-packages/sklearn/metrics/classification.py:1135: UndefinedMetricWarning: F-score is ill-defined and being set to 0.0 in labels with no predicted samples.\n",
      "  'precision', 'predicted', average, warn_for)\n",
      "/Users/geoffroygobert/anaconda/lib/python3.5/site-packages/sklearn/metrics/classification.py:1135: UndefinedMetricWarning: F-score is ill-defined and being set to 0.0 in labels with no predicted samples.\n",
      "  'precision', 'predicted', average, warn_for)\n",
      "/Users/geoffroygobert/anaconda/lib/python3.5/site-packages/sklearn/metrics/classification.py:1135: UndefinedMetricWarning: F-score is ill-defined and being set to 0.0 in labels with no predicted samples.\n",
      "  'precision', 'predicted', average, warn_for)\n"
     ]
    }
   ],
   "source": [
    "from sklearn.pipeline import Pipeline\n",
    "from sklearn.model_selection import GridSearchCV\n",
    "from sklearn.ensemble import RandomForestClassifier\n",
    "\n",
    "remove_SQBedjefe = False\n",
    "remove_SQBedjefe = False\n",
    "remove_SQBdependency = False\n",
    "remove_overcrowding = False\n",
    "remove_qmobilephone = False\n",
    "remove_rooms = False\n",
    "remove_SQBhogar_nin = False\n",
    "remove_G_people_count = False\n",
    "\n",
    "feature_pipeline = Pipeline([\n",
    "        ('features', FeatureSelection(remove_SQBedjefe, remove_SQBdependency, remove_overcrowding,\n",
    "                                     remove_qmobilephone, remove_rooms, remove_SQBhogar_nin, remove_G_people_count)),\n",
    "        ('clf', RandomForestClassifier()),\n",
    "    ])\n",
    "\n",
    "params_grid = [\n",
    "    {\n",
    "        'features__remove_SQBedjefe': [False],\n",
    "        'features__remove_SQBdependency': [True, False],\n",
    "        'features__remove_overcrowding': [True, False],\n",
    "        'features__remove_qmobilephone': [True, False],\n",
    "        'features__remove_rooms': [True, False],\n",
    "        'features__remove_SQBhogar_nin': [True, False],\n",
    "        'features__remove_G_people_count': [True, False]\n",
    "    }\n",
    "]\n",
    "\n",
    "grid_search = GridSearchCV(feature_pipeline, params_grid, cv=3, scoring='f1_macro')\n",
    "grid_search.fit(X, y)\n",
    "None"
   ]
  },
  {
   "cell_type": "code",
   "execution_count": 72,
   "metadata": {},
   "outputs": [
    {
     "name": "stdout",
     "output_type": "stream",
     "text": [
      "0.19775434547799361 0.00012857755807954682 {'features__remove_rooms': True, 'features__remove_G_people_count': True, 'features__remove_qmobilephone': True, 'features__remove_SQBhogar_nin': True, 'features__remove_SQBedjefe': False, 'features__remove_SQBdependency': True, 'features__remove_overcrowding': True}\n",
      "0.22032234868717923 0.005559507665981944 {'features__remove_rooms': False, 'features__remove_G_people_count': True, 'features__remove_qmobilephone': True, 'features__remove_SQBhogar_nin': True, 'features__remove_SQBedjefe': False, 'features__remove_SQBdependency': True, 'features__remove_overcrowding': True}\n",
      "0.21956112786657356 0.010434813806862196 {'features__remove_rooms': True, 'features__remove_G_people_count': True, 'features__remove_qmobilephone': False, 'features__remove_SQBhogar_nin': True, 'features__remove_SQBedjefe': False, 'features__remove_SQBdependency': True, 'features__remove_overcrowding': True}\n",
      "0.2587385936469856 0.02043871262027074 {'features__remove_rooms': False, 'features__remove_G_people_count': True, 'features__remove_qmobilephone': False, 'features__remove_SQBhogar_nin': True, 'features__remove_SQBedjefe': False, 'features__remove_SQBdependency': True, 'features__remove_overcrowding': True}\n",
      "0.26599594012069505 0.0018008886738896267 {'features__remove_rooms': True, 'features__remove_G_people_count': True, 'features__remove_qmobilephone': True, 'features__remove_SQBhogar_nin': True, 'features__remove_SQBedjefe': False, 'features__remove_SQBdependency': True, 'features__remove_overcrowding': False}\n",
      "0.28266994761792125 0.01703885030226894 {'features__remove_rooms': False, 'features__remove_G_people_count': True, 'features__remove_qmobilephone': True, 'features__remove_SQBhogar_nin': True, 'features__remove_SQBedjefe': False, 'features__remove_SQBdependency': True, 'features__remove_overcrowding': False}\n",
      "0.28475045866342596 0.020185794801683688 {'features__remove_rooms': True, 'features__remove_G_people_count': True, 'features__remove_qmobilephone': False, 'features__remove_SQBhogar_nin': True, 'features__remove_SQBedjefe': False, 'features__remove_SQBdependency': True, 'features__remove_overcrowding': False}\n",
      "0.3079430146986124 0.005456990357817214 {'features__remove_rooms': False, 'features__remove_G_people_count': True, 'features__remove_qmobilephone': False, 'features__remove_SQBhogar_nin': True, 'features__remove_SQBedjefe': False, 'features__remove_SQBdependency': True, 'features__remove_overcrowding': False}\n",
      "0.2828213029527548 0.010260377588644197 {'features__remove_rooms': True, 'features__remove_G_people_count': True, 'features__remove_qmobilephone': True, 'features__remove_SQBhogar_nin': False, 'features__remove_SQBedjefe': False, 'features__remove_SQBdependency': True, 'features__remove_overcrowding': True}\n",
      "0.2824259861981672 0.011619678079420123 {'features__remove_rooms': False, 'features__remove_G_people_count': True, 'features__remove_qmobilephone': True, 'features__remove_SQBhogar_nin': False, 'features__remove_SQBedjefe': False, 'features__remove_SQBdependency': True, 'features__remove_overcrowding': True}\n",
      "0.2921307112079619 0.01185464309315841 {'features__remove_rooms': True, 'features__remove_G_people_count': True, 'features__remove_qmobilephone': False, 'features__remove_SQBhogar_nin': False, 'features__remove_SQBedjefe': False, 'features__remove_SQBdependency': True, 'features__remove_overcrowding': True}\n",
      "0.31887459432419035 0.022646898000929713 {'features__remove_rooms': False, 'features__remove_G_people_count': True, 'features__remove_qmobilephone': False, 'features__remove_SQBhogar_nin': False, 'features__remove_SQBedjefe': False, 'features__remove_SQBdependency': True, 'features__remove_overcrowding': True}\n",
      "0.291257978863485 0.00672715215863056 {'features__remove_rooms': True, 'features__remove_G_people_count': True, 'features__remove_qmobilephone': True, 'features__remove_SQBhogar_nin': False, 'features__remove_SQBedjefe': False, 'features__remove_SQBdependency': True, 'features__remove_overcrowding': False}\n",
      "0.2950938005501918 0.008881955390212068 {'features__remove_rooms': False, 'features__remove_G_people_count': True, 'features__remove_qmobilephone': True, 'features__remove_SQBhogar_nin': False, 'features__remove_SQBedjefe': False, 'features__remove_SQBdependency': True, 'features__remove_overcrowding': False}\n",
      "0.3100748571841676 0.014078542440202983 {'features__remove_rooms': True, 'features__remove_G_people_count': True, 'features__remove_qmobilephone': False, 'features__remove_SQBhogar_nin': False, 'features__remove_SQBedjefe': False, 'features__remove_SQBdependency': True, 'features__remove_overcrowding': False}\n",
      "0.32684129712541626 0.008642337326143716 {'features__remove_rooms': False, 'features__remove_G_people_count': True, 'features__remove_qmobilephone': False, 'features__remove_SQBhogar_nin': False, 'features__remove_SQBedjefe': False, 'features__remove_SQBdependency': True, 'features__remove_overcrowding': False}\n",
      "0.2686690190259316 0.015314103976465286 {'features__remove_rooms': True, 'features__remove_G_people_count': True, 'features__remove_qmobilephone': True, 'features__remove_SQBhogar_nin': True, 'features__remove_SQBedjefe': False, 'features__remove_SQBdependency': False, 'features__remove_overcrowding': True}\n",
      "0.305551129557437 0.0075180278777974355 {'features__remove_rooms': False, 'features__remove_G_people_count': True, 'features__remove_qmobilephone': True, 'features__remove_SQBhogar_nin': True, 'features__remove_SQBedjefe': False, 'features__remove_SQBdependency': False, 'features__remove_overcrowding': True}\n",
      "0.30658044658976913 0.017361496013889227 {'features__remove_rooms': True, 'features__remove_G_people_count': True, 'features__remove_qmobilephone': False, 'features__remove_SQBhogar_nin': True, 'features__remove_SQBedjefe': False, 'features__remove_SQBdependency': False, 'features__remove_overcrowding': True}\n",
      "0.33496595721364053 0.008031476084179482 {'features__remove_rooms': False, 'features__remove_G_people_count': True, 'features__remove_qmobilephone': False, 'features__remove_SQBhogar_nin': True, 'features__remove_SQBedjefe': False, 'features__remove_SQBdependency': False, 'features__remove_overcrowding': True}\n",
      "0.3132372458416757 0.0047446947719332905 {'features__remove_rooms': True, 'features__remove_G_people_count': True, 'features__remove_qmobilephone': True, 'features__remove_SQBhogar_nin': True, 'features__remove_SQBedjefe': False, 'features__remove_SQBdependency': False, 'features__remove_overcrowding': False}\n",
      "0.31424657942339607 0.004857642467805357 {'features__remove_rooms': False, 'features__remove_G_people_count': True, 'features__remove_qmobilephone': True, 'features__remove_SQBhogar_nin': True, 'features__remove_SQBedjefe': False, 'features__remove_SQBdependency': False, 'features__remove_overcrowding': False}\n",
      "0.31848004339338226 0.007230753411463332 {'features__remove_rooms': True, 'features__remove_G_people_count': True, 'features__remove_qmobilephone': False, 'features__remove_SQBhogar_nin': True, 'features__remove_SQBedjefe': False, 'features__remove_SQBdependency': False, 'features__remove_overcrowding': False}\n",
      "0.3313777720321498 0.009304360359921637 {'features__remove_rooms': False, 'features__remove_G_people_count': True, 'features__remove_qmobilephone': False, 'features__remove_SQBhogar_nin': True, 'features__remove_SQBedjefe': False, 'features__remove_SQBdependency': False, 'features__remove_overcrowding': False}\n",
      "0.3026071188679093 0.02583488569542294 {'features__remove_rooms': True, 'features__remove_G_people_count': True, 'features__remove_qmobilephone': True, 'features__remove_SQBhogar_nin': False, 'features__remove_SQBedjefe': False, 'features__remove_SQBdependency': False, 'features__remove_overcrowding': True}\n",
      "0.3198702498208537 0.019166098852766954 {'features__remove_rooms': False, 'features__remove_G_people_count': True, 'features__remove_qmobilephone': True, 'features__remove_SQBhogar_nin': False, 'features__remove_SQBedjefe': False, 'features__remove_SQBdependency': False, 'features__remove_overcrowding': True}\n",
      "0.31144155287687647 0.02037281933716137 {'features__remove_rooms': True, 'features__remove_G_people_count': True, 'features__remove_qmobilephone': False, 'features__remove_SQBhogar_nin': False, 'features__remove_SQBedjefe': False, 'features__remove_SQBdependency': False, 'features__remove_overcrowding': True}\n",
      "0.3433815265761521 0.0016077769263516091 {'features__remove_rooms': False, 'features__remove_G_people_count': True, 'features__remove_qmobilephone': False, 'features__remove_SQBhogar_nin': False, 'features__remove_SQBedjefe': False, 'features__remove_SQBdependency': False, 'features__remove_overcrowding': True}\n",
      "0.3253449446775713 0.0038886018230121972 {'features__remove_rooms': True, 'features__remove_G_people_count': True, 'features__remove_qmobilephone': True, 'features__remove_SQBhogar_nin': False, 'features__remove_SQBedjefe': False, 'features__remove_SQBdependency': False, 'features__remove_overcrowding': False}\n",
      "0.3209566108667842 0.016587825702716438 {'features__remove_rooms': False, 'features__remove_G_people_count': True, 'features__remove_qmobilephone': True, 'features__remove_SQBhogar_nin': False, 'features__remove_SQBedjefe': False, 'features__remove_SQBdependency': False, 'features__remove_overcrowding': False}\n",
      "0.33020006306829275 0.008563732926004746 {'features__remove_rooms': True, 'features__remove_G_people_count': True, 'features__remove_qmobilephone': False, 'features__remove_SQBhogar_nin': False, 'features__remove_SQBedjefe': False, 'features__remove_SQBdependency': False, 'features__remove_overcrowding': False}\n",
      "0.35588543182786136 0.008553981614495136 {'features__remove_rooms': False, 'features__remove_G_people_count': True, 'features__remove_qmobilephone': False, 'features__remove_SQBhogar_nin': False, 'features__remove_SQBedjefe': False, 'features__remove_SQBdependency': False, 'features__remove_overcrowding': False}\n",
      "0.2276793358171004 0.009412747027439312 {'features__remove_rooms': True, 'features__remove_G_people_count': False, 'features__remove_qmobilephone': True, 'features__remove_SQBhogar_nin': True, 'features__remove_SQBedjefe': False, 'features__remove_SQBdependency': True, 'features__remove_overcrowding': True}\n",
      "0.2616870369179679 0.008727988118460152 {'features__remove_rooms': False, 'features__remove_G_people_count': False, 'features__remove_qmobilephone': True, 'features__remove_SQBhogar_nin': True, 'features__remove_SQBedjefe': False, 'features__remove_SQBdependency': True, 'features__remove_overcrowding': True}\n",
      "0.2904661948046763 0.01453162597401543 {'features__remove_rooms': True, 'features__remove_G_people_count': False, 'features__remove_qmobilephone': False, 'features__remove_SQBhogar_nin': True, 'features__remove_SQBedjefe': False, 'features__remove_SQBdependency': True, 'features__remove_overcrowding': True}\n",
      "0.29927641889410633 0.022455825500804952 {'features__remove_rooms': False, 'features__remove_G_people_count': False, 'features__remove_qmobilephone': False, 'features__remove_SQBhogar_nin': True, 'features__remove_SQBedjefe': False, 'features__remove_SQBdependency': True, 'features__remove_overcrowding': True}\n",
      "0.2896808718113389 0.006148843711899797 {'features__remove_rooms': True, 'features__remove_G_people_count': False, 'features__remove_qmobilephone': True, 'features__remove_SQBhogar_nin': True, 'features__remove_SQBedjefe': False, 'features__remove_SQBdependency': True, 'features__remove_overcrowding': False}\n",
      "0.2783178174869228 0.0017485428098072318 {'features__remove_rooms': False, 'features__remove_G_people_count': False, 'features__remove_qmobilephone': True, 'features__remove_SQBhogar_nin': True, 'features__remove_SQBedjefe': False, 'features__remove_SQBdependency': True, 'features__remove_overcrowding': False}\n",
      "0.30848147141135784 0.021130299996625725 {'features__remove_rooms': True, 'features__remove_G_people_count': False, 'features__remove_qmobilephone': False, 'features__remove_SQBhogar_nin': True, 'features__remove_SQBedjefe': False, 'features__remove_SQBdependency': True, 'features__remove_overcrowding': False}\n",
      "0.31939141431626394 0.01575240571951571 {'features__remove_rooms': False, 'features__remove_G_people_count': False, 'features__remove_qmobilephone': False, 'features__remove_SQBhogar_nin': True, 'features__remove_SQBedjefe': False, 'features__remove_SQBdependency': True, 'features__remove_overcrowding': False}\n",
      "0.29051362543607684 0.01316232095586169 {'features__remove_rooms': True, 'features__remove_G_people_count': False, 'features__remove_qmobilephone': True, 'features__remove_SQBhogar_nin': False, 'features__remove_SQBedjefe': False, 'features__remove_SQBdependency': True, 'features__remove_overcrowding': True}\n",
      "0.30175561961154534 0.01814013503217559 {'features__remove_rooms': False, 'features__remove_G_people_count': False, 'features__remove_qmobilephone': True, 'features__remove_SQBhogar_nin': False, 'features__remove_SQBedjefe': False, 'features__remove_SQBdependency': True, 'features__remove_overcrowding': True}\n",
      "0.3190767899353394 0.018093167485763017 {'features__remove_rooms': True, 'features__remove_G_people_count': False, 'features__remove_qmobilephone': False, 'features__remove_SQBhogar_nin': False, 'features__remove_SQBedjefe': False, 'features__remove_SQBdependency': True, 'features__remove_overcrowding': True}\n",
      "0.3393213954991629 0.018820608963566587 {'features__remove_rooms': False, 'features__remove_G_people_count': False, 'features__remove_qmobilephone': False, 'features__remove_SQBhogar_nin': False, 'features__remove_SQBedjefe': False, 'features__remove_SQBdependency': True, 'features__remove_overcrowding': True}\n",
      "0.31526712135519175 0.007161880376969657 {'features__remove_rooms': True, 'features__remove_G_people_count': False, 'features__remove_qmobilephone': True, 'features__remove_SQBhogar_nin': False, 'features__remove_SQBedjefe': False, 'features__remove_SQBdependency': True, 'features__remove_overcrowding': False}\n",
      "0.3083313670280186 0.017308208724416373 {'features__remove_rooms': False, 'features__remove_G_people_count': False, 'features__remove_qmobilephone': True, 'features__remove_SQBhogar_nin': False, 'features__remove_SQBedjefe': False, 'features__remove_SQBdependency': True, 'features__remove_overcrowding': False}\n",
      "0.3269577221178659 0.014341412915378693 {'features__remove_rooms': True, 'features__remove_G_people_count': False, 'features__remove_qmobilephone': False, 'features__remove_SQBhogar_nin': False, 'features__remove_SQBedjefe': False, 'features__remove_SQBdependency': True, 'features__remove_overcrowding': False}\n",
      "0.32325176752770646 0.00343037240736362 {'features__remove_rooms': False, 'features__remove_G_people_count': False, 'features__remove_qmobilephone': False, 'features__remove_SQBhogar_nin': False, 'features__remove_SQBedjefe': False, 'features__remove_SQBdependency': True, 'features__remove_overcrowding': False}\n",
      "0.302897605693653 0.016634058911117796 {'features__remove_rooms': True, 'features__remove_G_people_count': False, 'features__remove_qmobilephone': True, 'features__remove_SQBhogar_nin': True, 'features__remove_SQBedjefe': False, 'features__remove_SQBdependency': False, 'features__remove_overcrowding': True}\n",
      "0.3272088542380879 0.014159580224147802 {'features__remove_rooms': False, 'features__remove_G_people_count': False, 'features__remove_qmobilephone': True, 'features__remove_SQBhogar_nin': True, 'features__remove_SQBedjefe': False, 'features__remove_SQBdependency': False, 'features__remove_overcrowding': True}\n",
      "0.3229229151296225 0.01593388101138644 {'features__remove_rooms': True, 'features__remove_G_people_count': False, 'features__remove_qmobilephone': False, 'features__remove_SQBhogar_nin': True, 'features__remove_SQBedjefe': False, 'features__remove_SQBdependency': False, 'features__remove_overcrowding': True}\n",
      "0.33016896812788876 0.028932793670413664 {'features__remove_rooms': False, 'features__remove_G_people_count': False, 'features__remove_qmobilephone': False, 'features__remove_SQBhogar_nin': True, 'features__remove_SQBedjefe': False, 'features__remove_SQBdependency': False, 'features__remove_overcrowding': True}\n",
      "0.31315789906069985 0.006979468550779058 {'features__remove_rooms': True, 'features__remove_G_people_count': False, 'features__remove_qmobilephone': True, 'features__remove_SQBhogar_nin': True, 'features__remove_SQBedjefe': False, 'features__remove_SQBdependency': False, 'features__remove_overcrowding': False}\n",
      "0.31907024188884764 0.00835271555626649 {'features__remove_rooms': False, 'features__remove_G_people_count': False, 'features__remove_qmobilephone': True, 'features__remove_SQBhogar_nin': True, 'features__remove_SQBedjefe': False, 'features__remove_SQBdependency': False, 'features__remove_overcrowding': False}\n",
      "0.329489832258947 0.013099219319388842 {'features__remove_rooms': True, 'features__remove_G_people_count': False, 'features__remove_qmobilephone': False, 'features__remove_SQBhogar_nin': True, 'features__remove_SQBedjefe': False, 'features__remove_SQBdependency': False, 'features__remove_overcrowding': False}\n",
      "0.3443145903302411 0.01873582251019708 {'features__remove_rooms': False, 'features__remove_G_people_count': False, 'features__remove_qmobilephone': False, 'features__remove_SQBhogar_nin': True, 'features__remove_SQBedjefe': False, 'features__remove_SQBdependency': False, 'features__remove_overcrowding': False}\n",
      "0.32997586150116426 0.024006399401705 {'features__remove_rooms': True, 'features__remove_G_people_count': False, 'features__remove_qmobilephone': True, 'features__remove_SQBhogar_nin': False, 'features__remove_SQBedjefe': False, 'features__remove_SQBdependency': False, 'features__remove_overcrowding': True}\n",
      "0.31791642596334047 0.011330506603257334 {'features__remove_rooms': False, 'features__remove_G_people_count': False, 'features__remove_qmobilephone': True, 'features__remove_SQBhogar_nin': False, 'features__remove_SQBedjefe': False, 'features__remove_SQBdependency': False, 'features__remove_overcrowding': True}\n",
      "0.3274244947931873 0.016107782005372117 {'features__remove_rooms': True, 'features__remove_G_people_count': False, 'features__remove_qmobilephone': False, 'features__remove_SQBhogar_nin': False, 'features__remove_SQBedjefe': False, 'features__remove_SQBdependency': False, 'features__remove_overcrowding': True}\n",
      "0.34956163997034706 0.021479041264115054 {'features__remove_rooms': False, 'features__remove_G_people_count': False, 'features__remove_qmobilephone': False, 'features__remove_SQBhogar_nin': False, 'features__remove_SQBedjefe': False, 'features__remove_SQBdependency': False, 'features__remove_overcrowding': True}\n",
      "0.3212415798107716 0.0059692079382608855 {'features__remove_rooms': True, 'features__remove_G_people_count': False, 'features__remove_qmobilephone': True, 'features__remove_SQBhogar_nin': False, 'features__remove_SQBedjefe': False, 'features__remove_SQBdependency': False, 'features__remove_overcrowding': False}\n",
      "0.31619344583400305 0.013932607077290812 {'features__remove_rooms': False, 'features__remove_G_people_count': False, 'features__remove_qmobilephone': True, 'features__remove_SQBhogar_nin': False, 'features__remove_SQBedjefe': False, 'features__remove_SQBdependency': False, 'features__remove_overcrowding': False}\n",
      "0.32771901262586756 0.00992680803928294 {'features__remove_rooms': True, 'features__remove_G_people_count': False, 'features__remove_qmobilephone': False, 'features__remove_SQBhogar_nin': False, 'features__remove_SQBedjefe': False, 'features__remove_SQBdependency': False, 'features__remove_overcrowding': False}\n",
      "0.342892282327486 0.010597739568675168 {'features__remove_rooms': False, 'features__remove_G_people_count': False, 'features__remove_qmobilephone': False, 'features__remove_SQBhogar_nin': False, 'features__remove_SQBedjefe': False, 'features__remove_SQBdependency': False, 'features__remove_overcrowding': False}\n"
     ]
    }
   ],
   "source": [
    "cvres = grid_search.cv_results_\n",
    "for mean_score, std_score, params in zip(cvres['mean_test_score'], cvres['std_test_score'], cvres['params']):\n",
    "    print(mean_score, std_score, params)"
   ]
  },
  {
   "cell_type": "code",
   "execution_count": 74,
   "metadata": {},
   "outputs": [
    {
     "data": {
      "text/plain": [
       "{'features__remove_G_people_count': True,\n",
       " 'features__remove_SQBdependency': False,\n",
       " 'features__remove_SQBedjefe': False,\n",
       " 'features__remove_SQBhogar_nin': False,\n",
       " 'features__remove_overcrowding': False,\n",
       " 'features__remove_qmobilephone': False,\n",
       " 'features__remove_rooms': False}"
      ]
     },
     "execution_count": 74,
     "metadata": {},
     "output_type": "execute_result"
    }
   ],
   "source": [
    "grid_search.best_params_"
   ]
  },
  {
   "cell_type": "code",
   "execution_count": null,
   "metadata": {},
   "outputs": [],
   "source": []
  },
  {
   "cell_type": "code",
   "execution_count": null,
   "metadata": {},
   "outputs": [],
   "source": []
  }
 ],
 "metadata": {
  "anaconda-cloud": {},
  "kernelspec": {
   "display_name": "Python [default]",
   "language": "python",
   "name": "python3"
  },
  "language_info": {
   "codemirror_mode": {
    "name": "ipython",
    "version": 3
   },
   "file_extension": ".py",
   "mimetype": "text/x-python",
   "name": "python",
   "nbconvert_exporter": "python",
   "pygments_lexer": "ipython3",
   "version": "3.5.4"
  }
 },
 "nbformat": 4,
 "nbformat_minor": 2
}
