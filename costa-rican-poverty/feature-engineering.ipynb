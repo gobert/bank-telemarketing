{
 "cells": [
  {
   "cell_type": "code",
   "execution_count": 71,
   "metadata": {},
   "outputs": [],
   "source": [
    "import pandas as pd"
   ]
  },
  {
   "cell_type": "code",
   "execution_count": 72,
   "metadata": {},
   "outputs": [],
   "source": [
    "# This will be an helper method to reuse the code between train and test set\n",
    "\n",
    "class Household():\n",
    "    def __init__(self, individuals): \n",
    "        self.individuals = individuals\n",
    "        self.grouped_individuals = individuals.groupby('idhogar')\n",
    "        self.household = pd.DataFrame()\n",
    "\n",
    "    def add_SQBedjefe(self):\n",
    "        self.household['SQBedjefe'] = self.grouped_individuals.SQBedjefe.mean()\n",
    "        \n",
    "    def add_SQBdependency(self):\n",
    "        self.household['SQBdependency'] = self.grouped_individuals.SQBdependency.mean()\n",
    "        \n",
    "    def add_overcrowding(self):\n",
    "        self.household['overcrowding'] = self.grouped_individuals.overcrowding.mean()\n",
    "        \n",
    "    def add_qmobilephone(self):\n",
    "        self.household['qmobilephone'] = self.grouped_individuals.qmobilephone.mean()\n",
    "        \n",
    "    def add_rooms(self):\n",
    "        self.household['rooms'] = self.grouped_individuals.rooms.mean()\n",
    "        \n",
    "    def add_SQBhogar_nin(self):\n",
    "        self.household['SQBhogar_nin'] = self.grouped_individuals.SQBhogar_nin.mean()\n",
    "        \n",
    "    def add_Target(self):\n",
    "        self.household['Target'] = self.grouped_individuals.Target.mean().round().astype(int)"
   ]
  },
  {
   "cell_type": "markdown",
   "metadata": {},
   "source": [
    "# First feature engineering\n",
    "Out of my notebook, feature-selection I will take the important features, that are already aggregated on a Household level."
   ]
  },
  {
   "cell_type": "code",
   "execution_count": 73,
   "metadata": {},
   "outputs": [],
   "source": [
    "individuals = pd.read_csv(\"data/train.csv\")\n",
    "train = Household(individuals)\n",
    "\n",
    "train.add_SQBedjefe()\n",
    "train.add_SQBdependency()\n",
    "train.add_overcrowding()\n",
    "train.add_qmobilephone()\n",
    "train.add_rooms()\n",
    "train.add_SQBhogar_nin()\n",
    "train.add_Target()"
   ]
  },
  {
   "cell_type": "markdown",
   "metadata": {},
   "source": [
    "# Train model & evaluate"
   ]
  },
  {
   "cell_type": "code",
   "execution_count": 79,
   "metadata": {},
   "outputs": [],
   "source": [
    "X = train.household.loc[:, train.household.columns != 'Target']\n",
    "y = train.household.Target\n",
    "\n",
    "from sklearn.model_selection import train_test_split\n",
    "\n",
    "X_train, X_test, y_train, y_test = train_test_split(X, y, random_state=112, test_size=0.2)"
   ]
  },
  {
   "cell_type": "code",
   "execution_count": 80,
   "metadata": {},
   "outputs": [
    {
     "data": {
      "text/plain": [
       "RandomForestClassifier(bootstrap=True, class_weight=None, criterion='gini',\n",
       "            max_depth=None, max_features='auto', max_leaf_nodes=None,\n",
       "            min_impurity_decrease=0.0, min_impurity_split=None,\n",
       "            min_samples_leaf=1, min_samples_split=2,\n",
       "            min_weight_fraction_leaf=0.0, n_estimators=10, n_jobs=1,\n",
       "            oob_score=False, random_state=None, verbose=0,\n",
       "            warm_start=False)"
      ]
     },
     "execution_count": 80,
     "metadata": {},
     "output_type": "execute_result"
    }
   ],
   "source": [
    "from sklearn.ensemble import RandomForestClassifier\n",
    "\n",
    "clf= RandomForestClassifier()\n",
    "clf.fit(X_train, y_train)"
   ]
  },
  {
   "cell_type": "code",
   "execution_count": 81,
   "metadata": {},
   "outputs": [],
   "source": [
    "y_predict = clf.predict(X_test)"
   ]
  },
  {
   "cell_type": "code",
   "execution_count": 82,
   "metadata": {},
   "outputs": [
    {
     "data": {
      "text/plain": [
       "0.3418528592916974"
      ]
     },
     "execution_count": 82,
     "metadata": {},
     "output_type": "execute_result"
    }
   ],
   "source": [
    "from sklearn.metrics import f1_score\n",
    "\n",
    "f1_score(y_test, y_predict, average='macro')"
   ]
  },
  {
   "cell_type": "markdown",
   "metadata": {},
   "source": [
    "Good result: I have the same macro f1 score that the one that Kaggle give me. So now I can improve locally."
   ]
  }
 ],
 "metadata": {
  "anaconda-cloud": {},
  "kernelspec": {
   "display_name": "Python [default]",
   "language": "python",
   "name": "python3"
  },
  "language_info": {
   "codemirror_mode": {
    "name": "ipython",
    "version": 3
   },
   "file_extension": ".py",
   "mimetype": "text/x-python",
   "name": "python",
   "nbconvert_exporter": "python",
   "pygments_lexer": "ipython3",
   "version": "3.5.4"
  }
 },
 "nbformat": 4,
 "nbformat_minor": 2
}
