{
 "cells": [
  {
   "cell_type": "code",
   "execution_count": 60,
   "metadata": {},
   "outputs": [],
   "source": [
    "import pandas as pd"
   ]
  },
  {
   "cell_type": "code",
   "execution_count": 61,
   "metadata": {},
   "outputs": [],
   "source": [
    "# This will be an helper method to reuse the code between train and test set\n",
    "\n",
    "class HouseholdDataFrame():\n",
    "    def __init__(self, individuals): \n",
    "        self.individuals = individuals\n",
    "        self.grouped_individuals = individuals.groupby('idhogar')\n",
    "        self.household = pd.DataFrame()\n",
    "        \n",
    "    def X(self):\n",
    "        self.household['SQBedjefe'] = self.grouped_individuals.SQBedjefe.mean()\n",
    "        self.household['SQBdependency'] = self.grouped_individuals.SQBdependency.mean()\n",
    "        self.household['overcrowding'] = self.grouped_individuals.overcrowding.mean()\n",
    "        self.household['qmobilephone'] = self.grouped_individuals.qmobilephone.mean()\n",
    "        self.household['rooms'] = self.grouped_individuals.rooms.mean()\n",
    "        self.household['SQBhogar_nin'] = self.grouped_individuals.SQBhogar_nin.mean()\n",
    "        self.household['G_people_count'] = self.grouped_individuals.age.count()\n",
    "        self.household['G_percentage_under_5'] = self.G_percentage_under(5)\n",
    "        self.household['G_percentage_under_9'] = self.G_percentage_under(9)\n",
    "        self.household['G_percentage_under_12'] = self.G_percentage_under(12)\n",
    "        self.household['G_percentage_under_15'] = self.G_percentage_under(15)\n",
    "        self.household['G_percentage_under_17'] = self.G_percentage_under(17)\n",
    "        # self.household['G_percentage_male'] = self.G_percentage_male().replace({None: 0., np.NaN: 0.0})\n",
    "            \n",
    "        return self.household.loc[:, self.household.columns != 'Target']\n",
    "        \n",
    "    def G_percentage_under(self, age):\n",
    "        return (self.individuals[self.individuals.age <= age].groupby('idhogar').Id.count()/ self.household['G_people_count']).replace({None: 0., np.NaN: 0.0})\n",
    "    \n",
    "    # def G_percentage_male(self):\n",
    "    #    return self.individuals[self.individuals.age <= 12].groupby('idhogar').Id.count()/ self.household['G_people_count']\n",
    "\n",
    "    \n",
    "    def y(self):\n",
    "        self.household['Target'] = self.grouped_individuals.Target.mean().round().astype(int)\n",
    "        return self.household.Target\n",
    "    "
   ]
  },
  {
   "cell_type": "code",
   "execution_count": 62,
   "metadata": {},
   "outputs": [],
   "source": [
    "import numpy as np\n",
    "from sklearn.base import BaseEstimator, TransformerMixin\n",
    "class FeatureSelection(BaseEstimator, TransformerMixin):\n",
    "    def __init__(self, remove_SQBedjefe, remove_SQBdependency, remove_overcrowding,\n",
    "                 remove_qmobilephone, remove_rooms, remove_SQBhogar_nin, remove_G_people_count,\n",
    "                 remove_G_percentage_under_5, remove_G_percentage_under_9, remove_G_percentage_under_12,\n",
    "                 remove_G_percentage_under_15, remove_G_percentage_under_17):\n",
    "        self.remove_SQBedjefe = remove_SQBedjefe \n",
    "        self.remove_SQBdependency = remove_SQBdependency\n",
    "        self.remove_overcrowding = remove_overcrowding\n",
    "        self.remove_qmobilephone = remove_qmobilephone\n",
    "        self.remove_rooms = remove_rooms\n",
    "        self.remove_SQBhogar_nin = remove_SQBhogar_nin\n",
    "        self.remove_G_people_count = remove_G_people_count\n",
    "        self.remove_G_percentage_under_5 = remove_G_percentage_under_5\n",
    "        self.remove_G_percentage_under_9 = remove_G_percentage_under_9\n",
    "        self.remove_G_percentage_under_12 = remove_G_percentage_under_12\n",
    "        self.remove_G_percentage_under_15 = remove_G_percentage_under_15\n",
    "        self.remove_G_percentage_under_17 = remove_G_percentage_under_17\n",
    "\n",
    "    def fit(self, X, y=None):\n",
    "        return self\n",
    "    \n",
    "    def transform(self, X, y=None):\n",
    "        return X[self.__selected_features__]\n",
    "    \n",
    "    def __selected_features__(self, X):\n",
    "        all_features = X.columns.tolist()\n",
    "        if self.remove_SQBedjefe:\n",
    "            all_features.remove('SQBedjefe')\n",
    "        if self.remove_SQBdependency:\n",
    "            all_features.remove('SQBdependency')\n",
    "        if self.remove_overcrowding:\n",
    "            all_features.remove('overcrowding')\n",
    "        if self.remove_qmobilephone:\n",
    "            all_features.remove('qmobilephone')\n",
    "        if self.remove_rooms:\n",
    "            all_features.remove('rooms')\n",
    "        if self.remove_SQBhogar_nin:\n",
    "            all_features.remove('SQBhogar_nin')\n",
    "        if self.remove_G_people_count:\n",
    "            all_features.remove('G_people_count')\n",
    "        if self.remove_G_percentage_under_5:\n",
    "            all_features.remove('G_percentage_under_5')\n",
    "        if self.remove_G_percentage_under_9:\n",
    "            all_features.remove('G_percentage_under_9')\n",
    "        if self.remove_G_percentage_under_12:\n",
    "            all_features.remove('G_percentage_under_12')\n",
    "        if self.remove_G_percentage_under_15:\n",
    "            all_features.remove('G_percentage_under_15')\n",
    "        if self.remove_G_percentage_under_17:\n",
    "            all_features.remove('G_percentage_under_17')\n",
    "            \n",
    "\n",
    "        return all_features"
   ]
  },
  {
   "cell_type": "markdown",
   "metadata": {},
   "source": [
    "# First feature engineering\n",
    "Out of my notebook, feature-selection I will take the important features, that are already aggregated on a Household level."
   ]
  },
  {
   "cell_type": "code",
   "execution_count": 63,
   "metadata": {},
   "outputs": [],
   "source": [
    "individuals_df = pd.read_csv(\"data/train.csv\")\n",
    "households_df = HouseholdDataFrame(individuals_df)\n",
    "X = households_df.X()\n",
    "y = households_df.y()"
   ]
  },
  {
   "cell_type": "markdown",
   "metadata": {},
   "source": [
    "# Pipeline & cross validation"
   ]
  },
  {
   "cell_type": "code",
   "execution_count": 72,
   "metadata": {},
   "outputs": [],
   "source": [
    "from sklearn.pipeline import Pipeline\n",
    "from sklearn.model_selection import GridSearchCV\n",
    "from sklearn.ensemble import RandomForestClassifier\n",
    "\n",
    "remove_SQBedjefe = False\n",
    "remove_SQBdependency = True\n",
    "remove_overcrowding = True\n",
    "remove_qmobilephone = True\n",
    "remove_rooms = True\n",
    "remove_SQBhogar_nin = True\n",
    "remove_G_people_count = True\n",
    "remove_G_percentage_under_5 = False\n",
    "remove_G_percentage_under_9 = False\n",
    "remove_G_percentage_under_12 = False\n",
    "remove_G_percentage_under_15 = False\n",
    "remove_G_percentage_under_17 = False\n",
    "\n",
    "feature_pipeline = Pipeline([\n",
    "        ('features', FeatureSelection(remove_SQBedjefe, remove_SQBdependency, remove_overcrowding,\n",
    "                                     remove_qmobilephone, remove_rooms, remove_SQBhogar_nin, remove_G_people_count,\n",
    "                                     remove_G_percentage_under_5, remove_G_percentage_under_9,\n",
    "                                     remove_G_percentage_under_12, remove_G_percentage_under_15,\n",
    "                                     remove_G_percentage_under_17)),\n",
    "        ('clf', RandomForestClassifier()),\n",
    "    ])\n",
    "\n",
    "params_grid = [\n",
    "    {\n",
    "        'features__remove_SQBedjefe': [False],\n",
    "        # 'features__remove_SQBdependency': [False],\n",
    "        'features__remove_overcrowding': [False],\n",
    "        'features__remove_qmobilephone': [False],\n",
    "        'features__remove_rooms': [False],\n",
    "        'features__remove_SQBhogar_nin': [False],\n",
    "        'features__remove_G_people_count': [True, False],\n",
    "        'features__remove_G_percentage_under_5': [True, False],\n",
    "        'features__remove_G_percentage_under_9': [True, False],\n",
    "        'features__remove_G_percentage_under_12': [True, False],\n",
    "        'features__remove_G_percentage_under_15' : [True, False],\n",
    "        'features__remove_G_percentage_under_17': [True, False],\n",
    "    }\n",
    "]\n",
    "\n",
    "grid_search = GridSearchCV(feature_pipeline, params_grid, cv=3, scoring='f1_macro')\n",
    "grid_search.fit(X, y)\n",
    "None"
   ]
  },
  {
   "cell_type": "code",
   "execution_count": 73,
   "metadata": {},
   "outputs": [
    {
     "name": "stdout",
     "output_type": "stream",
     "text": [
      "32.74686264889951 1.2777070496652694 {'features__remove_SQBhogar_nin': False, 'features__remove_rooms': False, 'features__remove_G_people_count': True, 'features__remove_qmobilephone': False, 'features__remove_overcrowding': False, 'features__remove_G_percentage_under_9': True, 'features__remove_G_percentage_under_17': True, 'features__remove_G_percentage_under_12': True, 'features__remove_G_percentage_under_15': True, 'features__remove_SQBedjefe': False, 'features__remove_G_percentage_under_5': True}\n",
      "32.23046773197876 1.6619861379687604 {'features__remove_SQBhogar_nin': False, 'features__remove_rooms': False, 'features__remove_G_people_count': True, 'features__remove_qmobilephone': False, 'features__remove_overcrowding': False, 'features__remove_G_percentage_under_9': False, 'features__remove_G_percentage_under_17': True, 'features__remove_G_percentage_under_12': True, 'features__remove_G_percentage_under_15': True, 'features__remove_SQBedjefe': False, 'features__remove_G_percentage_under_5': True}\n",
      "31.90679662870896 1.2699964413446287 {'features__remove_SQBhogar_nin': False, 'features__remove_rooms': False, 'features__remove_G_people_count': True, 'features__remove_qmobilephone': False, 'features__remove_overcrowding': False, 'features__remove_G_percentage_under_9': True, 'features__remove_G_percentage_under_17': True, 'features__remove_G_percentage_under_12': True, 'features__remove_G_percentage_under_15': True, 'features__remove_SQBedjefe': False, 'features__remove_G_percentage_under_5': False}\n",
      "33.404609055957366 1.8648520181026065 {'features__remove_SQBhogar_nin': False, 'features__remove_rooms': False, 'features__remove_G_people_count': True, 'features__remove_qmobilephone': False, 'features__remove_overcrowding': False, 'features__remove_G_percentage_under_9': False, 'features__remove_G_percentage_under_17': True, 'features__remove_G_percentage_under_12': True, 'features__remove_G_percentage_under_15': True, 'features__remove_SQBedjefe': False, 'features__remove_G_percentage_under_5': False}\n",
      "33.07865010938183 1.5910574716144197 {'features__remove_SQBhogar_nin': False, 'features__remove_rooms': False, 'features__remove_G_people_count': True, 'features__remove_qmobilephone': False, 'features__remove_overcrowding': False, 'features__remove_G_percentage_under_9': True, 'features__remove_G_percentage_under_17': False, 'features__remove_G_percentage_under_12': True, 'features__remove_G_percentage_under_15': True, 'features__remove_SQBedjefe': False, 'features__remove_G_percentage_under_5': True}\n",
      "33.842837093514675 1.3243708121990558 {'features__remove_SQBhogar_nin': False, 'features__remove_rooms': False, 'features__remove_G_people_count': True, 'features__remove_qmobilephone': False, 'features__remove_overcrowding': False, 'features__remove_G_percentage_under_9': False, 'features__remove_G_percentage_under_17': False, 'features__remove_G_percentage_under_12': True, 'features__remove_G_percentage_under_15': True, 'features__remove_SQBedjefe': False, 'features__remove_G_percentage_under_5': True}\n",
      "32.79933570975447 0.6022405627380634 {'features__remove_SQBhogar_nin': False, 'features__remove_rooms': False, 'features__remove_G_people_count': True, 'features__remove_qmobilephone': False, 'features__remove_overcrowding': False, 'features__remove_G_percentage_under_9': True, 'features__remove_G_percentage_under_17': False, 'features__remove_G_percentage_under_12': True, 'features__remove_G_percentage_under_15': True, 'features__remove_SQBedjefe': False, 'features__remove_G_percentage_under_5': False}\n",
      "33.33689731718385 1.7895714363350876 {'features__remove_SQBhogar_nin': False, 'features__remove_rooms': False, 'features__remove_G_people_count': True, 'features__remove_qmobilephone': False, 'features__remove_overcrowding': False, 'features__remove_G_percentage_under_9': False, 'features__remove_G_percentage_under_17': False, 'features__remove_G_percentage_under_12': True, 'features__remove_G_percentage_under_15': True, 'features__remove_SQBedjefe': False, 'features__remove_G_percentage_under_5': False}\n",
      "32.39795262846577 0.850664748257085 {'features__remove_SQBhogar_nin': False, 'features__remove_rooms': False, 'features__remove_G_people_count': True, 'features__remove_qmobilephone': False, 'features__remove_overcrowding': False, 'features__remove_G_percentage_under_9': True, 'features__remove_G_percentage_under_17': True, 'features__remove_G_percentage_under_12': True, 'features__remove_G_percentage_under_15': False, 'features__remove_SQBedjefe': False, 'features__remove_G_percentage_under_5': True}\n",
      "33.93509267607626 2.4877855838579417 {'features__remove_SQBhogar_nin': False, 'features__remove_rooms': False, 'features__remove_G_people_count': True, 'features__remove_qmobilephone': False, 'features__remove_overcrowding': False, 'features__remove_G_percentage_under_9': False, 'features__remove_G_percentage_under_17': True, 'features__remove_G_percentage_under_12': True, 'features__remove_G_percentage_under_15': False, 'features__remove_SQBedjefe': False, 'features__remove_G_percentage_under_5': True}\n",
      "33.09345307375056 0.19468339478848426 {'features__remove_SQBhogar_nin': False, 'features__remove_rooms': False, 'features__remove_G_people_count': True, 'features__remove_qmobilephone': False, 'features__remove_overcrowding': False, 'features__remove_G_percentage_under_9': True, 'features__remove_G_percentage_under_17': True, 'features__remove_G_percentage_under_12': True, 'features__remove_G_percentage_under_15': False, 'features__remove_SQBedjefe': False, 'features__remove_G_percentage_under_5': False}\n",
      "33.32411141525492 1.9879095772600486 {'features__remove_SQBhogar_nin': False, 'features__remove_rooms': False, 'features__remove_G_people_count': True, 'features__remove_qmobilephone': False, 'features__remove_overcrowding': False, 'features__remove_G_percentage_under_9': False, 'features__remove_G_percentage_under_17': True, 'features__remove_G_percentage_under_12': True, 'features__remove_G_percentage_under_15': False, 'features__remove_SQBedjefe': False, 'features__remove_G_percentage_under_5': False}\n",
      "34.433198801439694 0.6286325611719593 {'features__remove_SQBhogar_nin': False, 'features__remove_rooms': False, 'features__remove_G_people_count': True, 'features__remove_qmobilephone': False, 'features__remove_overcrowding': False, 'features__remove_G_percentage_under_9': True, 'features__remove_G_percentage_under_17': False, 'features__remove_G_percentage_under_12': True, 'features__remove_G_percentage_under_15': False, 'features__remove_SQBedjefe': False, 'features__remove_G_percentage_under_5': True}\n",
      "34.33089912185305 1.77074683342505 {'features__remove_SQBhogar_nin': False, 'features__remove_rooms': False, 'features__remove_G_people_count': True, 'features__remove_qmobilephone': False, 'features__remove_overcrowding': False, 'features__remove_G_percentage_under_9': False, 'features__remove_G_percentage_under_17': False, 'features__remove_G_percentage_under_12': True, 'features__remove_G_percentage_under_15': False, 'features__remove_SQBedjefe': False, 'features__remove_G_percentage_under_5': True}\n",
      "32.9071266434179 1.7452108960331292 {'features__remove_SQBhogar_nin': False, 'features__remove_rooms': False, 'features__remove_G_people_count': True, 'features__remove_qmobilephone': False, 'features__remove_overcrowding': False, 'features__remove_G_percentage_under_9': True, 'features__remove_G_percentage_under_17': False, 'features__remove_G_percentage_under_12': True, 'features__remove_G_percentage_under_15': False, 'features__remove_SQBedjefe': False, 'features__remove_G_percentage_under_5': False}\n",
      "34.4566613567382 2.8358596299945718 {'features__remove_SQBhogar_nin': False, 'features__remove_rooms': False, 'features__remove_G_people_count': True, 'features__remove_qmobilephone': False, 'features__remove_overcrowding': False, 'features__remove_G_percentage_under_9': False, 'features__remove_G_percentage_under_17': False, 'features__remove_G_percentage_under_12': True, 'features__remove_G_percentage_under_15': False, 'features__remove_SQBedjefe': False, 'features__remove_G_percentage_under_5': False}\n",
      "34.412322881645046 1.50320922521315 {'features__remove_SQBhogar_nin': False, 'features__remove_rooms': False, 'features__remove_G_people_count': True, 'features__remove_qmobilephone': False, 'features__remove_overcrowding': False, 'features__remove_G_percentage_under_9': True, 'features__remove_G_percentage_under_17': True, 'features__remove_G_percentage_under_12': False, 'features__remove_G_percentage_under_15': True, 'features__remove_SQBedjefe': False, 'features__remove_G_percentage_under_5': True}\n",
      "32.66915878798254 1.1703492308247034 {'features__remove_SQBhogar_nin': False, 'features__remove_rooms': False, 'features__remove_G_people_count': True, 'features__remove_qmobilephone': False, 'features__remove_overcrowding': False, 'features__remove_G_percentage_under_9': False, 'features__remove_G_percentage_under_17': True, 'features__remove_G_percentage_under_12': False, 'features__remove_G_percentage_under_15': True, 'features__remove_SQBedjefe': False, 'features__remove_G_percentage_under_5': True}\n",
      "32.65475169124677 1.4088618925385612 {'features__remove_SQBhogar_nin': False, 'features__remove_rooms': False, 'features__remove_G_people_count': True, 'features__remove_qmobilephone': False, 'features__remove_overcrowding': False, 'features__remove_G_percentage_under_9': True, 'features__remove_G_percentage_under_17': True, 'features__remove_G_percentage_under_12': False, 'features__remove_G_percentage_under_15': True, 'features__remove_SQBedjefe': False, 'features__remove_G_percentage_under_5': False}\n",
      "32.51886549941146 2.380992705964818 {'features__remove_SQBhogar_nin': False, 'features__remove_rooms': False, 'features__remove_G_people_count': True, 'features__remove_qmobilephone': False, 'features__remove_overcrowding': False, 'features__remove_G_percentage_under_9': False, 'features__remove_G_percentage_under_17': True, 'features__remove_G_percentage_under_12': False, 'features__remove_G_percentage_under_15': True, 'features__remove_SQBedjefe': False, 'features__remove_G_percentage_under_5': False}\n",
      "33.93049694338525 0.876598178921429 {'features__remove_SQBhogar_nin': False, 'features__remove_rooms': False, 'features__remove_G_people_count': True, 'features__remove_qmobilephone': False, 'features__remove_overcrowding': False, 'features__remove_G_percentage_under_9': True, 'features__remove_G_percentage_under_17': False, 'features__remove_G_percentage_under_12': False, 'features__remove_G_percentage_under_15': True, 'features__remove_SQBedjefe': False, 'features__remove_G_percentage_under_5': True}\n",
      "34.02065061239488 0.7365740616046816 {'features__remove_SQBhogar_nin': False, 'features__remove_rooms': False, 'features__remove_G_people_count': True, 'features__remove_qmobilephone': False, 'features__remove_overcrowding': False, 'features__remove_G_percentage_under_9': False, 'features__remove_G_percentage_under_17': False, 'features__remove_G_percentage_under_12': False, 'features__remove_G_percentage_under_15': True, 'features__remove_SQBedjefe': False, 'features__remove_G_percentage_under_5': True}\n",
      "32.36286246294567 1.0783284475056336 {'features__remove_SQBhogar_nin': False, 'features__remove_rooms': False, 'features__remove_G_people_count': True, 'features__remove_qmobilephone': False, 'features__remove_overcrowding': False, 'features__remove_G_percentage_under_9': True, 'features__remove_G_percentage_under_17': False, 'features__remove_G_percentage_under_12': False, 'features__remove_G_percentage_under_15': True, 'features__remove_SQBedjefe': False, 'features__remove_G_percentage_under_5': False}\n",
      "32.73324502874291 1.603175952323279 {'features__remove_SQBhogar_nin': False, 'features__remove_rooms': False, 'features__remove_G_people_count': True, 'features__remove_qmobilephone': False, 'features__remove_overcrowding': False, 'features__remove_G_percentage_under_9': False, 'features__remove_G_percentage_under_17': False, 'features__remove_G_percentage_under_12': False, 'features__remove_G_percentage_under_15': True, 'features__remove_SQBedjefe': False, 'features__remove_G_percentage_under_5': False}\n",
      "33.258864244727064 0.8772507457307096 {'features__remove_SQBhogar_nin': False, 'features__remove_rooms': False, 'features__remove_G_people_count': True, 'features__remove_qmobilephone': False, 'features__remove_overcrowding': False, 'features__remove_G_percentage_under_9': True, 'features__remove_G_percentage_under_17': True, 'features__remove_G_percentage_under_12': False, 'features__remove_G_percentage_under_15': False, 'features__remove_SQBedjefe': False, 'features__remove_G_percentage_under_5': True}\n",
      "33.96633805437762 1.879872613403175 {'features__remove_SQBhogar_nin': False, 'features__remove_rooms': False, 'features__remove_G_people_count': True, 'features__remove_qmobilephone': False, 'features__remove_overcrowding': False, 'features__remove_G_percentage_under_9': False, 'features__remove_G_percentage_under_17': True, 'features__remove_G_percentage_under_12': False, 'features__remove_G_percentage_under_15': False, 'features__remove_SQBedjefe': False, 'features__remove_G_percentage_under_5': True}\n",
      "35.05646519869566 1.649372273111233 {'features__remove_SQBhogar_nin': False, 'features__remove_rooms': False, 'features__remove_G_people_count': True, 'features__remove_qmobilephone': False, 'features__remove_overcrowding': False, 'features__remove_G_percentage_under_9': True, 'features__remove_G_percentage_under_17': True, 'features__remove_G_percentage_under_12': False, 'features__remove_G_percentage_under_15': False, 'features__remove_SQBedjefe': False, 'features__remove_G_percentage_under_5': False}\n",
      "33.74279747675678 2.0782388261564595 {'features__remove_SQBhogar_nin': False, 'features__remove_rooms': False, 'features__remove_G_people_count': True, 'features__remove_qmobilephone': False, 'features__remove_overcrowding': False, 'features__remove_G_percentage_under_9': False, 'features__remove_G_percentage_under_17': True, 'features__remove_G_percentage_under_12': False, 'features__remove_G_percentage_under_15': False, 'features__remove_SQBedjefe': False, 'features__remove_G_percentage_under_5': False}\n",
      "34.573600213412725 1.1795957020203423 {'features__remove_SQBhogar_nin': False, 'features__remove_rooms': False, 'features__remove_G_people_count': True, 'features__remove_qmobilephone': False, 'features__remove_overcrowding': False, 'features__remove_G_percentage_under_9': True, 'features__remove_G_percentage_under_17': False, 'features__remove_G_percentage_under_12': False, 'features__remove_G_percentage_under_15': False, 'features__remove_SQBedjefe': False, 'features__remove_G_percentage_under_5': True}\n",
      "34.093745857389415 2.29023597275826 {'features__remove_SQBhogar_nin': False, 'features__remove_rooms': False, 'features__remove_G_people_count': True, 'features__remove_qmobilephone': False, 'features__remove_overcrowding': False, 'features__remove_G_percentage_under_9': False, 'features__remove_G_percentage_under_17': False, 'features__remove_G_percentage_under_12': False, 'features__remove_G_percentage_under_15': False, 'features__remove_SQBedjefe': False, 'features__remove_G_percentage_under_5': True}\n",
      "34.15787612234878 0.964393294839171 {'features__remove_SQBhogar_nin': False, 'features__remove_rooms': False, 'features__remove_G_people_count': True, 'features__remove_qmobilephone': False, 'features__remove_overcrowding': False, 'features__remove_G_percentage_under_9': True, 'features__remove_G_percentage_under_17': False, 'features__remove_G_percentage_under_12': False, 'features__remove_G_percentage_under_15': False, 'features__remove_SQBedjefe': False, 'features__remove_G_percentage_under_5': False}\n",
      "33.40430596338337 3.1321714632110504 {'features__remove_SQBhogar_nin': False, 'features__remove_rooms': False, 'features__remove_G_people_count': True, 'features__remove_qmobilephone': False, 'features__remove_overcrowding': False, 'features__remove_G_percentage_under_9': False, 'features__remove_G_percentage_under_17': False, 'features__remove_G_percentage_under_12': False, 'features__remove_G_percentage_under_15': False, 'features__remove_SQBedjefe': False, 'features__remove_G_percentage_under_5': False}\n",
      "33.63850071520556 1.3313827195483596 {'features__remove_SQBhogar_nin': False, 'features__remove_rooms': False, 'features__remove_G_people_count': False, 'features__remove_qmobilephone': False, 'features__remove_overcrowding': False, 'features__remove_G_percentage_under_9': True, 'features__remove_G_percentage_under_17': True, 'features__remove_G_percentage_under_12': True, 'features__remove_G_percentage_under_15': True, 'features__remove_SQBedjefe': False, 'features__remove_G_percentage_under_5': True}\n",
      "34.194191374993714 1.0348984578464435 {'features__remove_SQBhogar_nin': False, 'features__remove_rooms': False, 'features__remove_G_people_count': False, 'features__remove_qmobilephone': False, 'features__remove_overcrowding': False, 'features__remove_G_percentage_under_9': False, 'features__remove_G_percentage_under_17': True, 'features__remove_G_percentage_under_12': True, 'features__remove_G_percentage_under_15': True, 'features__remove_SQBedjefe': False, 'features__remove_G_percentage_under_5': True}\n",
      "32.60044325934605 2.7246127347417106 {'features__remove_SQBhogar_nin': False, 'features__remove_rooms': False, 'features__remove_G_people_count': False, 'features__remove_qmobilephone': False, 'features__remove_overcrowding': False, 'features__remove_G_percentage_under_9': True, 'features__remove_G_percentage_under_17': True, 'features__remove_G_percentage_under_12': True, 'features__remove_G_percentage_under_15': True, 'features__remove_SQBedjefe': False, 'features__remove_G_percentage_under_5': False}\n",
      "32.88771786584189 1.0095864668556318 {'features__remove_SQBhogar_nin': False, 'features__remove_rooms': False, 'features__remove_G_people_count': False, 'features__remove_qmobilephone': False, 'features__remove_overcrowding': False, 'features__remove_G_percentage_under_9': False, 'features__remove_G_percentage_under_17': True, 'features__remove_G_percentage_under_12': True, 'features__remove_G_percentage_under_15': True, 'features__remove_SQBedjefe': False, 'features__remove_G_percentage_under_5': False}\n",
      "33.01314608761493 1.2247277392428142 {'features__remove_SQBhogar_nin': False, 'features__remove_rooms': False, 'features__remove_G_people_count': False, 'features__remove_qmobilephone': False, 'features__remove_overcrowding': False, 'features__remove_G_percentage_under_9': True, 'features__remove_G_percentage_under_17': False, 'features__remove_G_percentage_under_12': True, 'features__remove_G_percentage_under_15': True, 'features__remove_SQBedjefe': False, 'features__remove_G_percentage_under_5': True}\n",
      "34.043614586073275 1.0306535216057444 {'features__remove_SQBhogar_nin': False, 'features__remove_rooms': False, 'features__remove_G_people_count': False, 'features__remove_qmobilephone': False, 'features__remove_overcrowding': False, 'features__remove_G_percentage_under_9': False, 'features__remove_G_percentage_under_17': False, 'features__remove_G_percentage_under_12': True, 'features__remove_G_percentage_under_15': True, 'features__remove_SQBedjefe': False, 'features__remove_G_percentage_under_5': True}\n",
      "34.09458544936607 2.738522440248039 {'features__remove_SQBhogar_nin': False, 'features__remove_rooms': False, 'features__remove_G_people_count': False, 'features__remove_qmobilephone': False, 'features__remove_overcrowding': False, 'features__remove_G_percentage_under_9': True, 'features__remove_G_percentage_under_17': False, 'features__remove_G_percentage_under_12': True, 'features__remove_G_percentage_under_15': True, 'features__remove_SQBedjefe': False, 'features__remove_G_percentage_under_5': False}\n",
      "33.745484078880565 1.7264861382115229 {'features__remove_SQBhogar_nin': False, 'features__remove_rooms': False, 'features__remove_G_people_count': False, 'features__remove_qmobilephone': False, 'features__remove_overcrowding': False, 'features__remove_G_percentage_under_9': False, 'features__remove_G_percentage_under_17': False, 'features__remove_G_percentage_under_12': True, 'features__remove_G_percentage_under_15': True, 'features__remove_SQBedjefe': False, 'features__remove_G_percentage_under_5': False}\n",
      "33.286950753847584 1.356686723889441 {'features__remove_SQBhogar_nin': False, 'features__remove_rooms': False, 'features__remove_G_people_count': False, 'features__remove_qmobilephone': False, 'features__remove_overcrowding': False, 'features__remove_G_percentage_under_9': True, 'features__remove_G_percentage_under_17': True, 'features__remove_G_percentage_under_12': True, 'features__remove_G_percentage_under_15': False, 'features__remove_SQBedjefe': False, 'features__remove_G_percentage_under_5': True}\n",
      "33.193945731778676 1.682436116424418 {'features__remove_SQBhogar_nin': False, 'features__remove_rooms': False, 'features__remove_G_people_count': False, 'features__remove_qmobilephone': False, 'features__remove_overcrowding': False, 'features__remove_G_percentage_under_9': False, 'features__remove_G_percentage_under_17': True, 'features__remove_G_percentage_under_12': True, 'features__remove_G_percentage_under_15': False, 'features__remove_SQBedjefe': False, 'features__remove_G_percentage_under_5': True}\n",
      "34.05768272163279 1.7406153440824377 {'features__remove_SQBhogar_nin': False, 'features__remove_rooms': False, 'features__remove_G_people_count': False, 'features__remove_qmobilephone': False, 'features__remove_overcrowding': False, 'features__remove_G_percentage_under_9': True, 'features__remove_G_percentage_under_17': True, 'features__remove_G_percentage_under_12': True, 'features__remove_G_percentage_under_15': False, 'features__remove_SQBedjefe': False, 'features__remove_G_percentage_under_5': False}\n",
      "32.91257928771481 1.0296524091255768 {'features__remove_SQBhogar_nin': False, 'features__remove_rooms': False, 'features__remove_G_people_count': False, 'features__remove_qmobilephone': False, 'features__remove_overcrowding': False, 'features__remove_G_percentage_under_9': False, 'features__remove_G_percentage_under_17': True, 'features__remove_G_percentage_under_12': True, 'features__remove_G_percentage_under_15': False, 'features__remove_SQBedjefe': False, 'features__remove_G_percentage_under_5': False}\n",
      "34.99237687511072 0.8103365449340436 {'features__remove_SQBhogar_nin': False, 'features__remove_rooms': False, 'features__remove_G_people_count': False, 'features__remove_qmobilephone': False, 'features__remove_overcrowding': False, 'features__remove_G_percentage_under_9': True, 'features__remove_G_percentage_under_17': False, 'features__remove_G_percentage_under_12': True, 'features__remove_G_percentage_under_15': False, 'features__remove_SQBedjefe': False, 'features__remove_G_percentage_under_5': True}\n",
      "33.924822636565445 1.3508147066394438 {'features__remove_SQBhogar_nin': False, 'features__remove_rooms': False, 'features__remove_G_people_count': False, 'features__remove_qmobilephone': False, 'features__remove_overcrowding': False, 'features__remove_G_percentage_under_9': False, 'features__remove_G_percentage_under_17': False, 'features__remove_G_percentage_under_12': True, 'features__remove_G_percentage_under_15': False, 'features__remove_SQBedjefe': False, 'features__remove_G_percentage_under_5': True}\n",
      "33.17293120666077 1.6577177560509564 {'features__remove_SQBhogar_nin': False, 'features__remove_rooms': False, 'features__remove_G_people_count': False, 'features__remove_qmobilephone': False, 'features__remove_overcrowding': False, 'features__remove_G_percentage_under_9': True, 'features__remove_G_percentage_under_17': False, 'features__remove_G_percentage_under_12': True, 'features__remove_G_percentage_under_15': False, 'features__remove_SQBedjefe': False, 'features__remove_G_percentage_under_5': False}\n",
      "34.37411241619847 1.9782745528536885 {'features__remove_SQBhogar_nin': False, 'features__remove_rooms': False, 'features__remove_G_people_count': False, 'features__remove_qmobilephone': False, 'features__remove_overcrowding': False, 'features__remove_G_percentage_under_9': False, 'features__remove_G_percentage_under_17': False, 'features__remove_G_percentage_under_12': True, 'features__remove_G_percentage_under_15': False, 'features__remove_SQBedjefe': False, 'features__remove_G_percentage_under_5': False}\n",
      "34.242393798015016 2.311231817383382 {'features__remove_SQBhogar_nin': False, 'features__remove_rooms': False, 'features__remove_G_people_count': False, 'features__remove_qmobilephone': False, 'features__remove_overcrowding': False, 'features__remove_G_percentage_under_9': True, 'features__remove_G_percentage_under_17': True, 'features__remove_G_percentage_under_12': False, 'features__remove_G_percentage_under_15': True, 'features__remove_SQBedjefe': False, 'features__remove_G_percentage_under_5': True}\n",
      "34.73979382304726 1.3933671888487666 {'features__remove_SQBhogar_nin': False, 'features__remove_rooms': False, 'features__remove_G_people_count': False, 'features__remove_qmobilephone': False, 'features__remove_overcrowding': False, 'features__remove_G_percentage_under_9': False, 'features__remove_G_percentage_under_17': True, 'features__remove_G_percentage_under_12': False, 'features__remove_G_percentage_under_15': True, 'features__remove_SQBedjefe': False, 'features__remove_G_percentage_under_5': True}\n",
      "34.47690495363839 3.0533720984433863 {'features__remove_SQBhogar_nin': False, 'features__remove_rooms': False, 'features__remove_G_people_count': False, 'features__remove_qmobilephone': False, 'features__remove_overcrowding': False, 'features__remove_G_percentage_under_9': True, 'features__remove_G_percentage_under_17': True, 'features__remove_G_percentage_under_12': False, 'features__remove_G_percentage_under_15': True, 'features__remove_SQBedjefe': False, 'features__remove_G_percentage_under_5': False}\n",
      "33.20960235331133 3.359852011374077 {'features__remove_SQBhogar_nin': False, 'features__remove_rooms': False, 'features__remove_G_people_count': False, 'features__remove_qmobilephone': False, 'features__remove_overcrowding': False, 'features__remove_G_percentage_under_9': False, 'features__remove_G_percentage_under_17': True, 'features__remove_G_percentage_under_12': False, 'features__remove_G_percentage_under_15': True, 'features__remove_SQBedjefe': False, 'features__remove_G_percentage_under_5': False}\n",
      "35.147649268981226 1.312217173951595 {'features__remove_SQBhogar_nin': False, 'features__remove_rooms': False, 'features__remove_G_people_count': False, 'features__remove_qmobilephone': False, 'features__remove_overcrowding': False, 'features__remove_G_percentage_under_9': True, 'features__remove_G_percentage_under_17': False, 'features__remove_G_percentage_under_12': False, 'features__remove_G_percentage_under_15': True, 'features__remove_SQBedjefe': False, 'features__remove_G_percentage_under_5': True}\n",
      "34.54329317353557 1.0760562241360618 {'features__remove_SQBhogar_nin': False, 'features__remove_rooms': False, 'features__remove_G_people_count': False, 'features__remove_qmobilephone': False, 'features__remove_overcrowding': False, 'features__remove_G_percentage_under_9': False, 'features__remove_G_percentage_under_17': False, 'features__remove_G_percentage_under_12': False, 'features__remove_G_percentage_under_15': True, 'features__remove_SQBedjefe': False, 'features__remove_G_percentage_under_5': True}\n",
      "35.27079588308707 0.744052001381949 {'features__remove_SQBhogar_nin': False, 'features__remove_rooms': False, 'features__remove_G_people_count': False, 'features__remove_qmobilephone': False, 'features__remove_overcrowding': False, 'features__remove_G_percentage_under_9': True, 'features__remove_G_percentage_under_17': False, 'features__remove_G_percentage_under_12': False, 'features__remove_G_percentage_under_15': True, 'features__remove_SQBedjefe': False, 'features__remove_G_percentage_under_5': False}\n",
      "33.24205710532231 1.7549036069915032 {'features__remove_SQBhogar_nin': False, 'features__remove_rooms': False, 'features__remove_G_people_count': False, 'features__remove_qmobilephone': False, 'features__remove_overcrowding': False, 'features__remove_G_percentage_under_9': False, 'features__remove_G_percentage_under_17': False, 'features__remove_G_percentage_under_12': False, 'features__remove_G_percentage_under_15': True, 'features__remove_SQBedjefe': False, 'features__remove_G_percentage_under_5': False}\n",
      "33.84162740011958 2.552462466300053 {'features__remove_SQBhogar_nin': False, 'features__remove_rooms': False, 'features__remove_G_people_count': False, 'features__remove_qmobilephone': False, 'features__remove_overcrowding': False, 'features__remove_G_percentage_under_9': True, 'features__remove_G_percentage_under_17': True, 'features__remove_G_percentage_under_12': False, 'features__remove_G_percentage_under_15': False, 'features__remove_SQBedjefe': False, 'features__remove_G_percentage_under_5': True}\n",
      "33.090123130131325 2.409215994941616 {'features__remove_SQBhogar_nin': False, 'features__remove_rooms': False, 'features__remove_G_people_count': False, 'features__remove_qmobilephone': False, 'features__remove_overcrowding': False, 'features__remove_G_percentage_under_9': False, 'features__remove_G_percentage_under_17': True, 'features__remove_G_percentage_under_12': False, 'features__remove_G_percentage_under_15': False, 'features__remove_SQBedjefe': False, 'features__remove_G_percentage_under_5': True}\n",
      "33.97924139260567 1.2936752028943395 {'features__remove_SQBhogar_nin': False, 'features__remove_rooms': False, 'features__remove_G_people_count': False, 'features__remove_qmobilephone': False, 'features__remove_overcrowding': False, 'features__remove_G_percentage_under_9': True, 'features__remove_G_percentage_under_17': True, 'features__remove_G_percentage_under_12': False, 'features__remove_G_percentage_under_15': False, 'features__remove_SQBedjefe': False, 'features__remove_G_percentage_under_5': False}\n",
      "32.15584750042142 3.0797028186246664 {'features__remove_SQBhogar_nin': False, 'features__remove_rooms': False, 'features__remove_G_people_count': False, 'features__remove_qmobilephone': False, 'features__remove_overcrowding': False, 'features__remove_G_percentage_under_9': False, 'features__remove_G_percentage_under_17': True, 'features__remove_G_percentage_under_12': False, 'features__remove_G_percentage_under_15': False, 'features__remove_SQBedjefe': False, 'features__remove_G_percentage_under_5': False}\n",
      "35.070358748719634 2.214707429831344 {'features__remove_SQBhogar_nin': False, 'features__remove_rooms': False, 'features__remove_G_people_count': False, 'features__remove_qmobilephone': False, 'features__remove_overcrowding': False, 'features__remove_G_percentage_under_9': True, 'features__remove_G_percentage_under_17': False, 'features__remove_G_percentage_under_12': False, 'features__remove_G_percentage_under_15': False, 'features__remove_SQBedjefe': False, 'features__remove_G_percentage_under_5': True}\n",
      "34.436292929673535 1.2961561813505318 {'features__remove_SQBhogar_nin': False, 'features__remove_rooms': False, 'features__remove_G_people_count': False, 'features__remove_qmobilephone': False, 'features__remove_overcrowding': False, 'features__remove_G_percentage_under_9': False, 'features__remove_G_percentage_under_17': False, 'features__remove_G_percentage_under_12': False, 'features__remove_G_percentage_under_15': False, 'features__remove_SQBedjefe': False, 'features__remove_G_percentage_under_5': True}\n",
      "33.291680386988084 1.3640105606857695 {'features__remove_SQBhogar_nin': False, 'features__remove_rooms': False, 'features__remove_G_people_count': False, 'features__remove_qmobilephone': False, 'features__remove_overcrowding': False, 'features__remove_G_percentage_under_9': True, 'features__remove_G_percentage_under_17': False, 'features__remove_G_percentage_under_12': False, 'features__remove_G_percentage_under_15': False, 'features__remove_SQBedjefe': False, 'features__remove_G_percentage_under_5': False}\n",
      "32.59403749791555 1.1812391278766239 {'features__remove_SQBhogar_nin': False, 'features__remove_rooms': False, 'features__remove_G_people_count': False, 'features__remove_qmobilephone': False, 'features__remove_overcrowding': False, 'features__remove_G_percentage_under_9': False, 'features__remove_G_percentage_under_17': False, 'features__remove_G_percentage_under_12': False, 'features__remove_G_percentage_under_15': False, 'features__remove_SQBedjefe': False, 'features__remove_G_percentage_under_5': False}\n"
     ]
    }
   ],
   "source": [
    "cvres = grid_search.cv_results_\n",
    "for mean_score, std_score, params in zip(cvres['mean_test_score'], cvres['std_test_score'], cvres['params']):\n",
    "    print(mean_score * 100, std_score * 100, params)"
   ]
  },
  {
   "cell_type": "code",
   "execution_count": 74,
   "metadata": {},
   "outputs": [
    {
     "data": {
      "text/plain": [
       "{'features__remove_G_people_count': False,\n",
       " 'features__remove_G_percentage_under_12': False,\n",
       " 'features__remove_G_percentage_under_15': True,\n",
       " 'features__remove_G_percentage_under_17': False,\n",
       " 'features__remove_G_percentage_under_5': False,\n",
       " 'features__remove_G_percentage_under_9': True,\n",
       " 'features__remove_SQBedjefe': False,\n",
       " 'features__remove_SQBhogar_nin': False,\n",
       " 'features__remove_overcrowding': False,\n",
       " 'features__remove_qmobilephone': False,\n",
       " 'features__remove_rooms': False}"
      ]
     },
     "execution_count": 74,
     "metadata": {},
     "output_type": "execute_result"
    }
   ],
   "source": [
    "grid_search.best_params_"
   ]
  },
  {
   "cell_type": "code",
   "execution_count": 75,
   "metadata": {},
   "outputs": [
    {
     "data": {
      "text/plain": [
       "0.3527079588308707"
      ]
     },
     "execution_count": 75,
     "metadata": {},
     "output_type": "execute_result"
    }
   ],
   "source": [
    "grid_search.best_score_"
   ]
  }
 ],
 "metadata": {
  "anaconda-cloud": {},
  "kernelspec": {
   "display_name": "Python [default]",
   "language": "python",
   "name": "python3"
  },
  "language_info": {
   "codemirror_mode": {
    "name": "ipython",
    "version": 3
   },
   "file_extension": ".py",
   "mimetype": "text/x-python",
   "name": "python",
   "nbconvert_exporter": "python",
   "pygments_lexer": "ipython3",
   "version": "3.5.4"
  }
 },
 "nbformat": 4,
 "nbformat_minor": 2
}
