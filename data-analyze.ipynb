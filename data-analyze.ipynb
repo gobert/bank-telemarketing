{
 "cells": [
  {
   "cell_type": "markdown",
   "metadata": {
    "collapsed": true
   },
   "source": [
    "We have some data related to direct marketing campaigns (phone calls) of a Portuguese banking institution. The end goal is to predict if the client will subscribe a term deposit.\n",
    "\n",
    "First, let's perform some data analysis!"
   ]
  },
  {
   "cell_type": "code",
   "execution_count": 5,
   "metadata": {
    "collapsed": true
   },
   "outputs": [],
   "source": [
    "# import lib\n",
    "import pandas as pd\n",
    "import numpy as np\n",
    "import matplotlib.pyplot as plt\n",
    "\n",
    "# import data\n",
    "data = pd.read_csv(\"bank-additional-full.csv\", sep=\";\")"
   ]
  },
  {
   "cell_type": "markdown",
   "metadata": {},
   "source": [
    "## 1. Basic verfications\n",
    "### 1.1 Number of items"
   ]
  },
  {
   "cell_type": "code",
   "execution_count": 6,
   "metadata": {},
   "outputs": [
    {
     "name": "stdout",
     "output_type": "stream",
     "text": [
      "41188\n"
     ]
    }
   ],
   "source": [
    "print data[\"y\"].count()"
   ]
  },
  {
   "cell_type": "markdown",
   "metadata": {},
   "source": [
    "It seems to be enough data.\n",
    "\n",
    "### 1.2 Data Balance"
   ]
  },
  {
   "cell_type": "code",
   "execution_count": 7,
   "metadata": {},
   "outputs": [
    {
     "data": {
      "image/png": "[encoded data removed]",
      "text/plain": [
       "<matplotlib.figure.Figure at 0x1142162d0>"
      ]
     },
     "metadata": {},
     "output_type": "display_data"
    }
   ],
   "source": [
    "subscribe = data[data[\"y\"] == \"yes\"][\"y\"].count()\n",
    "not_subscribe = data[data[\"y\"] == \"no\"][\"y\"].count()\n",
    "\n",
    "labels = [\n",
    "    \"Subscribe (%(subscribe)s)\" % locals(),\n",
    "    \"Not subscribe (%(not_subscribe)s)\" % locals()\n",
    "]\n",
    "sizes = [subscribe, not_subscribe]\n",
    "plt.pie(sizes, labels=labels, autopct=\"%1.1f%%\")\n",
    "plt.title(\"Data balance between the expected 2 outputs\")\n",
    "\n",
    "plt.show()"
   ]
  },
  {
   "cell_type": "markdown",
   "metadata": {},
   "source": [
    "Some remarks:\n",
    "- The data isunbalanced,\n",
    "- 5640 subscriptions is still enough to recognize rough patterns,\n",
    "- The marketing campagin have a conversion rate of 11%. It's good and it's going to be tough to optimize."
   ]
  }
 ],
 "metadata": {
  "kernelspec": {
   "display_name": "Python 2",
   "language": "python",
   "name": "python2"
  },
  "language_info": {
   "codemirror_mode": {
    "name": "ipython",
    "version": 2
   },
   "file_extension": ".py",
   "mimetype": "text/x-python",
   "name": "python",
   "nbconvert_exporter": "python",
   "pygments_lexer": "ipython2",
   "version": "2.7.13"
  }
 },
 "nbformat": 4,
 "nbformat_minor": 2
}
