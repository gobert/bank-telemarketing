{
 "cells": [
  {
   "cell_type": "markdown",
   "metadata": {},
   "source": [
    "### Data balance - RPC = 0\n",
    "I also found a lot of data points with RPC = 0. This unbalanced data was a problem for my model. I modelized this as bad products: products that people will not buy. Let's try here to build a classifier that find those bad products."
   ]
  },
  {
   "cell_type": "markdown",
   "metadata": {},
   "source": [
    "# 1. Helpers definition"
   ]
  },
  {
   "cell_type": "code",
   "execution_count": 1,
   "metadata": {
    "collapsed": true
   },
   "outputs": [],
   "source": [
    "import pandas as pd\n",
    "import numpy as np\n",
    "import matplotlib.pyplot as plt"
   ]
  },
  {
   "cell_type": "code",
   "execution_count": 2,
   "metadata": {
    "collapsed": true
   },
   "outputs": [],
   "source": [
    "def split_train_test(data):\n",
    "    # around 20% of the population. Found Manually.\n",
    "    data_train = data[data[\"Date\"] <= \"2015-03-19\"]\n",
    "    data_test = data[data[\"Date\"] > \"2015-03-19\"]\n",
    "    \n",
    "    split_percentage = len(data_train) * 100 / (len(data_train) + len(data_test)) \n",
    "    print \"INFO - percentage of the data in training set: \" + str(split_percentage) + \"%\"\n",
    "    \n",
    "    return data_train, data_test\n",
    "\n",
    "\n",
    "def assign_group(rpc):\n",
    "    if rpc == 0:\n",
    "        return 0\n",
    "    else:\n",
    "        return 1\n",
    "\n",
    "    \n",
    "def rpc_feature(data):\n",
    "    return data[\"Revenue\"].apply(float) / data[\"Clicks\"]"
   ]
  },
  {
   "cell_type": "markdown",
   "metadata": {},
   "source": [
    "# 2. Modelization"
   ]
  },
  {
   "cell_type": "code",
   "execution_count": 3,
   "metadata": {},
   "outputs": [
    {
     "name": "stdout",
     "output_type": "stream",
     "text": [
      "INFO - percentage of the data in training set: 80%\n"
     ]
    }
   ],
   "source": [
    "# load dataset\n",
    "data = pd.read_csv(\"./sem-database.csv\").sample(frac=0.1)\n",
    "\n",
    "# feature creations\n",
    "data[\"RPC\"] = rpc_feature(data)\n",
    "data[\"product_category\"] = data[\"RPC\"].apply(assign_group)\n",
    "\n",
    "# split train / test data\n",
    "data_train, data_test = split_train_test(data)\n",
    "\n",
    "# we apply it to data points with enough data, and generlize it afterward.\n",
    "data_train = data_train.loc[(data_train[\"Clicks\"] >= 30)]\n",
    "data_test = data_test.loc[(data_test[\"Clicks\"] >= 30)]\n",
    "\n",
    "# we don't have that much features, I just tried all the possible combinations and selected the best one.\n",
    "features = [\"Account_ID\", \"Device_ID\", \"Match_type_ID\"]\n",
    "\n",
    "# create model\n",
    "X_train = data_train[features].applymap(str)\n",
    "y_train = data_train[\"product_category\"]\n",
    "X_test = data_test[features].applymap(str)\n",
    "y_test = data_test[\"product_category\"]\n",
    "\n",
    "# train model\n",
    "from sklearn.naive_bayes import MultinomialNB\n",
    "model = MultinomialNB()\n",
    "model.fit(X_train, y_train)\n",
    "\n",
    "# get predictions\n",
    "predictions = model.predict(X_test)"
   ]
  },
  {
   "cell_type": "markdown",
   "metadata": {},
   "source": [
    "# 3. Evaluation"
   ]
  },
  {
   "cell_type": "code",
   "execution_count": 4,
   "metadata": {},
   "outputs": [
    {
     "name": "stdout",
     "output_type": "stream",
     "text": [
      "Precisions: 27.9069767442\n",
      "Recall: 77.0053475936\n",
      "F1: 40.9672830725\n",
      "\n",
      "[[258 372]\n",
      " [ 43 144]]\n"
     ]
    }
   ],
   "source": [
    "from sklearn.metrics import confusion_matrix, f1_score, precision_score, recall_score\n",
    "\n",
    "print \"Precisions: \" + str(precision_score(y_test, predictions) * 100)\n",
    "print \"Recall: \" + str(recall_score(y_test, predictions) * 100)\n",
    "print \"F1: \" + str(f1_score(y_test, predictions) * 100)\n",
    "print \"\"\n",
    "print confusion_matrix(y_test, predictions)"
   ]
  }
 ],
 "metadata": {
  "kernelspec": {
   "display_name": "Python 2",
   "language": "python",
   "name": "python2"
  },
  "language_info": {
   "codemirror_mode": {
    "name": "ipython",
    "version": 2
   },
   "file_extension": ".py",
   "mimetype": "text/x-python",
   "name": "python",
   "nbconvert_exporter": "python",
   "pygments_lexer": "ipython2",
   "version": "2.7.13"
  }
 },
 "nbformat": 4,
 "nbformat_minor": 2
}
