{
 "cells": [
  {
   "cell_type": "markdown",
   "metadata": {},
   "source": [
    "# Generative Model for predicting the number of leads\n",
    "\n",
    "## Introduction\n",
    "We want to predict the number of leads (buying a product), based on the number of people that arrived on the product's landing page.\n",
    "\n",
    "\n",
    "## Mathmatical modelling\n",
    "![Model to predict the number of leads](https://user-images.githubusercontent.com/1684807/29458846-5e64179c-8421-11e7-979f-8b041e8c4826.png)\n",
    "Let's consider:\n",
    "\n",
    "lead = a customer that arrives on the landing page, who buy the product.\n",
    "\n",
    "* X = 0 no lead\n",
    "* X = 1 a lead\n",
    "\n",
    "And for n experiments of X:\n",
    "* Y = k, number of successes (leads) of n experiments of X\n",
    "\n",
    "X is following a Bernouilli distribution. Then Y is following a Binomiale distribution.\n",
    "\n",
    "## Helper definition"
   ]
  },
  {
   "cell_type": "code",
   "execution_count": 1,
   "metadata": {
    "collapsed": true
   },
   "outputs": [],
   "source": [
    "import pandas as pd\n",
    "import numpy as np\n",
    "import matplotlib.pyplot as plt"
   ]
  },
  {
   "cell_type": "code",
   "execution_count": 2,
   "metadata": {
    "collapsed": true
   },
   "outputs": [],
   "source": [
    "def split_train_test(data):\n",
    "    # around 20% of the population. Found Manually.\n",
    "    data_train = data[data[\"Date\"] <= \"2015-03-19\"]\n",
    "    data_test = data[data[\"Date\"] > \"2015-03-19\"]\n",
    "    \n",
    "    split_percentage = len(data_train) * 100 / (len(data_train) + len(data_test)) \n",
    "    print \"INFO - percentage of the data in training set: \" + str(split_percentage) + \"%\"\n",
    "    \n",
    "    return data_train, data_test"
   ]
  },
  {
   "cell_type": "code",
   "execution_count": 3,
   "metadata": {},
   "outputs": [
    {
     "data": {
      "text/plain": [
       "86"
      ]
     },
     "execution_count": 3,
     "metadata": {},
     "output_type": "execute_result"
    }
   ],
   "source": [
    "from scipy.stats import binom\n",
    "\n",
    "\n",
    "class BinomialePredictor:\n",
    "    def fit_transform(self, p, n):\n",
    "        self.__fit__(p)\n",
    "        return self.__transform__(n)\n",
    "                \n",
    "    def __fit__(self, p):\n",
    "        self.p = p\n",
    "\n",
    "    def __transform__(self, n):\n",
    "        return binom.rvs(n, self.p)    \n",
    "\n",
    "    \n",
    "# Usage examples    \n",
    "clicks = pd.Series([100, 10])\n",
    "leads = pd.Series([10, 1])\n",
    "\n",
    "bp = BinomialePredictor()\n",
    "bp.fit_transform(0.1, 1000)"
   ]
  },
  {
   "cell_type": "markdown",
   "metadata": {},
   "source": [
    "## Data Modelling\n",
    "\n",
    "Data will be grouped by product (\"Ad_group_ID\"); then a Binomial model will be trained on each product; and then predictions will be done for each according to the model."
   ]
  },
  {
   "cell_type": "code",
   "execution_count": 4,
   "metadata": {
    "collapsed": true
   },
   "outputs": [],
   "source": [
    "# Import data\n",
    "data = pd.read_csv(\"./sem-database.csv\")"
   ]
  },
  {
   "cell_type": "code",
   "execution_count": 5,
   "metadata": {
    "collapsed": true
   },
   "outputs": [],
   "source": [
    "# Define \"Leads\" Feature\n",
    "data[\"Leads\"] = data[\"Conversions\"]"
   ]
  },
  {
   "cell_type": "code",
   "execution_count": 6,
   "metadata": {},
   "outputs": [
    {
     "name": "stdout",
     "output_type": "stream",
     "text": [
      "INFO - percentage of the data in training set: 80%\n"
     ]
    }
   ],
   "source": [
    "# Split in train & test datasets\n",
    "data_train, data_test = split_train_test(data)"
   ]
  },
  {
   "cell_type": "code",
   "execution_count": 7,
   "metadata": {},
   "outputs": [
    {
     "data": {
      "text/html": [
       "<div>\n",
       "<table border=\"1\" class=\"dataframe\">\n",
       "  <thead>\n",
       "    <tr style=\"text-align: right;\">\n",
       "      <th></th>\n",
       "      <th>Clicks</th>\n",
       "      <th>Conversion_Rate</th>\n",
       "      <th>Conversions</th>\n",
       "      <th>Population</th>\n",
       "    </tr>\n",
       "    <tr>\n",
       "      <th>Ad_group_ID</th>\n",
       "      <th></th>\n",
       "      <th></th>\n",
       "      <th></th>\n",
       "      <th></th>\n",
       "    </tr>\n",
       "  </thead>\n",
       "  <tbody>\n",
       "    <tr>\n",
       "      <th>2179346</th>\n",
       "      <td>18</td>\n",
       "      <td>0.0</td>\n",
       "      <td>0</td>\n",
       "      <td>9</td>\n",
       "    </tr>\n",
       "    <tr>\n",
       "      <th>7341258</th>\n",
       "      <td>18</td>\n",
       "      <td>0.0</td>\n",
       "      <td>0</td>\n",
       "      <td>6</td>\n",
       "    </tr>\n",
       "    <tr>\n",
       "      <th>14545463</th>\n",
       "      <td>2</td>\n",
       "      <td>0.0</td>\n",
       "      <td>0</td>\n",
       "      <td>1</td>\n",
       "    </tr>\n",
       "    <tr>\n",
       "      <th>15487922</th>\n",
       "      <td>14</td>\n",
       "      <td>0.0</td>\n",
       "      <td>0</td>\n",
       "      <td>7</td>\n",
       "    </tr>\n",
       "    <tr>\n",
       "      <th>16641176</th>\n",
       "      <td>2</td>\n",
       "      <td>0.0</td>\n",
       "      <td>0</td>\n",
       "      <td>1</td>\n",
       "    </tr>\n",
       "  </tbody>\n",
       "</table>\n",
       "</div>"
      ],
      "text/plain": [
       "             Clicks  Conversion_Rate  Conversions  Population\n",
       "Ad_group_ID                                                  \n",
       "2179346          18              0.0            0           9\n",
       "7341258          18              0.0            0           6\n",
       "14545463          2              0.0            0           1\n",
       "15487922         14              0.0            0           7\n",
       "16641176          2              0.0            0           1"
      ]
     },
     "execution_count": 7,
     "metadata": {},
     "output_type": "execute_result"
    }
   ],
   "source": [
    "# Create model by Product\n",
    "g_data = data_train.groupby(\"Ad_group_ID\")\n",
    "\n",
    "population = g_data[\"Ad_group_ID\"].count()\n",
    "clicks = g_data[\"Clicks\"].sum()\n",
    "conversions = g_data[\"Conversions\"].sum()\n",
    "conversion_rate = conversions.apply(float) / clicks\n",
    "model = pd.DataFrame(data={\"Clicks\": clicks, \"Population\": population, \"Conversions\": conversions, \"Conversion_Rate\": conversion_rate})\n",
    "\n",
    "model.head()"
   ]
  },
  {
   "cell_type": "code",
   "execution_count": 8,
   "metadata": {
    "collapsed": true
   },
   "outputs": [],
   "source": [
    "# Delete outliers: conversion rate over 100%\n",
    "outliers = model[model[\"Conversion_Rate\"] > 1]\n",
    "data_test = data_test[~data_test[\"Ad_group_ID\"].isin([outliers.index])]\n",
    "\n",
    "# Delete unpredictable: it does not make sense to predict if no data in the past\n",
    "data_test = data_test[data_test[\"Ad_group_ID\"].isin([data_train[\"Ad_group_ID\"].unique()])]"
   ]
  },
  {
   "cell_type": "markdown",
   "metadata": {},
   "source": [
    "## Predictions"
   ]
  },
  {
   "cell_type": "code",
   "execution_count": 9,
   "metadata": {},
   "outputs": [],
   "source": [
    "binomiale_predictor = BinomialePredictor()\n",
    "def predict(row):\n",
    "    mean = model.loc[row[\"Ad_group_ID\"], \"Conversion_Rate\"]\n",
    "    clicks = row[\"Clicks\"]\n",
    "    return binomiale_predictor.fit_transform(mean, clicks)"
   ]
  },
  {
   "cell_type": "code",
   "execution_count": 10,
   "metadata": {
    "collapsed": true
   },
   "outputs": [],
   "source": [
    "data_test[\"Predictions\"] = data_test.apply(predict, axis=1)"
   ]
  },
  {
   "cell_type": "markdown",
   "metadata": {},
   "source": [
    "## Evaluation"
   ]
  },
  {
   "cell_type": "code",
   "execution_count": 11,
   "metadata": {
    "collapsed": true
   },
   "outputs": [],
   "source": [
    "data_eval = data_test"
   ]
  },
  {
   "cell_type": "code",
   "execution_count": 12,
   "metadata": {},
   "outputs": [
    {
     "name": "stdout",
     "output_type": "stream",
     "text": [
      "Mean Absolute error: 0.0914547777275\n",
      "Standard Deviatio: 0.558158716461\n"
     ]
    }
   ],
   "source": [
    "from sklearn.metrics import mean_absolute_error\n",
    "mae = mean_absolute_error(data_eval[\"Leads\"], data_eval[\"Predictions\"])\n",
    "std = data_eval[\"Leads\"].std()\n",
    "\n",
    "print \"Mean Absolute error: \" + str(mae)\n",
    "print \"Standard Deviatio: \" + str(std)"
   ]
  },
  {
   "cell_type": "code",
   "execution_count": 13,
   "metadata": {
    "scrolled": true
   },
   "outputs": [
    {
     "data": {
      "image/png": "[encoded data removed]",
      "text/plain": [
       "<matplotlib.figure.Figure at 0x1104fc910>"
      ]
     },
     "metadata": {},
     "output_type": "display_data"
    }
   ],
   "source": [
    "# Check if we have a regression between predicted and expected data\n",
    "data_plot = data_eval.sample(frac=0.1)\n",
    "plt.scatter(data_plot[\"Predictions\"], data_plot[\"Leads\"])\n",
    "plt.xlabel(\"Predicted\")\n",
    "plt.ylabel(\"Expected\")\n",
    "plt.title(\"Number of Leads: predicted vs expected\")\n",
    "plt.show()"
   ]
  },
  {
   "cell_type": "markdown",
   "metadata": {
    "collapsed": true
   },
   "source": [
    "## Conclusion"
   ]
  },
  {
   "cell_type": "markdown",
   "metadata": {},
   "source": [
    "1. The mean absolute error is under the standard deviation: it is acceptable\n",
    "2. The model is a bit random under 10 clicks\n",
    "3. Above 10 clicks, we can see a regression between predicted and expected data: this is a good sign for a model\n",
    "\n",
    "\n",
    "**Improvements**\n",
    "\n",
    "We need a more complex model to improve predictions for 0 ; 10 clicks"
   ]
  }
 ],
 "metadata": {
  "kernelspec": {
   "display_name": "Python 2",
   "language": "python",
   "name": "python2"
  },
  "language_info": {
   "codemirror_mode": {
    "name": "ipython",
    "version": 2
   },
   "file_extension": ".py",
   "mimetype": "text/x-python",
   "name": "python",
   "nbconvert_exporter": "python",
   "pygments_lexer": "ipython2",
   "version": "2.7.13"
  }
 },
 "nbformat": 4,
 "nbformat_minor": 2
}
