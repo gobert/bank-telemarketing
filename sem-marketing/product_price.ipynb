{
 "cells": [
  {
   "cell_type": "code",
   "execution_count": 1,
   "metadata": {
    "collapsed": true
   },
   "outputs": [],
   "source": [
    "import pandas as pd\n",
    "import numpy as np\n",
    "import matplotlib.pyplot as plt"
   ]
  },
  {
   "cell_type": "code",
   "execution_count": 2,
   "metadata": {
    "collapsed": true
   },
   "outputs": [],
   "source": [
    "# Import data\n",
    "data = pd.read_csv(\"./sem-database.csv\")"
   ]
  },
  {
   "cell_type": "code",
   "execution_count": 3,
   "metadata": {
    "collapsed": true
   },
   "outputs": [],
   "source": [
    "# Select only data that have a conversion."
   ]
  },
  {
   "cell_type": "code",
   "execution_count": 4,
   "metadata": {},
   "outputs": [
    {
     "data": {
      "text/html": [
       "<div>\n",
       "<table border=\"1\" class=\"dataframe\">\n",
       "  <thead>\n",
       "    <tr style=\"text-align: right;\">\n",
       "      <th></th>\n",
       "      <th>Clicks</th>\n",
       "      <th>Conversions</th>\n",
       "    </tr>\n",
       "  </thead>\n",
       "  <tbody>\n",
       "    <tr>\n",
       "      <th>count</th>\n",
       "      <td>8.285423e+06</td>\n",
       "      <td>8.285423e+06</td>\n",
       "    </tr>\n",
       "    <tr>\n",
       "      <th>mean</th>\n",
       "      <td>3.385137e+00</td>\n",
       "      <td>4.980832e-02</td>\n",
       "    </tr>\n",
       "    <tr>\n",
       "      <th>std</th>\n",
       "      <td>6.373065e+00</td>\n",
       "      <td>6.945033e-01</td>\n",
       "    </tr>\n",
       "    <tr>\n",
       "      <th>min</th>\n",
       "      <td>2.000000e+00</td>\n",
       "      <td>0.000000e+00</td>\n",
       "    </tr>\n",
       "    <tr>\n",
       "      <th>25%</th>\n",
       "      <td>2.000000e+00</td>\n",
       "      <td>0.000000e+00</td>\n",
       "    </tr>\n",
       "    <tr>\n",
       "      <th>50%</th>\n",
       "      <td>2.000000e+00</td>\n",
       "      <td>0.000000e+00</td>\n",
       "    </tr>\n",
       "    <tr>\n",
       "      <th>75%</th>\n",
       "      <td>2.000000e+00</td>\n",
       "      <td>0.000000e+00</td>\n",
       "    </tr>\n",
       "    <tr>\n",
       "      <th>max</th>\n",
       "      <td>1.827000e+03</td>\n",
       "      <td>1.180000e+03</td>\n",
       "    </tr>\n",
       "  </tbody>\n",
       "</table>\n",
       "</div>"
      ],
      "text/plain": [
       "             Clicks   Conversions\n",
       "count  8.285423e+06  8.285423e+06\n",
       "mean   3.385137e+00  4.980832e-02\n",
       "std    6.373065e+00  6.945033e-01\n",
       "min    2.000000e+00  0.000000e+00\n",
       "25%    2.000000e+00  0.000000e+00\n",
       "50%    2.000000e+00  0.000000e+00\n",
       "75%    2.000000e+00  0.000000e+00\n",
       "max    1.827000e+03  1.180000e+03"
      ]
     },
     "execution_count": 4,
     "metadata": {},
     "output_type": "execute_result"
    }
   ],
   "source": [
    "data.describe()[[\"Clicks\", \"Conversions\"]]"
   ]
  },
  {
   "cell_type": "code",
   "execution_count": 5,
   "metadata": {
    "collapsed": true
   },
   "outputs": [],
   "source": [
    "g_data = data.groupby(\"Ad_group_ID\")\n",
    "\n",
    "revenues = g_data[\"Revenue\"].sum()\n",
    "population = g_data[\"Ad_group_ID\"].count()\n",
    "conversions = g_data[\"Conversions\"].sum()\n",
    "aggregat = pd.DataFrame(data = { \"Revenue\": revenues, \"Population\": population, \"Conversions\": conversions})\n",
    "\n",
    "aggregat[\"Price\"] = aggregat[\"Revenue\"] / aggregat[\"Conversions\"]"
   ]
  },
  {
   "cell_type": "code",
   "execution_count": 6,
   "metadata": {},
   "outputs": [
    {
     "data": {
      "text/html": [
       "<div>\n",
       "<table border=\"1\" class=\"dataframe\">\n",
       "  <thead>\n",
       "    <tr style=\"text-align: right;\">\n",
       "      <th></th>\n",
       "      <th>Conversions</th>\n",
       "      <th>Population</th>\n",
       "      <th>Revenue</th>\n",
       "      <th>Price</th>\n",
       "    </tr>\n",
       "  </thead>\n",
       "  <tbody>\n",
       "    <tr>\n",
       "      <th>count</th>\n",
       "      <td>269480.000000</td>\n",
       "      <td>269480.000000</td>\n",
       "      <td>2.694800e+05</td>\n",
       "      <td>31010.000000</td>\n",
       "    </tr>\n",
       "    <tr>\n",
       "      <th>mean</th>\n",
       "      <td>1.531405</td>\n",
       "      <td>30.745966</td>\n",
       "      <td>5.479273e+03</td>\n",
       "      <td>3681.137085</td>\n",
       "    </tr>\n",
       "    <tr>\n",
       "      <th>std</th>\n",
       "      <td>43.845531</td>\n",
       "      <td>112.698846</td>\n",
       "      <td>1.567445e+05</td>\n",
       "      <td>4062.642337</td>\n",
       "    </tr>\n",
       "    <tr>\n",
       "      <th>min</th>\n",
       "      <td>0.000000</td>\n",
       "      <td>1.000000</td>\n",
       "      <td>0.000000e+00</td>\n",
       "      <td>0.000000</td>\n",
       "    </tr>\n",
       "    <tr>\n",
       "      <th>25%</th>\n",
       "      <td>0.000000</td>\n",
       "      <td>1.000000</td>\n",
       "      <td>0.000000e+00</td>\n",
       "      <td>1419.330000</td>\n",
       "    </tr>\n",
       "    <tr>\n",
       "      <th>50%</th>\n",
       "      <td>0.000000</td>\n",
       "      <td>4.000000</td>\n",
       "      <td>0.000000e+00</td>\n",
       "      <td>2689.260000</td>\n",
       "    </tr>\n",
       "    <tr>\n",
       "      <th>75%</th>\n",
       "      <td>0.000000</td>\n",
       "      <td>17.000000</td>\n",
       "      <td>0.000000e+00</td>\n",
       "      <td>4621.940373</td>\n",
       "    </tr>\n",
       "    <tr>\n",
       "      <th>max</th>\n",
       "      <td>18040.000000</td>\n",
       "      <td>8111.000000</td>\n",
       "      <td>6.261996e+07</td>\n",
       "      <td>142073.785000</td>\n",
       "    </tr>\n",
       "  </tbody>\n",
       "</table>\n",
       "</div>"
      ],
      "text/plain": [
       "         Conversions     Population       Revenue          Price\n",
       "count  269480.000000  269480.000000  2.694800e+05   31010.000000\n",
       "mean        1.531405      30.745966  5.479273e+03    3681.137085\n",
       "std        43.845531     112.698846  1.567445e+05    4062.642337\n",
       "min         0.000000       1.000000  0.000000e+00       0.000000\n",
       "25%         0.000000       1.000000  0.000000e+00    1419.330000\n",
       "50%         0.000000       4.000000  0.000000e+00    2689.260000\n",
       "75%         0.000000      17.000000  0.000000e+00    4621.940373\n",
       "max     18040.000000    8111.000000  6.261996e+07  142073.785000"
      ]
     },
     "execution_count": 6,
     "metadata": {},
     "output_type": "execute_result"
    }
   ],
   "source": [
    "aggregat.describe()"
   ]
  },
  {
   "cell_type": "code",
   "execution_count": 7,
   "metadata": {},
   "outputs": [
    {
     "data": {
      "text/html": [
       "<div>\n",
       "<table border=\"1\" class=\"dataframe\">\n",
       "  <thead>\n",
       "    <tr style=\"text-align: right;\">\n",
       "      <th></th>\n",
       "      <th>Conversions</th>\n",
       "      <th>Population</th>\n",
       "      <th>Revenue</th>\n",
       "      <th>Price</th>\n",
       "    </tr>\n",
       "  </thead>\n",
       "  <tbody>\n",
       "    <tr>\n",
       "      <th>count</th>\n",
       "      <td>30637.000000</td>\n",
       "      <td>30637.000000</td>\n",
       "      <td>3.063700e+04</td>\n",
       "      <td>30637.000000</td>\n",
       "    </tr>\n",
       "    <tr>\n",
       "      <th>mean</th>\n",
       "      <td>13.433593</td>\n",
       "      <td>162.010543</td>\n",
       "      <td>4.819514e+04</td>\n",
       "      <td>3725.954271</td>\n",
       "    </tr>\n",
       "    <tr>\n",
       "      <th>std</th>\n",
       "      <td>129.421563</td>\n",
       "      <td>287.050666</td>\n",
       "      <td>4.626581e+05</td>\n",
       "      <td>4066.819798</td>\n",
       "    </tr>\n",
       "    <tr>\n",
       "      <th>min</th>\n",
       "      <td>2.000000</td>\n",
       "      <td>1.000000</td>\n",
       "      <td>1.494000e+01</td>\n",
       "      <td>7.470000</td>\n",
       "    </tr>\n",
       "    <tr>\n",
       "      <th>25%</th>\n",
       "      <td>2.000000</td>\n",
       "      <td>22.000000</td>\n",
       "      <td>4.258000e+03</td>\n",
       "      <td>1460.966000</td>\n",
       "    </tr>\n",
       "    <tr>\n",
       "      <th>50%</th>\n",
       "      <td>2.000000</td>\n",
       "      <td>69.000000</td>\n",
       "      <td>1.038652e+04</td>\n",
       "      <td>2719.140000</td>\n",
       "    </tr>\n",
       "    <tr>\n",
       "      <th>75%</th>\n",
       "      <td>8.000000</td>\n",
       "      <td>184.000000</td>\n",
       "      <td>2.674323e+04</td>\n",
       "      <td>4661.385000</td>\n",
       "    </tr>\n",
       "    <tr>\n",
       "      <th>max</th>\n",
       "      <td>18040.000000</td>\n",
       "      <td>8111.000000</td>\n",
       "      <td>6.261996e+07</td>\n",
       "      <td>142073.785000</td>\n",
       "    </tr>\n",
       "  </tbody>\n",
       "</table>\n",
       "</div>"
      ],
      "text/plain": [
       "        Conversions    Population       Revenue          Price\n",
       "count  30637.000000  30637.000000  3.063700e+04   30637.000000\n",
       "mean      13.433593    162.010543  4.819514e+04    3725.954271\n",
       "std      129.421563    287.050666  4.626581e+05    4066.819798\n",
       "min        2.000000      1.000000  1.494000e+01       7.470000\n",
       "25%        2.000000     22.000000  4.258000e+03    1460.966000\n",
       "50%        2.000000     69.000000  1.038652e+04    2719.140000\n",
       "75%        8.000000    184.000000  2.674323e+04    4661.385000\n",
       "max    18040.000000   8111.000000  6.261996e+07  142073.785000"
      ]
     },
     "execution_count": 7,
     "metadata": {},
     "output_type": "execute_result"
    }
   ],
   "source": [
    "aggregat[aggregat.Revenue > 0].describe()"
   ]
  },
  {
   "cell_type": "markdown",
   "metadata": {},
   "source": [
    "# Visualisation"
   ]
  },
  {
   "cell_type": "code",
   "execution_count": 8,
   "metadata": {
    "collapsed": true
   },
   "outputs": [],
   "source": [
    "example_ad_group_id = aggregat[aggregat.Population == 69].sort_values([\"Revenue\"], ascending=[False]).index[0]"
   ]
  },
  {
   "cell_type": "code",
   "execution_count": 9,
   "metadata": {},
   "outputs": [
    {
     "data": {
      "text/plain": [
       "241795792797"
      ]
     },
     "execution_count": 9,
     "metadata": {},
     "output_type": "execute_result"
    }
   ],
   "source": [
    "example_ad_group_id"
   ]
  },
  {
   "cell_type": "code",
   "execution_count": null,
   "metadata": {
    "collapsed": true
   },
   "outputs": [],
   "source": [
    "data[\"Price\"] = data[\"Revenue\"] / data[\"Clicks\"] * data[\"Conversions\"]"
   ]
  },
  {
   "cell_type": "code",
   "execution_count": null,
   "metadata": {
    "collapsed": true
   },
   "outputs": [],
   "source": [
    "plot_data = data[data.Ad_group_ID == example_ad_group_id][data.Revenue > 0]"
   ]
  },
  {
   "cell_type": "code",
   "execution_count": null,
   "metadata": {
    "collapsed": true
   },
   "outputs": [],
   "source": [
    "x = range(len(plot_data)) # x = np.linspace(0,10)\n",
    "\n",
    "y_val = aggregat.loc[example_ad_group_id, \"Price\"]\n",
    "y = np.array([y_val for i in xrange(len(x))])\n",
    "\n",
    "plt.plot(x, y)\n",
    "plt.scatter(x, plot_data[\"Price\"])\n",
    "\n",
    "plt.show()"
   ]
  },
  {
   "cell_type": "code",
   "execution_count": null,
   "metadata": {
    "collapsed": true
   },
   "outputs": [],
   "source": [
    "plot_data[plot_data.Price < 20000].Price.describe()"
   ]
  },
  {
   "cell_type": "code",
   "execution_count": null,
   "metadata": {
    "collapsed": true
   },
   "outputs": [],
   "source": [
    "aggregat.loc[example_ad_group_id, \"Price\"]"
   ]
  },
  {
   "cell_type": "markdown",
   "metadata": {},
   "source": [
    "# Test: weighted mean on pandas dataframe"
   ]
  },
  {
   "cell_type": "code",
   "execution_count": null,
   "metadata": {
    "collapsed": true
   },
   "outputs": [],
   "source": [
    "foo = pd.DataFrame(data = {\"Clicks\": [5,2,3], \"Conversions\": [20, 50, 0]})\n",
    "(foo[\"Clicks\"] * foo[\"Conversions\"]).sum() / foo[\"Clicks\"].sum()"
   ]
  },
  {
   "cell_type": "code",
   "execution_count": null,
   "metadata": {
    "collapsed": true
   },
   "outputs": [],
   "source": [
    "data[data.Ad_group_ID == example_ad_group_id][data.Clicks != 2][[\"Clicks\", \"Conversions\"]]\n",
    "\n",
    "data[data.Ad_group_ID == example_ad_group_id][data.Clicks != 2][[\"Clicks\", \"Conversions\"]]"
   ]
  },
  {
   "cell_type": "code",
   "execution_count": null,
   "metadata": {
    "collapsed": true
   },
   "outputs": [],
   "source": [
    "example_ad_group_id"
   ]
  },
  {
   "cell_type": "code",
   "execution_count": null,
   "metadata": {
    "collapsed": true
   },
   "outputs": [],
   "source": []
  }
 ],
 "metadata": {
  "kernelspec": {
   "display_name": "Python 2",
   "language": "python",
   "name": "python2"
  },
  "language_info": {
   "codemirror_mode": {
    "name": "ipython",
    "version": 2
   },
   "file_extension": ".py",
   "mimetype": "text/x-python",
   "name": "python",
   "nbconvert_exporter": "python",
   "pygments_lexer": "ipython2",
   "version": "2.7.13"
  }
 },
 "nbformat": 4,
 "nbformat_minor": 2
}
