{
 "cells": [
  {
   "cell_type": "code",
   "execution_count": 26,
   "metadata": {},
   "outputs": [],
   "source": [
    "from sklearn.datasets import load_iris"
   ]
  },
  {
   "cell_type": "markdown",
   "metadata": {},
   "source": [
    "# 1. Import data"
   ]
  },
  {
   "cell_type": "code",
   "execution_count": 27,
   "metadata": {},
   "outputs": [
    {
     "name": "stdout",
     "output_type": "stream",
     "text": [
      "['sepal length (cm)', 'sepal width (cm)', 'petal length (cm)', 'petal width (cm)']\n"
     ]
    }
   ],
   "source": [
    "iris = load_iris()\n",
    "print(iris.feature_names) # we will take iris features 2 and 3\n",
    "\n",
    "X = iris[\"data\"][:, (2, 3)] \n",
    "y = iris[\"target\"]\n",
    "\n",
    "setosa_or_versicolor = (y == 0) | (y == 1)\n",
    "\n",
    "X = X[setosa_or_versicolor]\n",
    "y = y[setosa_or_versicolor]"
   ]
  },
  {
   "cell_type": "markdown",
   "metadata": {},
   "source": [
    "# 2. Train the three models"
   ]
  },
  {
   "cell_type": "code",
   "execution_count": 28,
   "metadata": {},
   "outputs": [
    {
     "name": "stderr",
     "output_type": "stream",
     "text": [
      "/Users/geoffroygobert/anaconda/lib/python3.5/site-packages/sklearn/linear_model/stochastic_gradient.py:128: FutureWarning: max_iter and tol parameters have been added in <class 'sklearn.linear_model.stochastic_gradient.SGDClassifier'> in 0.19. If both are left unset, they default to max_iter=5 and tol=None. If tol is not None, max_iter defaults to max_iter=1000. From 0.21, default max_iter will be 1000, and default tol will be 1e-3.\n",
      "  \"and default tol will be 1e-3.\" % type(self), FutureWarning)\n"
     ]
    }
   ],
   "source": [
    "from sklearn.preprocessing import StandardScaler\n",
    "from sklearn.svm import LinearSVC\n",
    "from sklearn.svm import SVC\n",
    "from sklearn.linear_model import SGDClassifier\n",
    "\n",
    "C = 1.0\n",
    "alpha = 1 / (len(X) * C) # this value of alpha with loss=\"hinge\" make the SGDclassifier similars to a Linear Classifier\n",
    "\n",
    "lin_clf = LinearSVC(loss=\"hinge\",C=C)\n",
    "svc_clf = SVC(kernel=\"linear\", C=C)\n",
    "sgd_clf = SGDClassifier(loss=\"hinge\", alpha=alpha)\n",
    "\n",
    "scaler = StandardScaler()\n",
    "X_scaled = scaler.fit_transform(X)\n",
    "\n",
    "models = [lin_clf, svc_clf, sgd_clf]\n",
    "for model in models:\n",
    "    model.fit(X_scaled, y)"
   ]
  },
  {
   "cell_type": "markdown",
   "metadata": {},
   "source": [
    "# How to find intercept and slope?"
   ]
  },
  {
   "cell_type": "code",
   "execution_count": 29,
   "metadata": {},
   "outputs": [
    {
     "data": {
      "text/latex": [
       "For a classificator with a linear model we have:\n",
       "\\[\n",
       "    \\hat{y}\t(w, x) = wx + w_0\n",
       "\\]\n",
       "With:\n",
       "$\\hat{y} (w, x)$ predicted class like {'setosa', 'versicolor'} but numerical so {0, 1}\\[\\]\n",
       "\n",
       "$x$ input vector so in our case \\begin{pmatrix}\n",
       "        pentalLength \\\\\n",
       "        petalWidth\n",
       "    \\end{pmatrix}\\[\\]\n",
       "    \n",
       "$w$ weight of each feature in our linear regression\\[\\]\n",
       "\n",
       "In our case we have 2 dimensions (2 inputs features: petal lenght, petal weight):\n",
       "\\[\n",
       "    \\hat{y}\t(w, x) =  \n",
       "        \\begin{pmatrix}\n",
       "           w_1 \\\\\n",
       "           w_2\n",
       "        \\end{pmatrix}x + w_0\n",
       "\\]\n",
       "\n",
       "We can also write it like:\n",
       "\n",
       "\\[\n",
       "    \\hat{y}\t(w, x) = w_{0} + w_{1}x_{1} + w_{2}x_{2} + .... + w_{n}x_{n}\n",
       "\\]\n",
       "\n",
       "\\[\\]To draw this model we want:\n",
       "\\[\n",
       "    x_2 = a.f(x_1) + b\n",
       "\\]  \n",
       "\n",
       "We also have a case where $\\hat{y} (w, x) = 0$ (we centered the data) so:\n",
       "\\[\n",
       "    0 = w_0 + w_1x_1 + w_2x_2\n",
       "\\]\n",
       "\n",
       "\n",
       "\\[\\]\\[\n",
       "    x_2 = - \\frac{w_1}{w_2}x_1 - \\frac{w_0}{w_2}\n",
       "\\]  "
      ],
      "text/plain": [
       "<IPython.core.display.Latex object>"
      ]
     },
     "metadata": {},
     "output_type": "display_data"
    }
   ],
   "source": [
    "%%latex\n",
    "For a classificator with a linear model we have:\n",
    "\\[\n",
    "    \\hat{y}\t(w, x) = wx + w_0\n",
    "\\]\n",
    "With:\n",
    "$\\hat{y} (w, x)$ predicted class like {'setosa', 'versicolor'} but numerical so {0, 1}\\[\\]\n",
    "\n",
    "$x$ input vector so in our case \\begin{pmatrix}\n",
    "        pentalLength \\\\\n",
    "        petalWidth\n",
    "    \\end{pmatrix}\\[\\]\n",
    "    \n",
    "$w$ weight of each feature in our linear regression\\[\\]\n",
    "\n",
    "In our case we have 2 dimensions (2 inputs features: petal lenght, petal weight):\n",
    "\\[\n",
    "    \\hat{y}\t(w, x) =  \n",
    "        \\begin{pmatrix}\n",
    "           w_1 \\\\\n",
    "           w_2\n",
    "        \\end{pmatrix}x + w_0\n",
    "\\]\n",
    "\n",
    "We can also write it like:\n",
    "\n",
    "\\[\n",
    "    \\hat{y}\t(w, x) = w_{0} + w_{1}x_{1} + w_{2}x_{2} + .... + w_{n}x_{n}\n",
    "\\]\n",
    "\n",
    "\\[\\]To draw this model we want:\n",
    "\\[\n",
    "    x_2 = a.f(x_1) + b\n",
    "\\]  \n",
    "\n",
    "We also have a case where $\\hat{y} (w, x) = 0$ (we centered the data) so:\n",
    "\\[\n",
    "    0 = w_0 + w_1x_1 + w_2x_2\n",
    "\\]\n",
    "\n",
    "\n",
    "\\[\\]\\[\n",
    "    x_2 = - \\frac{w_1}{w_2}x_1 - \\frac{w_0}{w_2}\n",
    "\\]  \n"
   ]
  },
  {
   "cell_type": "markdown",
   "metadata": {},
   "source": [
    "# 4. Visualize models and the datapoints"
   ]
  },
  {
   "cell_type": "code",
   "execution_count": 30,
   "metadata": {},
   "outputs": [],
   "source": [
    "X_setosa = X[y == 0]\n",
    "y_setosa = y[y == 0]\n",
    "X_versicolor = X[y == 1]\n",
    "y_versicolor = y[y == 1]"
   ]
  },
  {
   "cell_type": "code",
   "execution_count": 31,
   "metadata": {},
   "outputs": [
    {
     "data": {
      "image/png": "[encoded data removed]",
      "text/plain": [
       "<matplotlib.figure.Figure at 0x1a1f951e10>"
      ]
     },
     "metadata": {},
     "output_type": "display_data"
    }
   ],
   "source": [
    "import numpy as np\n",
    "import matplotlib.pyplot as plt\n",
    "\n",
    "# Draw datapoints\n",
    "plt.scatter(X_setosa[:,0], X_setosa[:,1], marker=\"v\", color='grey')\n",
    "plt.scatter(X_versicolor[:,0], X_versicolor[:,1], marker=\"o\", color='grey')\n",
    "\n",
    "x_min = X_scaled.min()\n",
    "x_max = X_scaled.max()\n",
    "\n",
    "# Draw each model. Compute first intercept and slope\n",
    "for model in models:\n",
    "    w0 = model.intercept_[0]\n",
    "    w1 = model.coef_.flatten()[0]\n",
    "    w2 = model.coef_.flatten()[1]\n",
    "    \n",
    "    a = - w1 / w2\n",
    "    b = - w0 / w2\n",
    "\n",
    "    x = np.linspace(x_min, x_max)\n",
    "    y = x * a + b\n",
    "    \n",
    "    x_origin_scale, y_origin_scale = scaler.inverse_transform(np.array([x, y]).T).T\n",
    "    \n",
    "    plt.plot(x_origin_scale, y_origin_scale)\n",
    "\n",
    "# Graph format\n",
    "plt.legend(['Linear classification', 'SVM classification', 'SGD classification'])\n",
    "plt.title('Classify Setosa vs Versicolor: comparison of 3 models ')\n",
    "plt.xlabel('petal length (cm)')\n",
    "plt.ylabel('petal width (cm)')\n",
    "plt.axis([0, 5.5, 0, 2])\n",
    "plt.show()"
   ]
  },
  {
   "cell_type": "markdown",
   "metadata": {},
   "source": [
    "We can see on the graph that the 3 models are pretty similar."
   ]
  }
 ],
 "metadata": {
  "anaconda-cloud": {},
  "kernelspec": {
   "display_name": "Python [default]",
   "language": "python",
   "name": "python3"
  },
  "language_info": {
   "codemirror_mode": {
    "name": "ipython",
    "version": 3
   },
   "file_extension": ".py",
   "mimetype": "text/x-python",
   "name": "python",
   "nbconvert_exporter": "python",
   "pygments_lexer": "ipython3",
   "version": "3.5.4"
  }
 },
 "nbformat": 4,
 "nbformat_minor": 2
}
